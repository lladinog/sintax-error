{
 "cells": [
  {
   "cell_type": "markdown",
   "id": "24c0060a",
   "metadata": {},
   "source": [
    "**IMPORTAR LIBRERIAS**"
   ]
  },
  {
   "cell_type": "markdown",
   "id": "ea6182c6",
   "metadata": {},
   "source": [
    "---"
   ]
  },
  {
   "cell_type": "code",
   "execution_count": 4,
   "id": "c1e44092",
   "metadata": {},
   "outputs": [],
   "source": [
    "# Librerias de manejo de datos\n",
    "import pandas as pd"
   ]
  },
  {
   "cell_type": "code",
   "execution_count": 5,
   "id": "0e7a20e9",
   "metadata": {},
   "outputs": [
    {
     "name": "stdout",
     "output_type": "stream",
     "text": [
      "✅ Conexión exitosa a la base de datos\n"
     ]
    }
   ],
   "source": [
    "# Importar conexión\n",
    "from db_connection import get_connection\n",
    "\n",
    "# Conectarse a la base de datos\n",
    "conexion = get_connection()\n",
    "cursor = conexion.cursor()\n"
   ]
  },
  {
   "cell_type": "code",
   "execution_count": 6,
   "id": "e54641f7",
   "metadata": {},
   "outputs": [],
   "source": [
    "# Importar librerías para la conexión a la base de datos con SQLAlchemy\n",
    "from db_connection import get_engine\n",
    "\n",
    "engine = get_engine()"
   ]
  },
  {
   "cell_type": "code",
   "execution_count": 7,
   "id": "dcf0caf4",
   "metadata": {},
   "outputs": [
    {
     "name": "stdout",
     "output_type": "stream",
     "text": [
      "Total de tablas encontradas: 50\n"
     ]
    }
   ],
   "source": [
    "# 📌 Obtener todas las tablas\n",
    "cursor.execute(\"SHOW TABLES;\")\n",
    "tablas = [fila[0] for fila in cursor.fetchall()]\n",
    "print(f\"Total de tablas encontradas: {len(tablas)}\")\n"
   ]
  },
  {
   "cell_type": "markdown",
   "id": "28208439",
   "metadata": {},
   "source": [
    "---"
   ]
  },
  {
   "cell_type": "markdown",
   "id": "5ba97470",
   "metadata": {},
   "source": [
    "**FUNCIONES**"
   ]
  },
  {
   "cell_type": "markdown",
   "id": "58231edf",
   "metadata": {},
   "source": [
    "---"
   ]
  },
  {
   "cell_type": "code",
   "execution_count": 8,
   "id": "1bc6a9e8",
   "metadata": {},
   "outputs": [],
   "source": [
    "def borrar_lista_tablas(tablas_a_borrar):\n",
    "    \"\"\"\n",
    "    Borra las tablas de la base de datos que se pasan como argumento.\n",
    "    \"\"\"\n",
    "    for tabla in tablas_a_borrar:\n",
    "        try:\n",
    "            cursor.execute(f\"DROP TABLE `{tabla}`;\")\n",
    "            tablas.remove(tabla)\n",
    "            print(f\"✅ Tabla eliminada: {tabla}\")\n",
    "        except Exception as e:\n",
    "            print(f\"❌ Error al eliminar {tabla}: {e}\")\n",
    "    \n",
    "    # Confirmar cambios\n",
    "    conexion.commit()"
   ]
  },
  {
   "cell_type": "markdown",
   "id": "dc0595a5",
   "metadata": {},
   "source": [
    "------"
   ]
  },
  {
   "cell_type": "markdown",
   "id": "cf0ecba4",
   "metadata": {},
   "source": [
    "**FILTROS PARA SEGREGAR Y ELIMINAR LAS TABLAS QUE NO SON ÚTILES**\n"
   ]
  },
  {
   "cell_type": "markdown",
   "id": "0c15b9e5",
   "metadata": {},
   "source": [
    "---"
   ]
  },
  {
   "cell_type": "markdown",
   "id": "e35c67df",
   "metadata": {},
   "source": [
    "*PRIMER FILTRO: Tablas con menos de 2 registros*"
   ]
  },
  {
   "cell_type": "code",
   "execution_count": 9,
   "id": "8fb27c13",
   "metadata": {},
   "outputs": [
    {
     "name": "stdout",
     "output_type": "stream",
     "text": [
      "\n",
      "Tablas candidatas para eliminación (0):\n",
      "[]\n"
     ]
    }
   ],
   "source": [
    "# Escoger tablas a eliminar\n",
    "tablas_a_borrar = []\n",
    "\n",
    "for tabla in tablas:\n",
    "    try:\n",
    "        cursor.execute(f\"SELECT COUNT(*) FROM `{tabla}`;\")\n",
    "        total = cursor.fetchone()[0]\n",
    "        if total <= 1:\n",
    "            tablas_a_borrar.append(tabla)\n",
    "    except Exception as e:\n",
    "        print(f\"❌ Error evaluando tabla {tabla}: {e}\")\n",
    "\n",
    "print(f\"\\nTablas candidatas para eliminación ({len(tablas_a_borrar)}):\")\n",
    "print(tablas_a_borrar)\n"
   ]
  },
  {
   "cell_type": "code",
   "execution_count": 10,
   "id": "0ee36ee8",
   "metadata": {},
   "outputs": [],
   "source": [
    "# ⚠️ Solo si tienes respaldo y estás en entorno seguro\n",
    "# ELIMINAR TABLAS CANDIDATAS\n",
    "\n",
    "# Desactivar restricciones\n",
    "cursor.execute(\"SET FOREIGN_KEY_CHECKS=0;\")\n",
    "\n",
    "borrar_lista_tablas(tablas_a_borrar)\n",
    "\n",
    "# Volver a activar restricciones\n",
    "cursor.execute(\"SET FOREIGN_KEY_CHECKS=1;\")\n",
    "\n"
   ]
  },
  {
   "cell_type": "markdown",
   "id": "e2e7a1e4",
   "metadata": {},
   "source": [
    "---"
   ]
  },
  {
   "cell_type": "markdown",
   "id": "13dd894a",
   "metadata": {},
   "source": [
    "*SEGUNDO FILTRO: Tablas posiblemente innecesarias por el nombre y breve análisis*"
   ]
  },
  {
   "cell_type": "code",
   "execution_count": 11,
   "id": "50927f7a",
   "metadata": {},
   "outputs": [
    {
     "name": "stdout",
     "output_type": "stream",
     "text": [
      "accounting_account_balances\n",
      "accounting_accounts\n",
      "accounting_movements\n",
      "accounting_voucher_items\n",
      "accounting_voucher_types\n",
      "accounting_vouchers\n",
      "billing_numberings\n",
      "contact_relationships\n",
      "contact_statements\n",
      "contacts\n",
      "contract_salary_history\n",
      "costs_and_expenses\n",
      "costs_and_expenses_categories\n",
      "coupons\n",
      "document_items\n",
      "documents\n",
      "ecommerce_legal_info\n",
      "ecommerce_purchase_orders\n",
      "employee_contracts\n",
      "employee_positions\n",
      "employees\n",
      "fixed_asset_depreciations\n",
      "fixed_assets\n",
      "fixed_assets_groups\n",
      "headquarter_warehouses\n",
      "headquarters\n",
      "inventory_adjustments\n",
      "inventory_groups\n",
      "item_balance\n",
      "item_categories\n",
      "item_depreciations\n",
      "item_kardex\n",
      "item_subcategories\n",
      "item_variations\n",
      "items\n",
      "payment_conditions\n",
      "payments\n",
      "payroll_deductions\n",
      "payroll_details\n",
      "payroll_incomes\n",
      "payroll_providers\n",
      "payrolls\n",
      "price_lists\n",
      "retention_concepts\n",
      "retentions\n",
      "retentions_applied\n",
      "retentions_certificates\n",
      "taxes\n",
      "warehouse_transfer_logs\n",
      "warehouses\n"
     ]
    }
   ],
   "source": [
    "# Imprimir los nombres de las tablas restantes\n",
    "for tabla in tablas:\n",
    "    print(tabla)\n"
   ]
  },
  {
   "cell_type": "markdown",
   "id": "1f0d1819",
   "metadata": {},
   "source": [
    "*ANÁLISIS Y CONCLUSIONES DE LA INFORMACIÓN OBTENIDA*"
   ]
  },
  {
   "cell_type": "markdown",
   "id": "9e49afb7",
   "metadata": {},
   "source": [
    "**Tablas clave para análisis de gestión empresarial (💡 Mantener)**\n",
    "\n",
    "Estas son probablemente las más útiles para análisis de KPIs, dashboards o visualización de negocio:\n",
    "\n",
    "*Categoría\t//  Tablas clave*\n",
    "\n",
    "📦 Inventario\t= items, item_balance, item_kardex, warehouses, inventory_adjustments, item_categories, item_subcategories, item_variations\n",
    "\n",
    "💼 Ventas / Documentos\t= documents, document_items, contacts (clientes/proveedores)\n",
    "\n",
    "🧾 Contabilidad\t= accounting_vouchers, accounting_voucher_items, accounting_accounts, accounting_movements, retentions, retention_concepts, retentions_applied, accounting_account_balances\n",
    "\n",
    "👥 Empleados / Nómina\t= employees, employee_contracts, payrolls, payroll_details, payroll_incomes, payroll_deductions\n",
    "\n",
    "🛒 Compras\t= ecommerce_purchase_orders\n",
    "\n",
    "📊 Precios\t= price_lists\n",
    "\n",
    "🏪 Organización\t= headquarters, user_headquarters, roles, user_roles, company_areas\n",
    "\n",
    "🧾 Impuestos\t= taxes\n",
    "\n",
    "🏭 Activos fijos\t= fixed_assets, fixed_asset_depreciations, fixed_assets_groups\n"
   ]
  },
  {
   "cell_type": "markdown",
   "id": "335571bb",
   "metadata": {},
   "source": [
    "**Relevancia baja o dependiente del contexto (🤔 Revisar)**\n",
    "\n",
    "*Estas podrían ser útiles dependiendo del foco del proyecto (clientes, pedidos, legal, e-commerce):*\n",
    "\n",
    "contact_relationships, contact_accounts, contact_statements\n",
    "\n",
    "coupons, coupon_groups (si hay ecommerce)\n",
    "\n",
    "employee_positions, contract_salary_history\n",
    "\n",
    "plan_electronic_documents, plan_system_controller\n",
    "\n",
    "ecommerce_legal_info\n",
    "\n",
    "costs_and_expenses, costs_and_expenses_categories\n",
    "\n",
    "radian_documents (puede ser de facturación electrónica)\n",
    "\n",
    "dining_tables (¿restaurante? puede ser irrelevante)\n",
    "\n",
    "system_counters, system_restrictions"
   ]
  },
  {
   "cell_type": "code",
   "execution_count": 12,
   "id": "702f90f2",
   "metadata": {},
   "outputs": [],
   "source": [
    "# Lista de tablas candidatas a eliminar\n",
    "tablas_candidatas = [\n",
    "    \"api_access_tokens\",\n",
    "    \"electronic_payroll_test_set\",\n",
    "    \"migrations\",\n",
    "    \"oauth_clients\",\n",
    "    \"paynilo\",\n",
    "    \"role_permissions\",\n",
    "    \"template_versions\",\n",
    "    \"templates\",\n",
    "    \"user_data\",\n",
    "    \"values_x_item\",\n",
    "    \"warehouse_transfer_logs\",\n",
    "    \"billing_numberings\",\n",
    "    \"custom_fields\",\n",
    "    \"configurations\",\n",
    "    \"system_counters\",\n",
    "    \"system_restrictions\"\n",
    "]"
   ]
  },
  {
   "cell_type": "markdown",
   "id": "b1a52865",
   "metadata": {},
   "source": [
    "---"
   ]
  },
  {
   "cell_type": "markdown",
   "id": "cf8073e1",
   "metadata": {},
   "source": [
    "*TERCER FILTRO: tablas a eliminar según sus columnas y número de filas*"
   ]
  },
  {
   "cell_type": "code",
   "execution_count": 27,
   "id": "81b14fbf",
   "metadata": {},
   "outputs": [
    {
     "name": "stdout",
     "output_type": "stream",
     "text": [
      "\n",
      "--- Bloque 6 (VERSIÓN DIRECTA): Limpieza de JSONs en 'employees' con Pandas ---\n",
      "Reestableciendo conexión a la base de datos para el bloque de 'employees'...\n",
      "✅ Conexión exitosa a la base de datos\n",
      "✅ Conexión y cursor reestablecidos exitosamente para 'employees'.\n",
      "✅ Engine de base de datos obtenido.\n",
      "\n",
      "Deshabilitando temporalmente las verificaciones de claves foráneas...\n",
      "✅ Verificaciones de claves foráneas deshabilitadas.\n",
      "\n",
      "Modificando las columnas JSON a VARCHAR(255) NULL...\n",
      "✅ Columnas JSON modificadas a VARCHAR(255) NULL exitosamente.\n",
      "\n",
      "Re-habilitando las verificaciones de claves foráneas...\n",
      "✅ Verificaciones de claves foráneas re-habilitadas.\n",
      "\n",
      "Cargando la tabla 'employees' en un DataFrame de Pandas...\n",
      "DataFrame de 'employees' cargado. Registros: 38\n",
      "\n",
      "Iniciando aplanamiento de columnas (previamente JSON) en Pandas...\n",
      "Procesando columna: 'identity_document_type'...\n",
      "   Columna 'identity_document_type' aplanada a valor extraído o NULL.\n",
      "Procesando columna: 'country'...\n",
      "   Columna 'country' aplanada a valor extraído o NULL.\n",
      "Procesando columna: 'region'...\n",
      "   Columna 'region' aplanada a valor extraído o NULL.\n",
      "Procesando columna: 'city'...\n",
      "   Columna 'city' aplanada a valor extraído o NULL.\n",
      "Procesando columna: 'emergency_contact'...\n",
      "   Columna 'emergency_contact' aplanada a valor extraído o NULL.\n",
      "Procesando columna: 'payment_method'...\n",
      "   Columna 'payment_method' aplanada a valor extraído o NULL.\n",
      "Procesando columna: 'bank'...\n",
      "   Columna 'bank' aplanada a valor extraído o NULL.\n",
      "Procesando columna: 'bank_account_type'...\n",
      "   Columna 'bank_account_type' aplanada a valor extraído o NULL.\n",
      "✅ Aplanamiento de columnas completado.\n",
      "\n",
      "Preparando DataFrame para la actualización (manejo de nulos y tipos)...\n",
      "✅ DataFrame preparado para la actualización.\n",
      "\n",
      "--- Actualizando registros en 'employees' con datos limpios ---\n",
      "DEBUG: SQL de UPDATE generado: UPDATE `employees` SET `uuid` = %s, `identity_document_type` = %s, `document_number` = %s, `birth_date` = %s, `first_name` = %s, `other_name` = %s, `f...\n",
      "DEBUG: Columnas que se actualizarán: ['uuid', 'identity_document_type', 'document_number', 'birth_date', 'first_name', 'other_name', 'first_surname', 'second_surname', 'full_name', 'phone', 'email', 'country', 'region', 'city', 'address', 'headquarter_id', 'company_area_id', 'employee_position_id', 'emergency_contact', 'payment_type', 'payment_method', 'bank', 'bank_account_type', 'bank_account_number', 'status', 'settled', 'user_id', 'created_at', 'updated_at']\n",
      "   Progreso: 5/38 registros procesados...\n",
      "   Progreso: 10/38 registros procesados...\n",
      "   Progreso: 15/38 registros procesados...\n",
      "   Progreso: 20/38 registros procesados...\n",
      "   Progreso: 25/38 registros procesados...\n",
      "   Progreso: 30/38 registros procesados...\n",
      "   Progreso: 35/38 registros procesados...\n",
      "✅ Actualización de 38 registros en la tabla 'employees' completada exitosamente.\n",
      "\n",
      "✅ Limpieza y aplanamiento de JSONs en 'employees' finalizada exitosamente.\n",
      "✅ Verificaciones de claves foráneas re-habilitadas en el bloque 'finally'.\n",
      "La conexión a la base de datos se mantiene abierta según la solicitud.\n"
     ]
    }
   ],
   "source": [
    "# Script para limpiar y aplanar columnas JSON en 'employees' (VERSIÓN DIRECTA CON FK_CHECKS DESHABILITADO)\n",
    "\n",
    "import pandas as pd\n",
    "import json\n",
    "import numpy as np\n",
    "from db_connection import get_engine, get_connection\n",
    "\n",
    "print(\"\\n--- Bloque 6 (VERSIÓN DIRECTA): Limpieza de JSONs en 'employees' con Pandas ---\")\n",
    "\n",
    "conexion = None\n",
    "cursor = None\n",
    "try:\n",
    "    print(\"Reestableciendo conexión a la base de datos para el bloque de 'employees'...\")\n",
    "    conexion = get_connection()\n",
    "    cursor = conexion.cursor()\n",
    "    engine = get_engine()\n",
    "    print(\"✅ Conexión y cursor reestablecidos exitosamente para 'employees'.\")\n",
    "    print(\"✅ Engine de base de datos obtenido.\")\n",
    "\n",
    "    # --- PASO CRÍTICO: Deshabilitar temporalmente las verificaciones de claves foráneas ---\n",
    "    # Esto permite realizar el ALTER TABLE sin problemas de IDs huérfanos.\n",
    "    print(\"\\nDeshabilitando temporalmente las verificaciones de claves foráneas...\")\n",
    "    cursor.execute(\"SET FOREIGN_KEY_CHECKS = 0;\")\n",
    "    print(\"✅ Verificaciones de claves foráneas deshabilitadas.\")\n",
    "\n",
    "    # --- PASO 1: Modificar la estructura de la tabla 'employees' ---\n",
    "    # Convertir las columnas JSON a VARCHAR(255) NULL\n",
    "    print(\"\\nModificando las columnas JSON a VARCHAR(255) NULL...\")\n",
    "    alter_table_sql = \"\"\"\n",
    "        ALTER TABLE employees\n",
    "        MODIFY COLUMN identity_document_type VARCHAR(255) NULL,\n",
    "        MODIFY COLUMN country VARCHAR(255) NULL,\n",
    "        MODIFY COLUMN region VARCHAR(255) NULL,\n",
    "        MODIFY COLUMN city VARCHAR(255) NULL,\n",
    "        MODIFY COLUMN emergency_contact VARCHAR(255) NULL,\n",
    "        MODIFY COLUMN payment_method VARCHAR(255) NULL,\n",
    "        MODIFY COLUMN bank VARCHAR(255) NULL,\n",
    "        MODIFY COLUMN bank_account_type VARCHAR(255) NULL;\n",
    "    \"\"\"\n",
    "    try:\n",
    "        cursor.execute(alter_table_sql)\n",
    "        conexion.commit() # Confirmar el cambio de estructura\n",
    "        print(\"✅ Columnas JSON modificadas a VARCHAR(255) NULL exitosamente.\")\n",
    "    except Exception as e:\n",
    "        conexion.rollback()\n",
    "        print(f\"❌ Error al modificar las columnas JSON: {e}\")\n",
    "        raise # Re-lanza el error para detener el script\n",
    "\n",
    "    # --- PASO CRÍTICO: Re-habilitar las verificaciones de claves foráneas ---\n",
    "    # Es FUNDAMENTAL re-habilitarlas inmediatamente después.\n",
    "    print(\"\\nRe-habilitando las verificaciones de claves foráneas...\")\n",
    "    cursor.execute(\"SET FOREIGN_KEY_CHECKS = 1;\")\n",
    "    print(\"✅ Verificaciones de claves foráneas re-habilitadas.\")\n",
    "\n",
    "    # 1. Cargar la tabla 'employees' completa en un DataFrame de Pandas\n",
    "    print(\"\\nCargando la tabla 'employees' en un DataFrame de Pandas...\")\n",
    "    df_employees = pd.read_sql(\"SELECT * FROM employees;\", engine)\n",
    "    print(f\"DataFrame de 'employees' cargado. Registros: {len(df_employees)}\")\n",
    "\n",
    "    # Lista de columnas que eran JSON (ahora son VARCHAR en la DB)\n",
    "    json_columns = [\n",
    "        'identity_document_type', 'country', 'region', 'city',\n",
    "        'emergency_contact', 'payment_method', 'bank', 'bank_account_type'\n",
    "    ]\n",
    "\n",
    "    # 2. Iterar sobre cada columna (ahora VARCHAR, pero con contenido JSON previo) y aplanarla\n",
    "    print(\"\\nIniciando aplanamiento de columnas (previamente JSON) en Pandas...\")\n",
    "\n",
    "    def extract_json_value(json_str):\n",
    "        # Manejar casos donde la columna ya fue aplanada o es None/NaN\n",
    "        if pd.isna(json_str) or not isinstance(json_str, str) or not json_str.strip():\n",
    "            return None\n",
    "        # Si la cadena no parece JSON (ej. ya es un valor aplanado), devolverla tal cual\n",
    "        if not json_str.strip().startswith('{') and not json_str.strip().startswith('['):\n",
    "            return json_str # Ya está aplanado, o es un string simple no JSON\n",
    "        try:\n",
    "            data = json.loads(json_str)\n",
    "            if isinstance(data, dict):\n",
    "                if 'description' in data and data['description'] is not None:\n",
    "                    return str(data['description'])\n",
    "                elif 'name' in data and data['name'] is not None:\n",
    "                    return str(data['name'])\n",
    "                elif 'code' in data and data['code'] is not None:\n",
    "                    return str(data['code'])\n",
    "            return None\n",
    "        except json.JSONDecodeError:\n",
    "            # Si no es un JSON válido, pero es una cadena, devolverla.\n",
    "            # Esto maneja el caso donde la columna ya fue aplanada manualmente o contiene basura.\n",
    "            return json_str if json_str.strip() else None\n",
    "        except Exception as e:\n",
    "            return None\n",
    "\n",
    "    for col in json_columns:\n",
    "        print(f\"Procesando columna: '{col}'...\")\n",
    "        if col in df_employees.columns:\n",
    "            df_employees[col] = df_employees[col].astype(str)\n",
    "            df_employees[col] = df_employees[col].apply(extract_json_value)\n",
    "            print(f\"   Columna '{col}' aplanada a valor extraído o NULL.\")\n",
    "        else:\n",
    "            print(f\"   Advertencia: Columna '{col}' no encontrada en el DataFrame.\")\n",
    "    print(\"✅ Aplanamiento de columnas completado.\")\n",
    "\n",
    "    # 3. Manejo de valores nulos y tipos de datos para la actualización\n",
    "    print(\"\\nPreparando DataFrame para la actualización (manejo de nulos y tipos)...\")\n",
    "\n",
    "    # Volvemos a obtener la descripción de la tabla para asegurarnos de que los tipos son los nuevos (VARCHAR)\n",
    "    cursor.execute(\"DESCRIBE `employees`;\")\n",
    "    db_columns_info = cursor.fetchall()\n",
    "    db_column_names = [col_info[0] for col_info in db_columns_info]\n",
    "    db_column_types = {col_info[0]: col_info[1] for col_info in db_columns_info}\n",
    "\n",
    "    valid_columns_for_update = [\n",
    "        col for col in df_employees.columns\n",
    "        if isinstance(col, str) and col != 'id' and col in db_column_names\n",
    "    ]\n",
    "\n",
    "    for col in df_employees.columns:\n",
    "        if col in valid_columns_for_update or col == 'id':\n",
    "            if df_employees[col].dtype == 'object':\n",
    "                df_employees[col] = df_employees[col].replace({np.nan: None, 'nan': None, '': None})\n",
    "            elif pd.api.types.is_numeric_dtype(df_employees[col]) and df_employees[col].isnull().any():\n",
    "                if pd.api.types.is_integer_dtype(df_employees[col]):\n",
    "                     df_employees[col] = df_employees[col].astype(pd.Int64Dtype())\n",
    "                df_employees[col] = df_employees[col].replace({np.nan: None})\n",
    "\n",
    "            if pd.api.types.is_bool_dtype(df_employees[col]):\n",
    "                df_employees[col] = df_employees[col].map({True: 1, False: 0, None: None, np.nan: None})\n",
    "\n",
    "            if pd.api.types.is_string_dtype(df_employees[col]) and col in db_column_types:\n",
    "                mysql_type = db_column_types[col].lower()\n",
    "                if 'varchar' in mysql_type:\n",
    "                    try:\n",
    "                        max_len = int(mysql_type.split('(')[1].split(')')[0])\n",
    "                        long_strings = df_employees[df_employees[col].astype(str).str.len() > max_len][col]\n",
    "                        if not long_strings.empty:\n",
    "                            print(f\"   ⚠️ ADVERTENCIA: Columna '{col}' tiene strings más largos que {max_len} caracteres.\")\n",
    "                            print(f\"     Primeros 5 valores problemáticos: {long_strings.head().tolist()}\")\n",
    "                    except (IndexError, ValueError):\n",
    "                        pass\n",
    "\n",
    "    print(\"✅ DataFrame preparado para la actualización.\")\n",
    "\n",
    "    # 4. Actualizar los registros con los datos limpios del DataFrame\n",
    "    print(\"\\n--- Actualizando registros en 'employees' con datos limpios ---\")\n",
    "\n",
    "    set_clauses = [f\"`{col}` = %s\" for col in valid_columns_for_update]\n",
    "    update_sql = f\"UPDATE `employees` SET {', '.join(set_clauses)} WHERE `id` = %s;\"\n",
    "\n",
    "    print(f\"DEBUG: SQL de UPDATE generado: {update_sql[:150]}...\")\n",
    "    print(f\"DEBUG: Columnas que se actualizarán: {valid_columns_for_update}\")\n",
    "\n",
    "    updated_count = 0\n",
    "    errors_encountered = 0\n",
    "    for index, row in df_employees.iterrows():\n",
    "        update_values = []\n",
    "        for col in valid_columns_for_update:\n",
    "            val = row[col]\n",
    "            if pd.isna(val) or (isinstance(val, (float, np.float64)) and np.isnan(val)):\n",
    "                update_values.append(None)\n",
    "            elif isinstance(val, (np.int64, np.int32)):\n",
    "                update_values.append(int(val))\n",
    "            elif isinstance(val, (np.bool_)):\n",
    "                update_values.append(bool(val))\n",
    "            else:\n",
    "                update_values.append(val)\n",
    "\n",
    "        update_values.append(row['id'])\n",
    "\n",
    "        try:\n",
    "            cursor.execute(update_sql, tuple(update_values))\n",
    "            updated_count += 1\n",
    "            if updated_count % 5 == 0:\n",
    "                print(f\"   Progreso: {updated_count}/{len(df_employees)} registros procesados...\")\n",
    "        except Exception as e:\n",
    "            errors_encountered += 1\n",
    "            print(f\"\\n❌❌ ERROR CRÍTICO al actualizar el registro con ID {row['id']}: {e}\")\n",
    "            print(f\"   SQL: {update_sql}\")\n",
    "            print(f\"   Valores problemáticos (ID={row['id']}): {tuple(update_values)}\")\n",
    "            raise\n",
    "\n",
    "    if errors_encountered > 0:\n",
    "        conexion.rollback()\n",
    "        print(f\"❌ Actualización finalizada con {errors_encountered} errores. Transacción revertida.\")\n",
    "    else:\n",
    "        conexion.commit()\n",
    "        print(f\"✅ Actualización de {updated_count} registros en la tabla 'employees' completada exitosamente.\")\n",
    "\n",
    "    print(\"\\n✅ Limpieza y aplanamiento de JSONs en 'employees' finalizada exitosamente.\")\n",
    "\n",
    "except Exception as e:\n",
    "    print(f\"\\n❌❌ Ocurrió un error general NO CAPTURADO en el bucle principal: {e}\")\n",
    "    print(\"Por favor, revisa la conexión a la base de datos o los datos en sí.\")\n",
    "    try:\n",
    "        if conexion and conexion.is_connected():\n",
    "            conexion.rollback()\n",
    "            print(\"Transacción revertida debido a un error.\")\n",
    "    except Exception as rollback_e:\n",
    "        print(f\"❌ Error adicional al intentar revertir la transacción: {rollback_e}\")\n",
    "finally:\n",
    "    # Asegúrate de re-habilitar las FKs incluso si hay un error en el try-except.\n",
    "    # Esto es CRÍTICO para mantener la integridad de tu base de datos.\n",
    "    if cursor is not None:\n",
    "        try:\n",
    "            cursor.execute(\"SET FOREIGN_KEY_CHECKS = 1;\")\n",
    "            print(\"✅ Verificaciones de claves foráneas re-habilitadas en el bloque 'finally'.\")\n",
    "        except Exception as e:\n",
    "            print(f\"❌ Advertencia: No se pudieron re-habilitar las FKs en finally: {e}\")\n",
    "\n",
    "    # La conexión a la base de datos se mantiene abierta según la solicitud.\n",
    "    print(\"La conexión a la base de datos se mantiene abierta según la solicitud.\")"
   ]
  },
  {
   "cell_type": "markdown",
   "id": "c1a0d171",
   "metadata": {},
   "source": [
    "**Tablas candidatas fuertes para eliminación (por contenido y nombre)**\n",
    "\n",
    "Estas tablas tienen pocos registros, estructuras irrelevantes para KPIs o funciones accesorias que no impactan directamente en la gestión:\n",
    "\n",
    "*Tabla\t// Motivo principal*\n",
    "\n",
    "api_access_tokens\tManejo técnico de tokens\n",
    "\n",
    "electronic_payroll_test_set\tDatos de prueba (test set)\n",
    "\n",
    "migrations\tSolo para migraciones del sistema\n",
    "\n",
    "oauth_clients\tSeguridad/autenticación interna\n",
    "\n",
    "paynilo\tIntegración de pagos externa\n",
    "\n",
    "role_permissions\tControl de permisos internos\n",
    "\n",
    "template_versions\tVersiones de plantillas, sin datos\n",
    "\n",
    "templates\tEstructura visual, no analítica\n",
    "\n",
    "user_data\tSolo datos de área/cargo del usuario\n",
    "\n",
    "custom_fields\tCampos personalizados (metadatos)\n",
    "\n",
    "system_counters\tEstadísticas internas del sistema\n",
    "\n",
    "system_restrictions\tRestricciones de uso/licencia\n",
    "\n",
    "values_x_item\tDatos muy técnicos por item, posiblemente redundantes\n",
    "\n",
    "warehouse_transfer_logs\tRegistro técnico, no necesariamente útil para KPIs"
   ]
  },
  {
   "cell_type": "markdown",
   "id": "f002ae8b",
   "metadata": {},
   "source": [
    "----"
   ]
  },
  {
   "cell_type": "markdown",
   "id": "ba4e3993",
   "metadata": {},
   "source": [
    "*CUARTO FILTRO: Investigar mas a fondo las tablas dudosas*"
   ]
  },
  {
   "cell_type": "markdown",
   "id": "c0748864",
   "metadata": {},
   "source": [
    "**⚠️ Tablas dudosas (verificar con .info() antes de decidir)**\n",
    "\n",
    "Estas tienen algo más de contenido o potencial analítico dependiendo del negocio:\n",
    "\n",
    "*billing_numberings:* Tiene 155 registros. Podría contener información útil para facturación si los números se asocian a documentos.\n",
    "\n",
    "*configurations:* Solo 25 registros, pero hay que ver si son configuraciones claves que afectan reportes.\n",
    "\n"
   ]
  },
  {
   "cell_type": "code",
   "execution_count": 14,
   "id": "2e551c8d",
   "metadata": {},
   "outputs": [
    {
     "name": "stdout",
     "output_type": "stream",
     "text": [
      "\n",
      "📋 Tabla: billing_numberings"
     ]
    },
    {
     "name": "stdout",
     "output_type": "stream",
     "text": [
      "\n",
      "▶️ .info():\n",
      "<class 'pandas.core.frame.DataFrame'>\n",
      "RangeIndex: 50 entries, 0 to 49\n",
      "Data columns (total 27 columns):\n",
      " #   Column                  Non-Null Count  Dtype         \n",
      "---  ------                  --------------  -----         \n",
      " 0   id                      50 non-null     int64         \n",
      " 1   document_type_id        50 non-null     int64         \n",
      " 2   pos_numbering           50 non-null     int64         \n",
      " 3   name                    50 non-null     object        \n",
      " 4   prefix                  50 non-null     object        \n",
      " 5   initial_number          50 non-null     int64         \n",
      " 6   current_number          50 non-null     int64         \n",
      " 7   final_number            22 non-null     float64       \n",
      " 8   valid_since             22 non-null     object        \n",
      " 9   valid_until             22 non-null     object        \n",
      " 10  validity                22 non-null     float64       \n",
      " 11  preferred               50 non-null     int64         \n",
      " 12  electronic_billing      50 non-null     int64         \n",
      " 13  is_ecommerce            50 non-null     int64         \n",
      " 14  resolution_number       19 non-null     object        \n",
      " 15  resolution_type         19 non-null     object        \n",
      " 16  resolution_description  19 non-null     object        \n",
      " 17  tech_key                5 non-null      object        \n",
      " 18  used                    50 non-null     int64         \n",
      " 19  template                31 non-null     object        \n",
      " 20  headquarter_id          50 non-null     int64         \n",
      " 21  warehouse_id            50 non-null     int64         \n",
      " 22  status                  50 non-null     int64         \n",
      " 23  user_id                 50 non-null     int64         \n",
      " 24  created_at              25 non-null     datetime64[ns]\n",
      " 25  updated_at              31 non-null     datetime64[ns]\n",
      " 26  contingency             50 non-null     int64         \n",
      "dtypes: datetime64[ns](2), float64(2), int64(14), object(9)\n",
      "memory usage: 10.7+ KB\n",
      "None\n",
      "▶️ Primeras filas:\n"
     ]
    },
    {
     "data": {
      "text/html": [
       "<div>\n",
       "<style scoped>\n",
       "    .dataframe tbody tr th:only-of-type {\n",
       "        vertical-align: middle;\n",
       "    }\n",
       "\n",
       "    .dataframe tbody tr th {\n",
       "        vertical-align: top;\n",
       "    }\n",
       "\n",
       "    .dataframe thead th {\n",
       "        text-align: right;\n",
       "    }\n",
       "</style>\n",
       "<table border=\"1\" class=\"dataframe\">\n",
       "  <thead>\n",
       "    <tr style=\"text-align: right;\">\n",
       "      <th></th>\n",
       "      <th>id</th>\n",
       "      <th>document_type_id</th>\n",
       "      <th>pos_numbering</th>\n",
       "      <th>name</th>\n",
       "      <th>prefix</th>\n",
       "      <th>initial_number</th>\n",
       "      <th>current_number</th>\n",
       "      <th>final_number</th>\n",
       "      <th>valid_since</th>\n",
       "      <th>valid_until</th>\n",
       "      <th>...</th>\n",
       "      <th>tech_key</th>\n",
       "      <th>used</th>\n",
       "      <th>template</th>\n",
       "      <th>headquarter_id</th>\n",
       "      <th>warehouse_id</th>\n",
       "      <th>status</th>\n",
       "      <th>user_id</th>\n",
       "      <th>created_at</th>\n",
       "      <th>updated_at</th>\n",
       "      <th>contingency</th>\n",
       "    </tr>\n",
       "  </thead>\n",
       "  <tbody>\n",
       "    <tr>\n",
       "      <th>0</th>\n",
       "      <td>1</td>\n",
       "      <td>11</td>\n",
       "      <td>0</td>\n",
       "      <td>Remisiones</td>\n",
       "      <td></td>\n",
       "      <td>0</td>\n",
       "      <td>56</td>\n",
       "      <td>NaN</td>\n",
       "      <td>None</td>\n",
       "      <td>None</td>\n",
       "      <td>...</td>\n",
       "      <td>None</td>\n",
       "      <td>1</td>\n",
       "      <td>{\"id\": 1, \"name\": \"Carta\", \"template_type\": \"1\"}</td>\n",
       "      <td>1</td>\n",
       "      <td>1</td>\n",
       "      <td>1</td>\n",
       "      <td>10</td>\n",
       "      <td>NaT</td>\n",
       "      <td>2024-05-24 09:54:00</td>\n",
       "      <td>0</td>\n",
       "    </tr>\n",
       "    <tr>\n",
       "      <th>1</th>\n",
       "      <td>2</td>\n",
       "      <td>12</td>\n",
       "      <td>0</td>\n",
       "      <td>Cotizaciones</td>\n",
       "      <td></td>\n",
       "      <td>0</td>\n",
       "      <td>91</td>\n",
       "      <td>NaN</td>\n",
       "      <td>None</td>\n",
       "      <td>None</td>\n",
       "      <td>...</td>\n",
       "      <td>None</td>\n",
       "      <td>1</td>\n",
       "      <td>{\"id\": 3, \"name\": \"POS\", \"template_type\": \"1\"}</td>\n",
       "      <td>1</td>\n",
       "      <td>1</td>\n",
       "      <td>1</td>\n",
       "      <td>10</td>\n",
       "      <td>NaT</td>\n",
       "      <td>2024-07-13 11:53:24</td>\n",
       "      <td>0</td>\n",
       "    </tr>\n",
       "    <tr>\n",
       "      <th>2</th>\n",
       "      <td>3</td>\n",
       "      <td>13</td>\n",
       "      <td>0</td>\n",
       "      <td>Recibos de Caja</td>\n",
       "      <td></td>\n",
       "      <td>0</td>\n",
       "      <td>506</td>\n",
       "      <td>NaN</td>\n",
       "      <td>None</td>\n",
       "      <td>None</td>\n",
       "      <td>...</td>\n",
       "      <td>None</td>\n",
       "      <td>1</td>\n",
       "      <td>{\"id\": 1, \"name\": \"Carta\", \"template_type\": \"1\"}</td>\n",
       "      <td>1</td>\n",
       "      <td>1</td>\n",
       "      <td>1</td>\n",
       "      <td>10</td>\n",
       "      <td>NaT</td>\n",
       "      <td>2024-07-17 10:58:41</td>\n",
       "      <td>0</td>\n",
       "    </tr>\n",
       "    <tr>\n",
       "      <th>3</th>\n",
       "      <td>4</td>\n",
       "      <td>14</td>\n",
       "      <td>0</td>\n",
       "      <td>Comprobantes de Pago</td>\n",
       "      <td></td>\n",
       "      <td>0</td>\n",
       "      <td>113</td>\n",
       "      <td>NaN</td>\n",
       "      <td>None</td>\n",
       "      <td>None</td>\n",
       "      <td>...</td>\n",
       "      <td>None</td>\n",
       "      <td>1</td>\n",
       "      <td>{\"id\": 1, \"name\": \"Carta\", \"template_type\": \"1\"}</td>\n",
       "      <td>1</td>\n",
       "      <td>1</td>\n",
       "      <td>1</td>\n",
       "      <td>0</td>\n",
       "      <td>NaT</td>\n",
       "      <td>2024-07-17 11:00:31</td>\n",
       "      <td>0</td>\n",
       "    </tr>\n",
       "    <tr>\n",
       "      <th>4</th>\n",
       "      <td>5</td>\n",
       "      <td>15</td>\n",
       "      <td>0</td>\n",
       "      <td>Órdenes de Compra</td>\n",
       "      <td></td>\n",
       "      <td>0</td>\n",
       "      <td>23</td>\n",
       "      <td>NaN</td>\n",
       "      <td>None</td>\n",
       "      <td>None</td>\n",
       "      <td>...</td>\n",
       "      <td>None</td>\n",
       "      <td>1</td>\n",
       "      <td>{\"id\": 1, \"name\": \"Carta\", \"template_type\": \"1\"}</td>\n",
       "      <td>1</td>\n",
       "      <td>1</td>\n",
       "      <td>1</td>\n",
       "      <td>0</td>\n",
       "      <td>NaT</td>\n",
       "      <td>2024-04-03 16:10:15</td>\n",
       "      <td>0</td>\n",
       "    </tr>\n",
       "  </tbody>\n",
       "</table>\n",
       "<p>5 rows × 27 columns</p>\n",
       "</div>"
      ],
      "text/plain": [
       "   id  document_type_id  pos_numbering                  name prefix  \\\n",
       "0   1                11              0            Remisiones          \n",
       "1   2                12              0          Cotizaciones          \n",
       "2   3                13              0       Recibos de Caja          \n",
       "3   4                14              0  Comprobantes de Pago          \n",
       "4   5                15              0     Órdenes de Compra          \n",
       "\n",
       "   initial_number  current_number  final_number valid_since valid_until  ...  \\\n",
       "0               0              56           NaN        None        None  ...   \n",
       "1               0              91           NaN        None        None  ...   \n",
       "2               0             506           NaN        None        None  ...   \n",
       "3               0             113           NaN        None        None  ...   \n",
       "4               0              23           NaN        None        None  ...   \n",
       "\n",
       "   tech_key  used                                          template  \\\n",
       "0      None     1  {\"id\": 1, \"name\": \"Carta\", \"template_type\": \"1\"}   \n",
       "1      None     1    {\"id\": 3, \"name\": \"POS\", \"template_type\": \"1\"}   \n",
       "2      None     1  {\"id\": 1, \"name\": \"Carta\", \"template_type\": \"1\"}   \n",
       "3      None     1  {\"id\": 1, \"name\": \"Carta\", \"template_type\": \"1\"}   \n",
       "4      None     1  {\"id\": 1, \"name\": \"Carta\", \"template_type\": \"1\"}   \n",
       "\n",
       "   headquarter_id warehouse_id status user_id created_at          updated_at  \\\n",
       "0               1            1      1      10        NaT 2024-05-24 09:54:00   \n",
       "1               1            1      1      10        NaT 2024-07-13 11:53:24   \n",
       "2               1            1      1      10        NaT 2024-07-17 10:58:41   \n",
       "3               1            1      1       0        NaT 2024-07-17 11:00:31   \n",
       "4               1            1      1       0        NaT 2024-04-03 16:10:15   \n",
       "\n",
       "  contingency  \n",
       "0           0  \n",
       "1           0  \n",
       "2           0  \n",
       "3           0  \n",
       "4           0  \n",
       "\n",
       "[5 rows x 27 columns]"
      ]
     },
     "metadata": {},
     "output_type": "display_data"
    },
    {
     "name": "stdout",
     "output_type": "stream",
     "text": [
      "\n",
      "📋 Tabla: configurations\n",
      "❌ Error al cargar configurations: (mysql.connector.errors.ProgrammingError) 1146 (42S02): Table 'novateam.configurations' doesn't exist\n",
      "[SQL: SELECT * FROM configurations]\n",
      "(Background on this error at: https://sqlalche.me/e/20/f405)\n"
     ]
    }
   ],
   "source": [
    "# Obtener el esquema de cada tabla para decidir si son candidatas a eliminación\n",
    "tablas_dudosas = ['billing_numberings', 'configurations'] # Agregar mas tablas si es necesario\n",
    "\n",
    "for tabla in tablas_dudosas:\n",
    "    print(f\"\\n📋 Tabla: {tabla}\")\n",
    "    try:\n",
    "        df = pd.read_sql(f\"SELECT * FROM {tabla}\", con=engine)\n",
    "        print(\"▶️ .info():\")\n",
    "        print(df.info())\n",
    "        print(\"▶️ Primeras filas:\")\n",
    "        display(df.head())\n",
    "    except Exception as e:\n",
    "        print(f\"❌ Error al cargar {tabla}: {e}\")\n"
   ]
  },
  {
   "cell_type": "markdown",
   "id": "28b7a189",
   "metadata": {},
   "source": [
    "---"
   ]
  },
  {
   "cell_type": "markdown",
   "id": "f07e5cbf",
   "metadata": {},
   "source": [
    "**TABLAS FINALES A ELIMINAR DESPUÉS DE TODOS LOS FILTROS Y ANÁLISIS INDIVIDUAL**"
   ]
  },
  {
   "cell_type": "markdown",
   "id": "7dfc491f",
   "metadata": {},
   "source": [
    "Falta escoger y seleccionar individualmente "
   ]
  },
  {
   "cell_type": "code",
   "execution_count": 15,
   "id": "67e8d147",
   "metadata": {},
   "outputs": [],
   "source": [
    "tablas_a_eliminar = [\n",
    "    \"api_access_tokens\",             # Manejo técnico de tokens\n",
    "    \"electronic_payroll_test_set\",   # Datos de prueba (test set)\n",
    "    \"migrations\",                    # Solo para migraciones del sistema\n",
    "    \"oauth_clients\",                 # Seguridad/autenticación interna\n",
    "    \"paynilo\",                       # Integración de pagos externa\n",
    "    \"role_permissions\",             # Control de permisos internos\n",
    "    \"template_versions\",            # Versiones de plantillas, sin datos\n",
    "    \"templates\",                    # Estructura visual, no analítica\n",
    "    \"user_data\",                    # Solo datos de área/cargo del usuario\n",
    "    \"custom_fields\",                # Campos personalizados (metadatos)\n",
    "    \"system_counters\",              # Estadísticas internas del sistema\n",
    "    \"system_restrictions\",          # Restricciones de uso/licencia\n",
    "    \"values_x_item\",                # Datos técnicos por ítem\n",
    "    \"user_roles\",\n",
    "    \"user_data\",\n",
    "    \"user_headquarters\",\n",
    "    \"term_and_conditions,\",\n",
    "    \"severance_payments\",\n",
    "    \"roles\", \n",
    "    \"role_permissions\",\n",
    "    \"radian_events\",\n",
    "    \"radian_documents\",\n",
    "    \"plan_system_controller\",\n",
    "    \"plan_electronic_documents\",\n",
    "    \"api_access_tokens\",\n",
    "    \"configurations\",\n",
    "    \"company_areas\",\n",
    "    \"consolidated_retention_certificates\",\n",
    "    \"contact_accounts\",\n",
    "    \"contact_relationship\",\n",
    "    \"contact_statement\",\n",
    "    \"contact\",\n",
    "    \"custom_fields\",\n",
    "    \"dining_tables\",\n",
    "    \"ecomerce_legal_info\",\n",
    "    \"ecomerce_purchase_orders\",\n",
    "    \"electronic_payroll_test_set\", \n",
    "    \"electronic_contracts\",\n",
    "    \"migraciones ]\"     # Registro técnico, no útil para KPIs\n",
    "\n",
    "]\n",
    "\n",
    "\n"
   ]
  },
  {
   "cell_type": "code",
   "execution_count": null,
   "id": "9205bfbc",
   "metadata": {},
   "outputs": [],
   "source": [
    "# ⚠️ Solo si tienes respaldo y estás en entorno seguro\n",
    "# ELIMINAR TABLAS FINALES ¡OJO HAY QUE ESCOGER ANTES DE EJECUTAR!\n",
    "\n",
    "# Desactivar restricciones !NO SE HACE ANTES DE VERIFICAR QUE NO GENERA NINGÚN DAÑO!\n",
    "# cursor.execute(\"SET FOREIGN_KEY_CHECKS=0;\")\n",
    "\n",
    "# borrar_lista_tablas(tablas_a_eliminar)\n",
    "\n",
    "# Volver a activar restricciones !NO SE HACE ANTES DE VERIFICAR QUE NO GENERA NINGÚN DAÑO!\n",
    "#cursor.execute(\"SET FOREIGN_KEY_CHECKS=1;\")\n",
    "#"
   ]
  },
  {
   "cell_type": "markdown",
   "id": "f112b1ab",
   "metadata": {},
   "source": [
    "**TABLAS ASIGNADAS AL ANÁLISIS DE RH - ALEXANDRA**\n",
    "A continuación, se irá explorando una a una, las tablas y su contenido para visualizar qué tan viables son para el ejercicio propuesto, se realizará limpieza de datos, se eliminarán nulls según convenga o se reemplazarán por n/a.  \n",
    "\n",
    "employee_positions, employees, , employee_contracts, contract_salary_history, payrolls, payroll_details, payroll_incomes, payroll_deductions, payroll_providers, costs_and_expenses, costs_and_expenses_categories, headquarters, coupons. \n",
    "\n"
   ]
  },
  {
   "cell_type": "code",
   "execution_count": null,
   "id": "65064874",
   "metadata": {},
   "outputs": [
    {
     "name": "stdout",
     "output_type": "stream",
     "text": [
      "✅ Conexión exitosa a la base de datos\n",
      "Columnas de la tabla 'employee_positions':\n",
      "  - id (int unsigned)\n",
      "  - name (varchar(255))\n",
      "  - description (varchar(500))\n",
      "  - salary (double(16,2))\n",
      "  - status (tinyint(1))\n",
      "  - user_id (int unsigned)\n",
      "  - created_at (timestamp)\n",
      "  - updated_at (timestamp)\n"
     ]
    }
   ],
   "source": [
    "#TABLA 1: EMPLOYEE_POSITIONS  O Posiciones de empleados. \n",
    "# Script para obtener la información de las columnas de 'employee_positions'\n",
    "\n",
    "# Conectarse a la base de datos\n",
    "conexion = get_connection()\n",
    "cursor = conexion.cursor()\n",
    "\n",
    "try:\n",
    "    # Obtener la descripción de las columnas de la tabla 'employee_positions'\n",
    "    cursor.execute(\"DESCRIBE employee_positions;\")\n",
    "    columnas_employee_positions = cursor.fetchall()\n",
    "\n",
    "    print(\"Columnas de la tabla 'employee_positions':\")\n",
    "    for columna in columnas_employee_positions:\n",
    "        # Cada 'columna' es una tupla con (nombre_columna, tipo_dato, ...)\n",
    "        print(f\"  - {columna[0]} ({columna[1]})\")\n",
    "\n",
    "except Exception as e:\n",
    "    print(f\"Ocurrió un error al intentar obtener las columnas de 'employee_positions': {e}\")"
   ]
  },
  {
   "cell_type": "markdown",
   "id": "3cd5f3b1",
   "metadata": {},
   "source": [
    "📊 Análisis Profundo de la Tabla employee_positions\n",
    "\n",
    "🎯 *Propósito y Relevancia Estratégica en RRHH*\n",
    "\n",
    "La tabla employee_positions es tu diccionario de cargos. Es donde cada puesto de trabajo en la empresa cobra vida, describiendo su rol y, a menudo, su valor salarial de referencia. Es fundamental para:\n",
    "\n",
    "Estructuración Organizacional: ¿Quién hace qué?\n",
    "Gestión de Compensaciones: ¿Cuánto valoramos cada rol?\n",
    "Planificación de Personal: ¿Qué roles necesitamos cubrir o crear?\n",
    "\n",
    "🔍 Columnas Clave y Consideraciones Cruciales\n",
    "\n",
    "id: int unsigned\n",
    "\n",
    "Identificador Único: La ✨ clave primaria ✨ de la tabla. Garantiza que cada posición es unívoca.\n",
    "Limpieza: No requiere acción. Es tu núcleo de referencia.\n",
    "name: varchar(255)\n",
    "\n",
    "Nombre del Puesto: El nombre que todos reconocen (ej., \"Gerente de Marketing\", \"Ingeniero de Software\").\n",
    "Limpieza: ¡Aquí hay trabajo! Busca variaciones o duplicados (ej., \"Developer\" vs. \"Desarrollador\"). La estandarización es clave para análisis coherentes. 🧼 Si hay nulos o vacíos, considera rellenar con \"Sin Nombre de Posición\".\n",
    "description: varchar(500)\n",
    "\n",
    "Detalle del Rol: Un texto que expande las responsabilidades de la posición.\n",
    "Limpieza: 📝 Los NULLs son aceptables aquí; no todas las descripciones son obligatorias. Si el contenido es vital para un análisis de texto, podrías reemplazar los NULLs con \"Sin Descripción\".\n",
    "salary: double(16,2)\n",
    "\n",
    "Salario de Referencia: El monto salarial asociado a este puesto. ¡Una métrica crucial!\n",
    "Limpieza: 💰 Revisa que los valores sean numéricos y lógicos. Ceros o valores negativos podrían indicar errores. Si hay NULLs, ¿significa \"salario no aplica\" o \"dato faltante\"? Decidir cómo manejar estos NULLs (imputación con promedio/mediana o dejarlos como None) es vital.\n",
    "status: tinyint(1)\n",
    "\n",
    "Estado de la Posición: Probablemente un indicador booleano (1 para activa, 0 para inactiva/archivada).\n",
    "Limpieza: ✅ Asegúrate de que solo contenga 0, 1 o NULL. En Python, esto se traducirá a True/False. Si hay NULLs, la interpretación común es \"inactiva\" (0).\n",
    "user_id: int unsigned\n",
    "\n",
    "Auditoría de Usuario: Posible clave foránea que indica quién creó o modificó el registro.\n",
    "Limpieza: 🧑‍💻 Útil para trazabilidad. Si es una FK, su integridad es importante para cualquier relación con una tabla de usuarios. NULLs aquí podrían significar un registro antiguo o automático.\n",
    "created_at: timestamp\n",
    "\n",
    "Marca de Creación: La fecha y hora exactas en que la posición fue añadida.\n",
    "Limpieza: ➕ Campo de auditoría. Generalmente limpio y no requiere acción directa, pero valioso para análisis históricos.\n",
    "updated_at: timestamp\n",
    "\n",
    "Última Actualización: La última vez que se modificó este registro.\n",
    "Limpieza: ✏️ Otro campo de auditoría. No requiere limpieza.\n",
    "\n",
    "🛠️ *Acciones Clave para Limpieza y Transformación*\n",
    "\n",
    "\n",
    "Para employee_positions, el enfoque principal es la estandarización y la coherencia de los datos, más que el aplanamiento de JSONs.\n",
    "\n",
    "🏷️ Estandarización de name:\n",
    "\n",
    "Identifica nombres de puestos similares y unifícalos (ej., \"Analista de Datos Jr.\" y \"Analista de Datos Junior\" -> \"Analista de Datos Junior\").\n",
    "Define una estrategia para NULLs o vacíos en name (reemplazar o marcar).\n",
    "💲 Gestión de Nulos en salary:\n",
    "\n",
    "Decide la política para los NULLs: ¿implican ausencia de salario para el rol, o un dato faltante que debería imputarse?\n",
    "Considera la imputación con la media o mediana si la ausencia de valor es un problema para el análisis.\n",
    "✅ Conversión y Consistencia de status:\n",
    "\n",
    "Asegúrate de que se interprete correctamente como booleano (True/False) en Python.\n",
    "Define cómo manejar los NULLs si aparecen en esta columna.\n",
    "🔗 Verificación de user_id (Clave Foránea):\n",
    "\n",
    "Si tienes una tabla de usuarios, es buena práctica verificar que todos los user_id en employee_positions correspondan a un id existente en la tabla de usuarios. Esto asegura la integridad referencial.\n",
    "📈 Potencial para Tableros BI y Métricas Clave\n",
    "Esta tabla es una mina de oro para métricas de estructura organizacional y compensación:\n",
    "\n",
    "Conteo de Puestos Activos: ¿Cuántas posiciones activas tenemos?\n",
    "Distribución Salarial por Puesto: ¿Cuál es el rango o promedio salarial para cada tipo de posición?\n",
    "Evolución de Puestos: ¿Cómo han cambiado los nombres de los puestos o la cantidad de roles a lo largo del tiempo? (Combinado con created_at).\n",
    "Roles Más Comunes: ¿Cuáles son las posiciones con más entradas (si hay duplicados en name o se refiere a instancias de una misma posición)?\n",
    "\n",
    "\n",
    "✅ *Descripción relacionada a las columnas*:\n",
    "id: int unsigned (Identificador único de la posición)\n",
    "name: varchar(255) (Nombre de la posición)\n",
    "description: varchar(500) (Descripción de la posición)\n",
    "salary: double(16,2) (Salario asociado a la posición)\n",
    "status: tinyint(1) (Estado de la posición, probablemente 1 para activa, 0 para inactiva)\n",
    "user_id: int unsigned (ID del usuario que creó o modificó el registro, parece una clave foránea a una tabla de usuarios)\n",
    "created_at: timestamp (Marca de tiempo de creación del registro)\n",
    "updated_at: timestamp (Marca de tiempo de la última actualización del registro)"
   ]
  },
  {
   "cell_type": "code",
   "execution_count": null,
   "id": "86f2be10",
   "metadata": {},
   "outputs": [
    {
     "name": "stdout",
     "output_type": "stream",
     "text": [
      "\n",
      "Total de registros en 'employee_positions': 15\n",
      "\n",
      "Valores nulos por columna en 'employee_positions':\n",
      "  - id: 0 nulos\n",
      "  - name: 0 nulos\n",
      "  - description: 0 nulos\n",
      "  - salary: 0 nulos\n",
      "  - status: 0 nulos\n",
      "  - user_id: 0 nulos\n",
      "  - created_at: 0 nulos\n",
      "  - updated_at: 0 nulos\n",
      "\n",
      "Filas duplicadas basadas en 'id' en 'employee_positions': 0\n",
      "\n",
      "Valores únicos en columnas clave de 'employee_positions':\n",
      "  - name (primeros 10 únicos): ['Desarrollador', 'General', 'Asistente Administrativo', 'Gerente', 'Tesorero principal', 'Contador General', 'Logístico Integral', 'Diseñador Web', 'Secretaria', 'Auxiliar de soporte']\n",
      "  - Total de nombres únicos: 14\n",
      "  - status: [1]\n"
     ]
    }
   ],
   "source": [
    "# Script para la verificación inicial de datos en 'employee_positions'\n",
    "try:\n",
    "    # 1. Obtener el número total de registros\n",
    "    cursor.execute(\"SELECT COUNT(*) FROM employee_positions;\")\n",
    "    total_registros = cursor.fetchone()[0]\n",
    "    print(f\"\\nTotal de registros en 'employee_positions': {total_registros}\")\n",
    "\n",
    "    # 2. Verificar valores nulos por columna\n",
    "    print(\"\\nValores nulos por columna en 'employee_positions':\")\n",
    "    for columna_info in columnas_employee_positions: # Usamos 'columnas_employee_positions' que ya obtuvimos\n",
    "        nombre_columna = columna_info[0]\n",
    "        cursor.execute(f\"SELECT COUNT(*) FROM employee_positions WHERE {nombre_columna} IS NULL;\")\n",
    "        nulos_count = cursor.fetchone()[0]\n",
    "        if nulos_count > 0:\n",
    "            print(f\"  - {nombre_columna}: {nulos_count} nulos\")\n",
    "        else:\n",
    "            print(f\"  - {nombre_columna}: 0 nulos\")\n",
    "\n",
    "    # 3. Verificar filas duplicadas (basado en todas las columnas, o solo el ID si es la clave primaria)\n",
    "    # Asumimos que 'id' debería ser único\n",
    "    cursor.execute(\"SELECT COUNT(id) - COUNT(DISTINCT id) FROM employee_positions;\")\n",
    "    duplicados_id = cursor.fetchone()[0]\n",
    "    print(f\"\\nFilas duplicadas basadas en 'id' en 'employee_positions': {duplicados_id}\")\n",
    "\n",
    "    \n",
    "    # 4. Obtener valores únicos para columnas específicas\n",
    "    print(\"\\nValores únicos en columnas clave de 'employee_positions':\")\n",
    "\n",
    "    # Para 'name'\n",
    "    cursor.execute(\"SELECT DISTINCT name FROM employee_positions LIMIT 10;\") # Limitar para no cargar demasiados si hay muchos\n",
    "    nombres_unicos = [fila[0] for fila in cursor.fetchall()]\n",
    "    print(f\"  - name (primeros 10 únicos): {nombres_unicos}\")\n",
    "    cursor.execute(\"SELECT COUNT(DISTINCT name) FROM employee_positions;\")\n",
    "    count_nombres_unicos = cursor.fetchone()[0]\n",
    "    print(f\"  - Total de nombres únicos: {count_nombres_unicos}\")\n",
    "\n",
    "    # Para 'status'\n",
    "    cursor.execute(\"SELECT DISTINCT status FROM employee_positions;\")\n",
    "    estados_unicos = [fila[0] for fila in cursor.fetchall()]\n",
    "    print(f\"  - status: {estados_unicos}\")\n",
    "\n",
    "\n",
    "except Exception as e:\n",
    "    print(f\"Ocurrió un error durante la verificación inicial de datos en 'employee_positions': {e}\")"
   ]
  },
  {
   "cell_type": "markdown",
   "id": "38cc5ef8",
   "metadata": {},
   "source": [
    "**Bloque 2: Limpieza y Transformación de la 1ra tabla: employee_positions**"
   ]
  },
  {
   "cell_type": "code",
   "execution_count": null,
   "id": "87d17882",
   "metadata": {},
   "outputs": [
    {
     "name": "stdout",
     "output_type": "stream",
     "text": [
      "\n",
      "Iniciando limpieza y transformación para 'employee_positions'...\n",
      "Corrigiendo error tipográfico en la columna 'name': 'Secretria' a 'Secretaria'...\n",
      "Corrección de 'name' completada.\n",
      "Rellenando valores nulos en la columna 'description' con 'N/A'...\n",
      "Relleno de 'description' completado.\n",
      "\n",
      "Limpieza y transformación de 'employee_positions' finalizada.\n"
     ]
    }
   ],
   "source": [
    "# Script para la limpieza y transformación de 'employee_positions'\n",
    "try:\n",
    "    print(\"\\nIniciando limpieza y transformación para 'employee_positions'...\")\n",
    "\n",
    "    # 1. Corrección de errores tipográficos en la columna 'name'\n",
    "    # Detectamos 'Secretria' que debería ser 'Secretaria'\n",
    "    print(\"Corrigiendo error tipográfico en la columna 'name': 'Secretria' a 'Secretaria'...\")\n",
    "    cursor.execute(\"\"\"\n",
    "        UPDATE employee_positions\n",
    "        SET name = 'Secretaria'\n",
    "        WHERE name = 'Secretria';\n",
    "    \"\"\")\n",
    "    conexion.commit() # Confirmar los cambios en la base de datos\n",
    "    print(\"Corrección de 'name' completada.\")\n",
    "\n",
    "    # 2. Manejo de valores nulos en la columna 'description'\n",
    "    # Rellenar con 'N/A' según lo acordado.\n",
    "    print(\"Rellenando valores nulos en la columna 'description' con 'N/A'...\")\n",
    "    cursor.execute(\"\"\"\n",
    "        UPDATE employee_positions\n",
    "        SET description = 'N/A'\n",
    "        WHERE description IS NULL;\n",
    "    \"\"\")\n",
    "    conexion.commit() # Confirmar los cambios\n",
    "    print(\"Relleno de 'description' completado.\")\n",
    "\n",
    "    print(\"\\nLimpieza y transformación de 'employee_positions' finalizada.\")\n",
    "\n",
    "except Exception as e:\n",
    "    print(f\"Ocurrió un error durante la limpieza y transformación de 'employee_positions': {e}\")\n",
    "    conexion.rollback() # Revertir cambios en caso de error"
   ]
  },
  {
   "cell_type": "markdown",
   "id": "78482788",
   "metadata": {},
   "source": [
    "**TABLA 2: EMPLOYEES o EMPLEADOS**\n"
   ]
  },
  {
   "cell_type": "code",
   "execution_count": null,
   "id": "35175f93",
   "metadata": {},
   "outputs": [
    {
     "name": "stdout",
     "output_type": "stream",
     "text": [
      "Columnas de la tabla 'employees':\n",
      "  - id (int unsigned)\n",
      "  - uuid (char(36))\n",
      "  - identity_document_type (json)\n",
      "  - document_number (varchar(25))\n",
      "  - birth_date (date)\n",
      "  - first_name (varchar(50))\n",
      "  - other_name (varchar(50))\n",
      "  - first_surname (varchar(50))\n",
      "  - second_surname (varchar(50))\n",
      "  - full_name (varchar(255))\n",
      "  - phone (varchar(25))\n",
      "  - email (varchar(75))\n",
      "  - country (json)\n",
      "  - region (json)\n",
      "  - city (json)\n",
      "  - address (varchar(255))\n",
      "  - headquarter_id (int unsigned)\n",
      "  - company_area_id (int unsigned)\n",
      "  - employee_position_id (int unsigned)\n",
      "  - emergency_contact (json)\n",
      "  - payment_type (tinyint unsigned)\n",
      "  - payment_method (json)\n",
      "  - bank (json)\n",
      "  - bank_account_type (json)\n",
      "  - bank_account_number (varchar(255))\n",
      "  - status (tinyint(1))\n",
      "  - settled (tinyint(1))\n",
      "  - user_id (int unsigned)\n",
      "  - created_at (timestamp)\n",
      "  - updated_at (timestamp)\n"
     ]
    }
   ],
   "source": [
    "# Script para obtener la información de las columnas de 'employees'\n",
    "try:\n",
    "    # Obtener la descripción de las columnas de la tabla 'employees'\n",
    "    cursor.execute(\"DESCRIBE employees;\")\n",
    "    columnas_employees = cursor.fetchall()\n",
    "\n",
    "    print(\"Columnas de la tabla 'employees':\")\n",
    "    for columna in columnas_employees:\n",
    "        # Cada 'columna' es una tupla con (nombre_columna, tipo_dato, ...)\n",
    "        print(f\"  - {columna[0]} ({columna[1]})\")\n",
    "\n",
    "except Exception as e:\n",
    "    print(f\"Ocurrió un error al intentar obtener las columnas de 'employees': {e}\")"
   ]
  },
  {
   "cell_type": "markdown",
   "id": "ac159c94",
   "metadata": {},
   "source": [
    "👥 *Análisis Detallado de Variables: Tabla employees*\n",
    "La tabla employees es el corazón de la información del talento humano. Aquí reside la identidad, contacto y datos clave de cada persona en la organización. Una correcta limpieza y comprensión de sus variables es fundamental para cualquier análisis de Recursos Humanos.\n",
    "\n",
    "🔑 *Identificadores y Datos Demográficos Clave*\n",
    "Estas variables nos permiten identificar a cada empleado y entender su perfil básico.\n",
    "id: INT UNSIGNED\n",
    "✨ Identificador único principal del empleado. Tu llave maestra para conectar con otros datos.\n",
    "uuid: CHAR(36)\n",
    "🔗 Identificador universal único. Piensa en él como un código \"global\" para integraciones con sistemas externos.\n",
    "identity_document_type: JSON 🚨\n",
    "📄 Tipo de documento de identidad (ej: Cédula, Pasaporte). \n",
    "document_number: VARCHAR(25)\n",
    "🔢 Número de identificación.\n",
    "birth_date: DATE\n",
    "🎂 Fecha de nacimiento. ¡Indispensable para calcular la edad y realizar análisis demográficos!\n",
    "first_name: VARCHAR(50)\n",
    "👤 Primer nombre.\n",
    "other_name: VARCHAR(50)\n",
    "✨ Otros nombres. \n",
    "first_surname: VARCHAR(50)\n",
    "apellido.\n",
    "second_surname: VARCHAR(50)\n",
    "Segundo apellido. \n",
    "full_name: VARCHAR(255) ⚠️\n",
    "Nombre completo. \n",
    "phone: VARCHAR(25)\n",
    "📞 Número de teléfono de contacto.\n",
    "email: VARCHAR(75)\n",
    "📧 Correo electrónico del empleado.\n",
    "\n",
    "📍 *Información de Ubicación y Estructura Organizacional*\n",
    "Estos campos nos ubican geográficamente y dentro del organigrama de la empresa.\n",
    "\n",
    "country: JSON 🚨\n",
    "🌎 País de residencia. ¡Otro JSON! Requiere aplanamiento para obtener el nombre legible del país.\n",
    "region: JSON 🚨\n",
    "🗺️ Región/Departamento/Estado. ¡Un JSON más! Necesita aplanamiento.\n",
    "city: JSON 🚨\n",
    "🏙️ Ciudad. ¡Sí, otro JSON a aplanar!\n",
    "address: VARCHAR(255)\n",
    "🏠 Dirección física completa.\n",
    "headquarter_id: INT UNSIGNED\n",
    "🏢 ID de la sede a la que pertenece el empleado. Es una clave foránea que apunta a la tabla headquarters.\n",
    "company_area_id: INT UNSIGNED\n",
    "📊 ID del área/departamento de la compañía. \n",
    "employee_position_id: INT \n",
    "💼 ID de la posición/cargo del empleado. Clave foránea que conecta con employee_positions.\n",
    "\n",
    "\n",
    "💳 *Contacto de Emergencia y Detalles Financieros*\n",
    "\n",
    "Datos cruciales para la gestión interna y operativa del empleado.\n",
    "\n",
    "emergency_contact: \n",
    "🆘 Contacto para emergencias. ¡Es un JSON! Podría contener nombre, relación y número. Es vital aplanarlo o procesarlo para acceder a estos detalles.\n",
    "payment_type: TINYINT \n",
    "💲 Tipo de pago (ej: fijo, por horas). El valor numérico se mapea a una descripción \n",
    "payment_method: \n",
    "🏦 Método de pago (ej: transferencia bancaria, cheque)\n",
    "💰 Información del banco del empleado.\n",
    "bank_account_type: \n",
    "💳 Tipo de cuenta bancaria (ej: ahorro, corriente). ¡Un JSON más a aplanar!\n",
    "\n",
    "\n",
    "🕰️ *Metadatos y Gestión del Registro*\n",
    "Información de auditoría y estado del registro.\n",
    "\n",
    "user_id: INT UNSIGNED\n",
    "🧑‍💻 ID del usuario que creó/modificó el registro.\n",
    "created_at: TIMESTAMP\n",
    "➕ Fecha y hora de creación del registro.\n",
    "updated_at: TIMESTAMP\n",
    "✏️ Fecha y hora de la última modificación. Crucial para rastrear cambios.\n",
    "deleted_at: TIMESTAMP 🗑️\n",
    "Fecha y hora de \"borrado lógico\". ¡MUY IMPORTANTE! Si esta columna tiene un valor, el empleado no está activo. \n",
    "🛠️ Acciones Clave para Limpieza y Transformación en employees\n",
    "Aplanamiento Masivo de JSONs: La prioridad es transformar todos los campos JSON (identificados con 🚨) en columnas planas y legibles (description o code).\n",
    "Manejo Inteligente de Nulos: Especial atención a other_name y second_surname. Decide si convertirlos a '' (cadena vacía) o NULL según tu necesidad.\n",
    "Gestión de full_name: Evalúa si es mejor usar las partes individuales del nombre y concatenarlas, o si confiar en full_name (y si es así, asegurar su consistencia).\n",
    "Filtrado por Actividad: Implementa el filtro WHERE deleted_at IS NULL para cualquier análisis que requiera solo empleados activos.*"
   ]
  },
  {
   "cell_type": "markdown",
   "id": "a8dfbc5a",
   "metadata": {},
   "source": [
    "Bloque 4: Verificación inicial de nulos, duplicados y valores únicos en employees\n"
   ]
  },
  {
   "cell_type": "code",
   "execution_count": 18,
   "id": "64581522",
   "metadata": {},
   "outputs": [
    {
     "name": "stdout",
     "output_type": "stream",
     "text": [
      "✅ Conexión exitosa a la base de datos\n",
      "\n",
      "--- Bloque 5: Limpieza y Transformación Inicial de 'employees' ---\n",
      "Iniciando operaciones de limpieza en 'employees'...\n",
      "Rellenando valores nulos en 'other_name', 'phone', 'email' con 'N/A'...\n",
      "Relleno de nulos completado.\n",
      "Estandarizando capitalización de nombres...\n",
      "Estandarización de capitalización completada.\n",
      "\n",
      "Limpieza y transformación inicial de 'employees' finalizada exitosamente.\n"
     ]
    }
   ],
   "source": [
    "# Importar conexión\n",
    "from db_connection import get_connection\n",
    "\n",
    "# Conectarse a la base de datos\n",
    "conexion = get_connection()\n",
    "cursor = conexion.cursor()\n",
    "\n",
    "# Script para la limpieza y transformación inicial de 'employees' (VERSION FINAL)\n",
    "print(\"\\n--- Bloque 5: Limpieza y Transformación Inicial de 'employees' ---\")\n",
    "\n",
    "try:\n",
    "    print(\"Iniciando operaciones de limpieza en 'employees'...\")\n",
    "\n",
    "    # 1. Manejo de valores nulos con 'N/A'\n",
    "    print(\"Rellenando valores nulos en 'other_name', 'phone', 'email' con 'N/A'...\")\n",
    "    cursor.execute(\"\"\"\n",
    "        UPDATE employees\n",
    "        SET other_name = 'N/A'\n",
    "        WHERE other_name IS NULL;\n",
    "    \"\"\")\n",
    "    conexion.commit() # Confirmar los cambios\n",
    "\n",
    "    cursor.execute(\"\"\"\n",
    "        UPDATE employees\n",
    "        SET phone = 'N/A'\n",
    "        WHERE phone IS NULL;\n",
    "    \"\"\")\n",
    "    conexion.commit() # Confirmar los cambios\n",
    "\n",
    "    cursor.execute(\"\"\"\n",
    "        UPDATE employees\n",
    "        SET email = 'N/A'\n",
    "        WHERE email IS NULL;\n",
    "    \"\"\")\n",
    "    conexion.commit() # Confirmar los cambios\n",
    "    print(\"Relleno de nulos completado.\")\n",
    "\n",
    "    # 2. Estandarización de capitalización para nombres\n",
    "    # Aplicar CONCAT y SUBSTRING solo a los valores que NO sean 'N/A' o cadenas vacías\n",
    "    print(\"Estandarizando capitalización de nombres...\")\n",
    "\n",
    "    # first_name\n",
    "    cursor.execute(\"\"\"\n",
    "        UPDATE employees\n",
    "        SET first_name = CONCAT(UPPER(SUBSTRING(first_name, 1, 1)), LOWER(SUBSTRING(first_name, 2)))\n",
    "        WHERE first_name IS NOT NULL AND first_name != '';\n",
    "    \"\"\")\n",
    "    conexion.commit()\n",
    "\n",
    "    # other_name (solo si no es 'N/A' o vacío)\n",
    "    cursor.execute(\"\"\"\n",
    "        UPDATE employees\n",
    "        SET other_name = CONCAT(UPPER(SUBSTRING(other_name, 1, 1)), LOWER(SUBSTRING(other_name, 2)))\n",
    "        WHERE other_name IS NOT NULL AND other_name != 'N/A' AND other_name != '';\n",
    "    \"\"\")\n",
    "    conexion.commit()\n",
    "\n",
    "    # first_surname\n",
    "    cursor.execute(\"\"\"\n",
    "        UPDATE employees\n",
    "        SET first_surname = CONCAT(UPPER(SUBSTRING(first_surname, 1, 1)), LOWER(SUBSTRING(first_surname, 2)))\n",
    "        WHERE first_surname IS NOT NULL AND first_surname != '';\n",
    "    \"\"\")\n",
    "    conexion.commit()\n",
    "\n",
    "    # second_surname (solo si no es 'N/A' o vacío)\n",
    "    cursor.execute(\"\"\"\n",
    "        UPDATE employees\n",
    "        SET second_surname = CONCAT(UPPER(SUBSTRING(second_surname, 1, 1)), LOWER(SUBSTRING(second_surname, 2)))\n",
    "        WHERE second_surname IS NOT NULL AND second_surname != 'N/A' AND second_surname != '';\n",
    "    \"\"\")\n",
    "    conexion.commit()\n",
    "\n",
    "    # full_name (solo si no es 'N/A' o vacío)\n",
    "    cursor.execute(\"\"\"\n",
    "        UPDATE employees\n",
    "        SET full_name = CONCAT(UPPER(SUBSTRING(full_name, 1, 1)), LOWER(SUBSTRING(full_name, 2)))\n",
    "        WHERE full_name IS NOT NULL AND full_name != 'N/A' AND full_name != '';\n",
    "    \"\"\")\n",
    "    conexion.commit()\n",
    "\n",
    "    print(\"Estandarización de capitalización completada.\")\n",
    "\n",
    "    print(\"\\nLimpieza y transformación inicial de 'employees' finalizada exitosamente.\")\n",
    "\n",
    "except Exception as e:\n",
    "    print(f\"Ocurrió un error inesperado durante la limpieza y transformación inicial de 'employees': {e}\")\n",
    "    # En caso de error, intentar limpiar el cursor y revertir.\n",
    "    try:\n",
    "        # Asegurar que cualquier resultado pendiente sea consumido antes de rollback\n",
    "        if cursor.description is not None:\n",
    "            cursor.fetchall()\n",
    "        conexion.rollback()\n",
    "        print(\"Transacción revertida debido a un error.\")\n",
    "    except Exception as rollback_e:\n",
    "        print(f\"Error adicional al intentar revertir la transacción o limpiar el cursor: {rollback_e}\")"
   ]
  },
  {
   "cell_type": "markdown",
   "id": "ccbd635e",
   "metadata": {},
   "source": [
    "💰  *Análisis realizado para la exploración en la segunda tabla y acciones a tomar* \n",
    "\n",
    "La tabla contract_salary_history es vital para comprender la evolución salarial de los empleados a lo largo del tiempo. Contiene un registro de los cambios en los salarios asociados a los contratos, permitiendo analizar tendencias y el impacto de las revisiones salariales.\n",
    "\n",
    "🔑 *Identificadores y Vínculos Clave*\n",
    "\n",
    "Estas variables nos permiten identificar cada registro histórico y vincularlo con el contrato y el empleado al que corresponde.\n",
    "\n",
    "id: INT UNSIGNED\n",
    "✨ Identificador único principal del registro histórico de salario. La clave de cada entrada en esta tabla.\n",
    "contract_id: INT UNSIGNED\n",
    "🔗 Identificador del contrato al que pertenece este registro salarial. Es una clave foránea que te conectará directamente con la tabla employee_contracts. ¡Esencial para el análisis contextual!\n",
    "employee_id: INT UNSIGNED\n",
    "👤 Identificador del empleado asociado a este historial salarial. Otra clave foránea que te vincula directamente con la tabla employees. Permite un seguimiento del historial salarial por cada persona.\n",
    "\n",
    "💵 *Detalles Salariales y Vigencia*\n",
    "\n",
    "Estos campos registran el salario en un punto específico del tiempo y su duración.\n",
    "\n",
    "salary: DECIMAL(18,2)\n",
    "💲 El monto del salario registrado. Es crucial para el análisis de la evolución salarial. Asegúrate de que los valores numéricos estén limpios y sean coherentes.\n",
    "start_date: DATE\n",
    "🗓️ Fecha de inicio de la vigencia de este salario. Determina cuándo entró en efecto el cambio salarial.\n",
    "end_date: DATE\n",
    "🗓️ Fecha de fin de la vigencia de este salario. ¡Atención a los Nulos! Un valor NULL en esta columna generalmente indica que este es el salario actual y vigente.\n",
    "\n",
    "\n",
    "🕰️ *Metadatos y Auditoría*\n",
    "Información para la trazabilidad y gestión del registro.\n",
    "\n",
    "user_id: INT UNSIGNED\n",
    "🧑‍💻 ID del usuario que creó o modificó este registro salarial. Útil para auditoría.\n",
    "created_at: TIMESTAMP\n",
    "➕ Fecha y hora de creación del registro. Indica cuándo se añadió este historial a la base de datos.\n",
    "updated_at: TIMESTAMP\n",
    "✏️ Fecha y hora de la última modificación del registro. Permite rastrear la última vez que se actualizó esta entrada.\n",
    "\n",
    "🛠️ *Acciones Clave para Limpieza y Transformación*\n",
    "\n",
    "Para la tabla contract_salary_history, las acciones de limpieza son más sencillas en comparación con tablas con JSONs. La prioridad será la coherencia de fechas y el manejo de nulos.\n",
    "\n",
    "Manejo de Nulos en end_date: Para análisis de salarios activos, los registros donde end_date es NULL representan el salario actual. Dependiendo del análisis, podrías querer reemplazar NULL con una fecha futura lejana o simplemente filtrar por ellos.\n",
    "Validación de Rangos de Fechas: Asegúrate de que start_date siempre sea anterior a end_date (cuando esta última existe).\n",
    "Consistencia Salarial: Aunque esta tabla registra el historial, podrías querer hacer un chequeo de coherencia básico en la columna salary (por ejemplo, si hay valores negativos o ceros que no deberían existir).\n",
    "No se esperan JSONs: Según la descripción proporcionada, esta tabla no parece contener columnas de tipo JSON, lo que simplifica el proceso de aplanamiento."
   ]
  },
  {
   "cell_type": "code",
   "execution_count": 28,
   "id": "e57261a5",
   "metadata": {},
   "outputs": [
    {
     "name": "stdout",
     "output_type": "stream",
     "text": [
      "\n",
      "--- Bloque 6 (VERSIÓN CON CONEXIÓN ABIERTA): Limpieza de JSONs en 'employees' con Pandas ---\n",
      "Reestableciendo conexión a la base de datos para el bloque de 'employees'...\n",
      "✅ Conexión exitosa a la base de datos\n",
      "✅ Conexión y cursor reestablecidos exitosamente para 'employees'.\n",
      "✅ Engine de base de datos obtenido.\n",
      "\n",
      "Deshabilitando temporalmente las verificaciones de claves foráneas...\n",
      "✅ Verificaciones de claves foráneas deshabilitadas.\n",
      "\n",
      "Buscando IDs huérfanos en 'company_area_id' de la tabla 'employees'...\n",
      "\n",
      "❌❌ Ocurrió un error general NO CAPTURADO en el bucle principal: 1146 (42S02): Table 'novateam.company_areas' doesn't exist\n",
      "Por favor, revisa la conexión a la base de datos o los datos en sí.\n",
      "Transacción revertida debido a un error.\n",
      "✅ Verificaciones de claves foráneas re-habilitadas en el bloque 'finally'.\n",
      "La conexión a la base de datos se mantiene abierta según la solicitud.\n"
     ]
    }
   ],
   "source": [
    "# Script para limpiar y aplanar columnas JSON en 'employees' (VERSIÓN CON CONEXIÓN ABIERTA)\n",
    "\n",
    "import pandas as pd\n",
    "import json\n",
    "import numpy as np\n",
    "from db_connection import get_engine, get_connection\n",
    "\n",
    "print(\"\\n--- Bloque 6 (VERSIÓN CON CONEXIÓN ABIERTA): Limpieza de JSONs en 'employees' con Pandas ---\")\n",
    "\n",
    "conexion = None\n",
    "cursor = None\n",
    "try:\n",
    "    print(\"Reestableciendo conexión a la base de datos para el bloque de 'employees'...\")\n",
    "    conexion = get_connection()\n",
    "    cursor = conexion.cursor()\n",
    "    engine = get_engine()\n",
    "    print(\"✅ Conexión y cursor reestablecidos exitosamente para 'employees'.\")\n",
    "    print(\"✅ Engine de base de datos obtenido.\")\n",
    "\n",
    "    # --- PASO CRÍTICO: Deshabilitar temporalmente las verificaciones de claves foráneas ---\n",
    "    print(\"\\nDeshabilitando temporalmente las verificaciones de claves foráneas...\")\n",
    "    cursor.execute(\"SET FOREIGN_KEY_CHECKS = 0;\")\n",
    "    print(\"✅ Verificaciones de claves foráneas deshabilitadas.\")\n",
    "\n",
    "    # --- PASO 1: Identificar y corregir IDs huérfanos en `company_area_id` ---\n",
    "    print(\"\\nBuscando IDs huérfanos en 'company_area_id' de la tabla 'employees'...\")\n",
    "    # Consulta para encontrar IDs huérfanos\n",
    "    cursor.execute(\"\"\"\n",
    "        SELECT DISTINCT e.company_area_id\n",
    "        FROM employees e\n",
    "        LEFT JOIN company_areas ca ON e.company_area_id = ca.id\n",
    "        WHERE ca.id IS NULL AND e.company_area_id IS NOT NULL;\n",
    "    \"\"\")\n",
    "    orphaned_company_area_ids = [row[0] for row in cursor.fetchall()]\n",
    "\n",
    "    if orphaned_company_area_ids:\n",
    "        print(f\"⚠️ Se encontraron IDs huérfanos en 'company_area_id': {orphaned_company_area_ids}\")\n",
    "\n",
    "        # --- AHORA, NECESITAS UN ID VÁLIDO DE 'company_areas' PARA ASIGNAR ---\n",
    "        # Si tienes un ID específico en mente (ej. un área 'Otros' o 'Sin Asignar'), úsalo aquí.\n",
    "        # Si no, puedes buscar el primer ID válido, pero lo ideal es tener uno específico para valores no válidos.\n",
    "        # EJEMPLO: Asumiendo que 1 es un ID válido en company_areas. CAMBIA ESTO SEGÚN TUS DATOS.\n",
    "        valid_default_company_area_id = 1 # <--- CAMBIA ESTE VALOR POR UN ID VÁLIDO EN company_areas\n",
    "        print(f\"Asignando '{valid_default_company_area_id}' a los registros huérfanos.\")\n",
    "\n",
    "        # Actualizar los registros con IDs huérfanos\n",
    "        # Usamos %s para cada ID huérfano para seguridad contra inyección SQL\n",
    "        placeholders = ','.join(['%s'] * len(orphaned_company_area_ids))\n",
    "        update_orphan_sql = f\"\"\"\n",
    "            UPDATE employees\n",
    "            SET company_area_id = %s\n",
    "            WHERE company_area_id IN ({placeholders});\n",
    "        \"\"\"\n",
    "        try:\n",
    "            # Los valores se pasan como una tupla: (el_nuevo_id, id_huerfano1, id_huerfano2, ...)\n",
    "            cursor.execute(update_orphan_sql, (valid_default_company_area_id, *orphaned_company_area_ids))\n",
    "            conexion.commit() # Confirmar esta operación antes del ALTER TABLE\n",
    "            print(f\"✅ Se actualizaron {cursor.rowcount} registros de 'employees' con IDs huérfanos.\")\n",
    "        except Exception as e:\n",
    "            conexion.rollback()\n",
    "            print(f\"❌ Error al actualizar IDs huérfanos: {e}\")\n",
    "            raise # Re-lanza el error para detener el script si falla esta parte\n",
    "    else:\n",
    "        print(\"✅ No se encontraron IDs huérfanos en 'company_area_id'.\")\n",
    "\n",
    "    # --- PASO 2: Modificar la estructura de la tabla 'employees' ---\n",
    "    # Convertir las columnas JSON a VARCHAR(255) NULL\n",
    "    print(\"\\nModificando las columnas JSON a VARCHAR(255) NULL...\")\n",
    "    alter_table_sql = \"\"\"\n",
    "        ALTER TABLE employees\n",
    "        MODIFY COLUMN identity_document_type VARCHAR(255) NULL,\n",
    "        MODIFY COLUMN country VARCHAR(255) NULL,\n",
    "        MODIFY COLUMN region VARCHAR(255) NULL,\n",
    "        MODIFY COLUMN city VARCHAR(255) NULL,\n",
    "        MODIFY COLUMN emergency_contact VARCHAR(255) NULL,\n",
    "        MODIFY COLUMN payment_method VARCHAR(255) NULL,\n",
    "        MODIFY COLUMN bank VARCHAR(255) NULL,\n",
    "        MODIFY COLUMN bank_account_type VARCHAR(255) NULL;\n",
    "    \"\"\"\n",
    "    try:\n",
    "        cursor.execute(alter_table_sql)\n",
    "        conexion.commit() # Confirmar el cambio de estructura\n",
    "        print(\"✅ Columnas JSON modificadas a VARCHAR(255) NULL exitosamente.\")\n",
    "    except Exception as e:\n",
    "        conexion.rollback()\n",
    "        print(f\"❌ Error al modificar las columnas JSON: {e}\")\n",
    "        raise # Re-lanza el error\n",
    "\n",
    "    # --- PASO CRÍTICO: Re-habilitar las verificaciones de claves foráneas ---\n",
    "    print(\"\\nRe-habilitando las verificaciones de claves foráneas...\")\n",
    "    cursor.execute(\"SET FOREIGN_KEY_CHECKS = 1;\")\n",
    "    print(\"✅ Verificaciones de claves foráneas re-habilitadas.\")\n",
    "\n",
    "    # 1. Cargar la tabla 'employees' completa en un DataFrame de Pandas\n",
    "    print(\"\\nCargando la tabla 'employees' en un DataFrame de Pandas...\")\n",
    "    df_employees = pd.read_sql(\"SELECT * FROM employees;\", engine)\n",
    "    print(f\"DataFrame de 'employees' cargado. Registros: {len(df_employees)}\")\n",
    "\n",
    "    # Lista de columnas JSON a procesar (ahora estas columnas son VARCHAR en la DB)\n",
    "    json_columns = [\n",
    "        'identity_document_type', 'country', 'region', 'city',\n",
    "        'emergency_contact', 'payment_method', 'bank', 'bank_account_type'\n",
    "    ]\n",
    "\n",
    "    # 2. Iterar sobre cada columna (ahora VARCHAR, pero con contenido JSON previo) y aplanarla\n",
    "    print(\"\\nIniciando aplanamiento de columnas (previamente JSON) en Pandas...\")\n",
    "\n",
    "    def extract_json_value(json_str):\n",
    "        # Manejar casos donde la columna ya fue aplanada o es None/NaN\n",
    "        if pd.isna(json_str) or not isinstance(json_str, str) or not json_str.strip():\n",
    "            return None\n",
    "        # Si la cadena no parece JSON (ej. ya es un valor aplanado), devolverla tal cual\n",
    "        if not json_str.strip().startswith('{') and not json_str.strip().startswith('['):\n",
    "            return json_str # Ya está aplanado, o es un string simple no JSON\n",
    "        try:\n",
    "            data = json.loads(json_str)\n",
    "            if isinstance(data, dict):\n",
    "                if 'description' in data and data['description'] is not None:\n",
    "                    return str(data['description'])\n",
    "                elif 'name' in data and data['name'] is not None:\n",
    "                    return str(data['name'])\n",
    "                elif 'code' in data and data['code'] is not None:\n",
    "                    return str(data['code'])\n",
    "            return None\n",
    "        except json.JSONDecodeError:\n",
    "            # Si no es un JSON válido, pero es una cadena, devolverla.\n",
    "            # Esto maneja el caso donde la columna ya fue aplanada manualmente o contiene basura.\n",
    "            return json_str if json_str.strip() else None\n",
    "        except Exception as e:\n",
    "            return None\n",
    "\n",
    "    for col in json_columns:\n",
    "        print(f\"Procesando columna: '{col}'...\")\n",
    "        if col in df_employees.columns:\n",
    "            df_employees[col] = df_employees[col].astype(str)\n",
    "            df_employees[col] = df_employees[col].apply(extract_json_value)\n",
    "            print(f\"   Columna '{col}' aplanada a valor extraído o NULL.\")\n",
    "        else:\n",
    "            print(f\"   Advertencia: Columna '{col}' no encontrada en el DataFrame.\")\n",
    "    print(\"✅ Aplanamiento de columnas completado.\")\n",
    "\n",
    "    # 3. Manejo de valores nulos y tipos de datos para la actualización\n",
    "    print(\"\\nPreparando DataFrame para la actualización (manejo de nulos y tipos)...\")\n",
    "\n",
    "    # Volvemos a obtener la descripción de la tabla para asegurarnos de que los tipos son los nuevos (VARCHAR)\n",
    "    cursor.execute(\"DESCRIBE `employees`;\")\n",
    "    db_columns_info = cursor.fetchall()\n",
    "    db_column_names = [col_info[0] for col_info in db_columns_info]\n",
    "    db_column_types = {col_info[0]: col_info[1] for col_info in db_columns_info}\n",
    "\n",
    "    valid_columns_for_update = [\n",
    "        col for col in df_employees.columns # <--- LINEA CORREGIDA AQUI\n",
    "        if isinstance(col, str) and col != 'id' and col in db_column_names\n",
    "    ]\n",
    "\n",
    "    for col in df_employees.columns:\n",
    "        if col in valid_columns_for_update or col == 'id':\n",
    "            if df_employees[col].dtype == 'object':\n",
    "                df_employees[col] = df_employees[col].replace({np.nan: None, 'nan': None, '': None})\n",
    "            elif pd.api.types.is_numeric_dtype(df_employees[col]) and df_employees[col].isnull().any():\n",
    "                if pd.api.types.is_integer_dtype(df_employees[col]):\n",
    "                     df_employees[col] = df_employees[col].astype(pd.Int64Dtype())\n",
    "                df_employees[col] = df_employees[col].replace({np.nan: None})\n",
    "\n",
    "            if pd.api.types.is_bool_dtype(df_employees[col]):\n",
    "                df_employees[col] = df_employees[col].map({True: 1, False: 0, None: None, np.nan: None})\n",
    "\n",
    "            if pd.api.types.is_string_dtype(df_employees[col]) and col in db_column_types:\n",
    "                mysql_type = db_column_types[col].lower()\n",
    "                if 'varchar' in mysql_type:\n",
    "                    try:\n",
    "                        max_len = int(mysql_type.split('(')[1].split(')')[0])\n",
    "                        long_strings = df_employees[df_employees[col].astype(str).str.len() > max_len][col]\n",
    "                        if not long_strings.empty:\n",
    "                            print(f\"   ⚠️ ADVERTENCIA: Columna '{col}' tiene strings más largos que {max_len} caracteres.\")\n",
    "                            print(f\"     Primeros 5 valores problemáticos: {long_strings.head().tolist()}\")\n",
    "                    except (IndexError, ValueError):\n",
    "                        pass\n",
    "\n",
    "    print(\"✅ DataFrame preparado para la actualización.\")\n",
    "\n",
    "    # 4. Actualizar los registros con los datos limpios del DataFrame\n",
    "    print(\"\\n--- Actualizando registros en 'employees' con datos limpios ---\")\n",
    "\n",
    "    set_clauses = [f\"`{col}` = %s\" for col in valid_columns_for_update]\n",
    "    update_sql = f\"UPDATE `employees` SET {', '.join(set_clauses)} WHERE `id` = %s;\"\n",
    "\n",
    "    print(f\"DEBUG: SQL de UPDATE generado: {update_sql[:150]}...\")\n",
    "    print(f\"DEBUG: Columnas que se actualizarán: {valid_columns_for_update}\")\n",
    "\n",
    "    updated_count = 0\n",
    "    errors_encountered = 0\n",
    "    for index, row in df_employees.iterrows():\n",
    "        update_values = []\n",
    "        for col in valid_columns_for_update:\n",
    "            val = row[col]\n",
    "            if pd.isna(val) or (isinstance(val, (float, np.float64)) and np.isnan(val)):\n",
    "                update_values.append(None)\n",
    "            elif isinstance(val, (np.int64, np.int32)):\n",
    "                update_values.append(int(val))\n",
    "            elif isinstance(val, (np.bool_)):\n",
    "                update_values.append(bool(val))\n",
    "            else:\n",
    "                update_values.append(val)\n",
    "\n",
    "        update_values.append(row['id'])\n",
    "\n",
    "        try:\n",
    "            cursor.execute(update_sql, tuple(update_values))\n",
    "            updated_count += 1\n",
    "            if updated_count % 5 == 0:\n",
    "                print(f\"   Progreso: {updated_count}/{len(df_employees)} registros procesados...\")\n",
    "        except Exception as e:\n",
    "            errors_encountered += 1\n",
    "            print(f\"\\n❌❌ ERROR CRÍTICO al actualizar el registro con ID {row['id']}: {e}\")\n",
    "            print(f\"   SQL: {update_sql}\")\n",
    "            print(f\"   Valores problemáticos (ID={row['id']}): {tuple(update_values)}\")\n",
    "            raise\n",
    "\n",
    "    if errors_encountered > 0:\n",
    "        conexion.rollback()\n",
    "        print(f\"❌ Actualización finalizada con {errors_encountered} errores. Transacción revertida.\")\n",
    "    else:\n",
    "        conexion.commit()\n",
    "        print(f\"✅ Actualización de {updated_count} registros en la tabla 'employees' completada exitosamente.\")\n",
    "\n",
    "    print(\"\\n✅ Limpieza y aplanamiento de JSONs en 'employees' finalizada exitosamente.\")\n",
    "\n",
    "except Exception as e:\n",
    "    print(f\"\\n❌❌ Ocurrió un error general NO CAPTURADO en el bucle principal: {e}\")\n",
    "    print(\"Por favor, revisa la conexión a la base de datos o los datos en sí.\")\n",
    "    try:\n",
    "        if conexion and conexion.is_connected():\n",
    "            conexion.rollback()\n",
    "            print(\"Transacción revertida debido a un error.\")\n",
    "    except Exception as rollback_e:\n",
    "        print(f\"❌ Error adicional al intentar revertir la transacción: {rollback_e}\")\n",
    "finally:\n",
    "    # Asegúrate de re-habilitar las FKs incluso si hay un error en el try-except\n",
    "    if cursor is not None:\n",
    "        try:\n",
    "            cursor.execute(\"SET FOREIGN_KEY_CHECKS = 1;\")\n",
    "            print(\"✅ Verificaciones de claves foráneas re-habilitadas en el bloque 'finally'.\")\n",
    "        except Exception as e:\n",
    "            print(f\"❌ Advertencia: No se pudieron re-habilitar las FKs en finally: {e}\")\n",
    "\n",
    "    # No cierres la conexión aquí si quieres mantenerla abierta como indicaste antes\n",
    "    print(\"La conexión a la base de datos se mantiene abierta según la solicitud.\")"
   ]
  },
  {
   "cell_type": "code",
   "execution_count": 29,
   "id": "b7334a6d",
   "metadata": {},
   "outputs": [
    {
     "name": "stdout",
     "output_type": "stream",
     "text": [
      "\n",
      "--- Bloque 6 (Estrategia Definitiva): Limpieza de JSONs en 'employees' con Pandas ---\n",
      "Engine de base de datos obtenido.\n",
      "Cargando la tabla 'employees' en un DataFrame de Pandas...\n",
      "DataFrame de 'employees' cargado. Registros: 38\n",
      "\n",
      "Iniciando aplanamiento de columnas JSON en Pandas...\n",
      "Procesando columna JSON: 'identity_document_type'...\n",
      "    Advertencia: Valor inválido detectado en 'identity_document_type': 'Cédula de ciudadanía'. Se reemplazará con 'N/A'.\n",
      "    Advertencia: Valor inválido detectado en 'identity_document_type': 'Cédula de ciudadanía'. Se reemplazará con 'N/A'.\n",
      "    Advertencia: Valor inválido detectado en 'identity_document_type': 'Cédula de ciudadanía'. Se reemplazará con 'N/A'.\n",
      "    Advertencia: Valor inválido detectado en 'identity_document_type': 'Cédula de ciudadanía'. Se reemplazará con 'N/A'.\n",
      "    Advertencia: Valor inválido detectado en 'identity_document_type': 'Cédula de ciudadanía'. Se reemplazará con 'N/A'.\n",
      "    Advertencia: Valor inválido detectado en 'identity_document_type': 'Cédula de ciudadanía'. Se reemplazará con 'N/A'.\n",
      "    Advertencia: Valor inválido detectado en 'identity_document_type': 'Cédula de ciudadanía'. Se reemplazará con 'N/A'.\n",
      "    Advertencia: Valor inválido detectado en 'identity_document_type': 'Cédula de ciudadanía'. Se reemplazará con 'N/A'.\n",
      "    Advertencia: Valor inválido detectado en 'identity_document_type': 'Cédula de ciudadanía'. Se reemplazará con 'N/A'.\n",
      "    Advertencia: Valor inválido detectado en 'identity_document_type': 'Cédula de ciudadanía'. Se reemplazará con 'N/A'.\n",
      "    Advertencia: Valor inválido detectado en 'identity_document_type': 'Cédula de ciudadanía'. Se reemplazará con 'N/A'.\n",
      "    Advertencia: Valor inválido detectado en 'identity_document_type': 'Cédula de ciudadanía'. Se reemplazará con 'N/A'.\n",
      "    Advertencia: Valor inválido detectado en 'identity_document_type': 'Cédula de extranjería'. Se reemplazará con 'N/A'.\n",
      "    Advertencia: Valor inválido detectado en 'identity_document_type': 'Cédula de ciudadanía'. Se reemplazará con 'N/A'.\n",
      "    Advertencia: Valor inválido detectado en 'identity_document_type': 'Cédula de extranjería'. Se reemplazará con 'N/A'.\n",
      "    Advertencia: Valor inválido detectado en 'identity_document_type': 'Cédula de ciudadanía'. Se reemplazará con 'N/A'.\n",
      "    Advertencia: Valor inválido detectado en 'identity_document_type': 'Cédula de ciudadanía'. Se reemplazará con 'N/A'.\n",
      "    Advertencia: Valor inválido detectado en 'identity_document_type': 'Cédula de ciudadanía'. Se reemplazará con 'N/A'.\n",
      "    Advertencia: Valor inválido detectado en 'identity_document_type': 'Cédula de ciudadanía'. Se reemplazará con 'N/A'.\n",
      "    Advertencia: Valor inválido detectado en 'identity_document_type': 'Cédula de ciudadanía'. Se reemplazará con 'N/A'.\n",
      "    Advertencia: Valor inválido detectado en 'identity_document_type': 'Cédula de ciudadanía'. Se reemplazará con 'N/A'.\n",
      "    Advertencia: Valor inválido detectado en 'identity_document_type': 'Cédula de ciudadanía'. Se reemplazará con 'N/A'.\n",
      "    Advertencia: Valor inválido detectado en 'identity_document_type': 'Cédula de ciudadanía'. Se reemplazará con 'N/A'.\n",
      "    Advertencia: Valor inválido detectado en 'identity_document_type': 'Cédula de ciudadanía'. Se reemplazará con 'N/A'.\n",
      "    Advertencia: Valor inválido detectado en 'identity_document_type': 'Cédula de ciudadanía'. Se reemplazará con 'N/A'.\n",
      "    Advertencia: Valor inválido detectado en 'identity_document_type': 'Cédula de ciudadanía'. Se reemplazará con 'N/A'.\n",
      "    Advertencia: Valor inválido detectado en 'identity_document_type': 'Cédula de ciudadanía'. Se reemplazará con 'N/A'.\n",
      "    Advertencia: Valor inválido detectado en 'identity_document_type': 'Cédula de ciudadanía'. Se reemplazará con 'N/A'.\n",
      "    Advertencia: Valor inválido detectado en 'identity_document_type': 'Cédula de ciudadanía'. Se reemplazará con 'N/A'.\n",
      "    Advertencia: Valor inválido detectado en 'identity_document_type': 'Cédula de ciudadanía'. Se reemplazará con 'N/A'.\n",
      "    Advertencia: Valor inválido detectado en 'identity_document_type': 'Cédula de ciudadanía'. Se reemplazará con 'N/A'.\n",
      "    Advertencia: Valor inválido detectado en 'identity_document_type': 'Cédula de ciudadanía'. Se reemplazará con 'N/A'.\n",
      "    Advertencia: Valor inválido detectado en 'identity_document_type': 'Cédula de ciudadanía'. Se reemplazará con 'N/A'.\n",
      "    Advertencia: Valor inválido detectado en 'identity_document_type': 'Cédula de ciudadanía'. Se reemplazará con 'N/A'.\n",
      "    Advertencia: Valor inválido detectado en 'identity_document_type': 'Cédula de ciudadanía'. Se reemplazará con 'N/A'.\n",
      "    Advertencia: Valor inválido detectado en 'identity_document_type': 'Cédula de ciudadanía'. Se reemplazará con 'N/A'.\n",
      "    Advertencia: Valor inválido detectado en 'identity_document_type': 'Cédula de ciudadanía'. Se reemplazará con 'N/A'.\n",
      "    Advertencia: Valor inválido detectado en 'identity_document_type': 'Cédula de ciudadanía'. Se reemplazará con 'N/A'.\n",
      "  Columna 'identity_document_type' aplanada a 'description' o 'N/A'.\n",
      "Procesando columna JSON: 'country'...\n",
      "    Advertencia: Valor inválido detectado en 'country': 'Colombia'. Se reemplazará con 'N/A'.\n",
      "    Advertencia: Valor inválido detectado en 'country': 'Colombia'. Se reemplazará con 'N/A'.\n",
      "    Advertencia: Valor inválido detectado en 'country': 'Colombia'. Se reemplazará con 'N/A'.\n",
      "    Advertencia: Valor inválido detectado en 'country': 'Colombia'. Se reemplazará con 'N/A'.\n",
      "    Advertencia: Valor inválido detectado en 'country': 'Colombia'. Se reemplazará con 'N/A'.\n",
      "    Advertencia: Valor inválido detectado en 'country': 'Colombia'. Se reemplazará con 'N/A'.\n",
      "    Advertencia: Valor inválido detectado en 'country': 'Colombia'. Se reemplazará con 'N/A'.\n",
      "    Advertencia: Valor inválido detectado en 'country': 'Colombia'. Se reemplazará con 'N/A'.\n",
      "    Advertencia: Valor inválido detectado en 'country': 'Colombia'. Se reemplazará con 'N/A'.\n",
      "    Advertencia: Valor inválido detectado en 'country': 'Colombia'. Se reemplazará con 'N/A'.\n",
      "    Advertencia: Valor inválido detectado en 'country': 'Colombia'. Se reemplazará con 'N/A'.\n",
      "    Advertencia: Valor inválido detectado en 'country': 'Colombia'. Se reemplazará con 'N/A'.\n",
      "    Advertencia: Valor inválido detectado en 'country': 'Colombia'. Se reemplazará con 'N/A'.\n",
      "    Advertencia: Valor inválido detectado en 'country': 'Colombia'. Se reemplazará con 'N/A'.\n",
      "    Advertencia: Valor inválido detectado en 'country': 'Colombia'. Se reemplazará con 'N/A'.\n",
      "    Advertencia: Valor inválido detectado en 'country': 'Colombia'. Se reemplazará con 'N/A'.\n",
      "    Advertencia: Valor inválido detectado en 'country': 'Colombia'. Se reemplazará con 'N/A'.\n",
      "    Advertencia: Valor inválido detectado en 'country': 'Colombia'. Se reemplazará con 'N/A'.\n",
      "    Advertencia: Valor inválido detectado en 'country': 'Colombia'. Se reemplazará con 'N/A'.\n",
      "    Advertencia: Valor inválido detectado en 'country': 'Colombia'. Se reemplazará con 'N/A'.\n",
      "    Advertencia: Valor inválido detectado en 'country': 'Colombia'. Se reemplazará con 'N/A'.\n",
      "    Advertencia: Valor inválido detectado en 'country': 'Colombia'. Se reemplazará con 'N/A'.\n",
      "    Advertencia: Valor inválido detectado en 'country': 'Colombia'. Se reemplazará con 'N/A'.\n",
      "    Advertencia: Valor inválido detectado en 'country': 'Colombia'. Se reemplazará con 'N/A'.\n",
      "    Advertencia: Valor inválido detectado en 'country': 'Colombia'. Se reemplazará con 'N/A'.\n",
      "    Advertencia: Valor inválido detectado en 'country': 'Colombia'. Se reemplazará con 'N/A'.\n",
      "    Advertencia: Valor inválido detectado en 'country': 'Colombia'. Se reemplazará con 'N/A'.\n",
      "    Advertencia: Valor inválido detectado en 'country': 'Colombia'. Se reemplazará con 'N/A'.\n",
      "    Advertencia: Valor inválido detectado en 'country': 'Colombia'. Se reemplazará con 'N/A'.\n",
      "    Advertencia: Valor inválido detectado en 'country': 'Colombia'. Se reemplazará con 'N/A'.\n",
      "    Advertencia: Valor inválido detectado en 'country': 'Colombia'. Se reemplazará con 'N/A'.\n",
      "    Advertencia: Valor inválido detectado en 'country': 'Colombia'. Se reemplazará con 'N/A'.\n",
      "    Advertencia: Valor inválido detectado en 'country': 'Colombia'. Se reemplazará con 'N/A'.\n",
      "    Advertencia: Valor inválido detectado en 'country': 'Colombia'. Se reemplazará con 'N/A'.\n",
      "    Advertencia: Valor inválido detectado en 'country': 'Colombia'. Se reemplazará con 'N/A'.\n",
      "    Advertencia: Valor inválido detectado en 'country': 'Colombia'. Se reemplazará con 'N/A'.\n",
      "    Advertencia: Valor inválido detectado en 'country': 'Colombia'. Se reemplazará con 'N/A'.\n",
      "    Advertencia: Valor inválido detectado en 'country': 'Colombia'. Se reemplazará con 'N/A'.\n",
      "  Columna 'country' aplanada a 'description' o 'N/A'.\n",
      "Procesando columna JSON: 'region'...\n",
      "    Advertencia: Valor inválido detectado en 'region': 'Antioquia'. Se reemplazará con 'N/A'.\n",
      "    Advertencia: Valor inválido detectado en 'region': 'Antioquia'. Se reemplazará con 'N/A'.\n",
      "    Advertencia: Valor inválido detectado en 'region': 'Antioquia'. Se reemplazará con 'N/A'.\n",
      "    Advertencia: Valor inválido detectado en 'region': 'Antioquia'. Se reemplazará con 'N/A'.\n",
      "    Advertencia: Valor inválido detectado en 'region': 'Antioquia'. Se reemplazará con 'N/A'.\n",
      "    Advertencia: Valor inválido detectado en 'region': 'Antioquia'. Se reemplazará con 'N/A'.\n",
      "    Advertencia: Valor inválido detectado en 'region': 'Caquetá'. Se reemplazará con 'N/A'.\n",
      "    Advertencia: Valor inválido detectado en 'region': 'Antioquia'. Se reemplazará con 'N/A'.\n",
      "    Advertencia: Valor inválido detectado en 'region': 'Antioquia'. Se reemplazará con 'N/A'.\n",
      "    Advertencia: Valor inválido detectado en 'region': 'Antioquia'. Se reemplazará con 'N/A'.\n",
      "    Advertencia: Valor inválido detectado en 'region': 'Antioquia'. Se reemplazará con 'N/A'.\n",
      "    Advertencia: Valor inválido detectado en 'region': 'Antioquia'. Se reemplazará con 'N/A'.\n",
      "    Advertencia: Valor inválido detectado en 'region': 'Antioquia'. Se reemplazará con 'N/A'.\n",
      "    Advertencia: Valor inválido detectado en 'region': 'Antioquia'. Se reemplazará con 'N/A'.\n",
      "    Advertencia: Valor inválido detectado en 'region': 'Antioquia'. Se reemplazará con 'N/A'.\n",
      "    Advertencia: Valor inválido detectado en 'region': 'Antioquia'. Se reemplazará con 'N/A'.\n",
      "    Advertencia: Valor inválido detectado en 'region': 'Antioquia'. Se reemplazará con 'N/A'.\n",
      "    Advertencia: Valor inválido detectado en 'region': 'Antioquia'. Se reemplazará con 'N/A'.\n",
      "    Advertencia: Valor inválido detectado en 'region': 'Antioquia'. Se reemplazará con 'N/A'.\n",
      "    Advertencia: Valor inválido detectado en 'region': 'Antioquia'. Se reemplazará con 'N/A'.\n",
      "    Advertencia: Valor inválido detectado en 'region': 'Antioquia'. Se reemplazará con 'N/A'.\n",
      "    Advertencia: Valor inválido detectado en 'region': 'Antioquia'. Se reemplazará con 'N/A'.\n",
      "    Advertencia: Valor inválido detectado en 'region': 'Antioquia'. Se reemplazará con 'N/A'.\n",
      "    Advertencia: Valor inválido detectado en 'region': 'Bolívar'. Se reemplazará con 'N/A'.\n",
      "    Advertencia: Valor inválido detectado en 'region': 'Antioquia'. Se reemplazará con 'N/A'.\n",
      "    Advertencia: Valor inválido detectado en 'region': 'Antioquia'. Se reemplazará con 'N/A'.\n",
      "    Advertencia: Valor inválido detectado en 'region': 'Antioquia'. Se reemplazará con 'N/A'.\n",
      "    Advertencia: Valor inválido detectado en 'region': 'Antioquia'. Se reemplazará con 'N/A'.\n",
      "    Advertencia: Valor inválido detectado en 'region': 'Antioquia'. Se reemplazará con 'N/A'.\n",
      "    Advertencia: Valor inválido detectado en 'region': 'Antioquia'. Se reemplazará con 'N/A'.\n",
      "    Advertencia: Valor inválido detectado en 'region': 'Antioquia'. Se reemplazará con 'N/A'.\n",
      "    Advertencia: Valor inválido detectado en 'region': 'Antioquia'. Se reemplazará con 'N/A'.\n",
      "    Advertencia: Valor inválido detectado en 'region': 'Antioquia'. Se reemplazará con 'N/A'.\n",
      "    Advertencia: Valor inválido detectado en 'region': 'Antioquia'. Se reemplazará con 'N/A'.\n",
      "    Advertencia: Valor inválido detectado en 'region': 'Antioquia'. Se reemplazará con 'N/A'.\n",
      "    Advertencia: Valor inválido detectado en 'region': 'Antioquia'. Se reemplazará con 'N/A'.\n",
      "    Advertencia: Valor inválido detectado en 'region': 'Antioquia'. Se reemplazará con 'N/A'.\n",
      "    Advertencia: Valor inválido detectado en 'region': 'Antioquia'. Se reemplazará con 'N/A'.\n",
      "  Columna 'region' aplanada a 'description' o 'N/A'.\n",
      "Procesando columna JSON: 'city'...\n",
      "    Advertencia: Valor inválido detectado en 'city': 'Medellín'. Se reemplazará con 'N/A'.\n",
      "    Advertencia: Valor inválido detectado en 'city': 'Medellín'. Se reemplazará con 'N/A'.\n",
      "    Advertencia: Valor inválido detectado en 'city': 'Medellín'. Se reemplazará con 'N/A'.\n",
      "    Advertencia: Valor inválido detectado en 'city': 'Medellín'. Se reemplazará con 'N/A'.\n",
      "    Advertencia: Valor inválido detectado en 'city': 'Medellín'. Se reemplazará con 'N/A'.\n",
      "    Advertencia: Valor inválido detectado en 'city': 'Angostura'. Se reemplazará con 'N/A'.\n",
      "    Advertencia: Valor inválido detectado en 'city': 'La Montañita'. Se reemplazará con 'N/A'.\n",
      "    Advertencia: Valor inválido detectado en 'city': 'Medellín'. Se reemplazará con 'N/A'.\n",
      "    Advertencia: Valor inválido detectado en 'city': 'Medellín'. Se reemplazará con 'N/A'.\n",
      "    Advertencia: Valor inválido detectado en 'city': 'Medellín'. Se reemplazará con 'N/A'.\n",
      "    Advertencia: Valor inválido detectado en 'city': 'Medellín'. Se reemplazará con 'N/A'.\n",
      "    Advertencia: Valor inválido detectado en 'city': 'Medellín'. Se reemplazará con 'N/A'.\n",
      "    Advertencia: Valor inválido detectado en 'city': 'Abriaquí'. Se reemplazará con 'N/A'.\n",
      "    Advertencia: Valor inválido detectado en 'city': 'Medellín'. Se reemplazará con 'N/A'.\n",
      "    Advertencia: Valor inválido detectado en 'city': 'Medellín'. Se reemplazará con 'N/A'.\n",
      "    Advertencia: Valor inválido detectado en 'city': 'Medellín'. Se reemplazará con 'N/A'.\n",
      "    Advertencia: Valor inválido detectado en 'city': 'Medellín'. Se reemplazará con 'N/A'.\n",
      "    Advertencia: Valor inválido detectado en 'city': 'Medellín'. Se reemplazará con 'N/A'.\n",
      "    Advertencia: Valor inválido detectado en 'city': 'Medellín'. Se reemplazará con 'N/A'.\n",
      "    Advertencia: Valor inválido detectado en 'city': 'Medellín'. Se reemplazará con 'N/A'.\n",
      "    Advertencia: Valor inválido detectado en 'city': 'Medellín'. Se reemplazará con 'N/A'.\n",
      "    Advertencia: Valor inválido detectado en 'city': 'Betulia'. Se reemplazará con 'N/A'.\n",
      "    Advertencia: Valor inválido detectado en 'city': 'Medellín'. Se reemplazará con 'N/A'.\n",
      "    Advertencia: Valor inválido detectado en 'city': 'Calamar'. Se reemplazará con 'N/A'.\n",
      "    Advertencia: Valor inválido detectado en 'city': 'Medellín'. Se reemplazará con 'N/A'.\n",
      "    Advertencia: Valor inválido detectado en 'city': 'Medellín'. Se reemplazará con 'N/A'.\n",
      "    Advertencia: Valor inválido detectado en 'city': 'Medellín'. Se reemplazará con 'N/A'.\n",
      "    Advertencia: Valor inválido detectado en 'city': 'Alejandría'. Se reemplazará con 'N/A'.\n",
      "    Advertencia: Valor inválido detectado en 'city': 'Amalfi'. Se reemplazará con 'N/A'.\n",
      "    Advertencia: Valor inválido detectado en 'city': 'Medellín'. Se reemplazará con 'N/A'.\n",
      "    Advertencia: Valor inválido detectado en 'city': 'Medellín'. Se reemplazará con 'N/A'.\n",
      "    Advertencia: Valor inválido detectado en 'city': 'Medellín'. Se reemplazará con 'N/A'.\n",
      "    Advertencia: Valor inválido detectado en 'city': 'Medellín'. Se reemplazará con 'N/A'.\n",
      "    Advertencia: Valor inválido detectado en 'city': 'Abejorral'. Se reemplazará con 'N/A'.\n",
      "    Advertencia: Valor inválido detectado en 'city': 'Alejandría'. Se reemplazará con 'N/A'.\n",
      "    Advertencia: Valor inválido detectado en 'city': 'Medellín'. Se reemplazará con 'N/A'.\n",
      "    Advertencia: Valor inválido detectado en 'city': 'Medellín'. Se reemplazará con 'N/A'.\n",
      "    Advertencia: Valor inválido detectado en 'city': 'Medellín'. Se reemplazará con 'N/A'.\n",
      "  Columna 'city' aplanada a 'description' o 'N/A'.\n",
      "Procesando columna JSON: 'emergency_contact'...\n",
      "    Advertencia: Valor inválido detectado en 'emergency_contact': 'Dora Libia'. Se reemplazará con 'N/A'.\n",
      "    Advertencia: Valor inválido detectado en 'emergency_contact': 'Dora Arenas'. Se reemplazará con 'N/A'.\n",
      "    Advertencia: Valor inválido detectado en 'emergency_contact': 'jhonatan saldarriaga arenas'. Se reemplazará con 'N/A'.\n",
      "    Advertencia: Valor inválido detectado en 'emergency_contact': 'Carlos'. Se reemplazará con 'N/A'.\n",
      "    Advertencia: Valor inválido detectado en 'emergency_contact': 'Juan'. Se reemplazará con 'N/A'.\n",
      "    Advertencia: Valor inválido detectado en 'emergency_contact': 'September Armstrong'. Se reemplazará con 'N/A'.\n",
      "    Advertencia: Valor inválido detectado en 'emergency_contact': 'Arthur Blanchard'. Se reemplazará con 'N/A'.\n",
      "    Advertencia: Valor inválido detectado en 'emergency_contact': 'Carlos'. Se reemplazará con 'N/A'.\n",
      "    Advertencia: Valor inválido detectado en 'emergency_contact': 'Jhonatan'. Se reemplazará con 'N/A'.\n",
      "    Advertencia: Valor inválido detectado en 'emergency_contact': 'jhonatan saldarriaga arenas'. Se reemplazará con 'N/A'.\n",
      "    Advertencia: Valor inválido detectado en 'emergency_contact': 'Carlos'. Se reemplazará con 'N/A'.\n",
      "    Advertencia: Valor inválido detectado en 'emergency_contact': 'jhonatan Saldarriaga'. Se reemplazará con 'N/A'.\n",
      "    Advertencia: Valor inválido detectado en 'emergency_contact': 'jhonatan Saldarriaga'. Se reemplazará con 'N/A'.\n",
      "    Advertencia: Valor inválido detectado en 'emergency_contact': 'jhonatan Saldarriaga'. Se reemplazará con 'N/A'.\n",
      "    Advertencia: Valor inválido detectado en 'emergency_contact': 'jhonatan Saldarriaga'. Se reemplazará con 'N/A'.\n",
      "    Advertencia: Valor inválido detectado en 'emergency_contact': 'jhonatan Saldarriaga'. Se reemplazará con 'N/A'.\n",
      "    Advertencia: Valor inválido detectado en 'emergency_contact': 'jhonatan Saldarriaga'. Se reemplazará con 'N/A'.\n",
      "    Advertencia: Valor inválido detectado en 'emergency_contact': 'jhonatan Saldarriaga'. Se reemplazará con 'N/A'.\n",
      "    Advertencia: Valor inválido detectado en 'emergency_contact': 'jhonatan Saldarriaga'. Se reemplazará con 'N/A'.\n",
      "    Advertencia: Valor inválido detectado en 'emergency_contact': 'jhonatan Saldarriaga'. Se reemplazará con 'N/A'.\n",
      "    Advertencia: Valor inválido detectado en 'emergency_contact': 'jhonatan Saldarriaga'. Se reemplazará con 'N/A'.\n",
      "    Advertencia: Valor inválido detectado en 'emergency_contact': 'Luis Giraldo'. Se reemplazará con 'N/A'.\n",
      "    Advertencia: Valor inválido detectado en 'emergency_contact': 'jhonatan Saldarriaga'. Se reemplazará con 'N/A'.\n",
      "    Advertencia: Valor inválido detectado en 'emergency_contact': 'Reese Hale'. Se reemplazará con 'N/A'.\n",
      "    Advertencia: Valor inválido detectado en 'emergency_contact': 'jhonatan Saldarriaga'. Se reemplazará con 'N/A'.\n",
      "    Advertencia: Valor inválido detectado en 'emergency_contact': 'jhonatan Saldarriaga'. Se reemplazará con 'N/A'.\n",
      "    Advertencia: Valor inválido detectado en 'emergency_contact': 'jhonatan Saldarriaga'. Se reemplazará con 'N/A'.\n",
      "    Advertencia: Valor inválido detectado en 'emergency_contact': 'jhonatan Saldarriaga'. Se reemplazará con 'N/A'.\n",
      "    Advertencia: Valor inválido detectado en 'emergency_contact': 'Luis Giraldo'. Se reemplazará con 'N/A'.\n",
      "    Advertencia: Valor inválido detectado en 'emergency_contact': 'Carmen'. Se reemplazará con 'N/A'.\n",
      "    Advertencia: Valor inválido detectado en 'emergency_contact': 'David Segura'. Se reemplazará con 'N/A'.\n",
      "    Advertencia: Valor inválido detectado en 'emergency_contact': 'jhonatan Saldarriaga Arenas'. Se reemplazará con 'N/A'.\n",
      "    Advertencia: Valor inválido detectado en 'emergency_contact': 'Norma Henao'. Se reemplazará con 'N/A'.\n",
      "    Advertencia: Valor inválido detectado en 'emergency_contact': 'jhonatan Saldarriaga Arenas'. Se reemplazará con 'N/A'.\n",
      "    Advertencia: Valor inválido detectado en 'emergency_contact': 'Juan '. Se reemplazará con 'N/A'.\n",
      "    Advertencia: Valor inválido detectado en 'emergency_contact': 'jhonatan Saldarriaga Arenas'. Se reemplazará con 'N/A'.\n",
      "    Advertencia: Valor inválido detectado en 'emergency_contact': 'jhonatan Saldarriaga Arenas'. Se reemplazará con 'N/A'.\n",
      "    Advertencia: Valor inválido detectado en 'emergency_contact': 'Jhonatan'. Se reemplazará con 'N/A'.\n",
      "  Columna 'emergency_contact' aplanada a 'description' o 'N/A'.\n",
      "Procesando columna JSON: 'payment_method'...\n",
      "    Advertencia: Valor inválido detectado en 'payment_method': 'Transferencia Débito Bancaria'. Se reemplazará con 'N/A'.\n",
      "    Advertencia: Valor inválido detectado en 'payment_method': 'Transferencia Débito Bancaria'. Se reemplazará con 'N/A'.\n",
      "    Advertencia: Valor inválido detectado en 'payment_method': 'Efectivo'. Se reemplazará con 'N/A'.\n",
      "    Advertencia: Valor inválido detectado en 'payment_method': 'Consiganción bancaria'. Se reemplazará con 'N/A'.\n",
      "    Advertencia: Valor inválido detectado en 'payment_method': 'Efectivo'. Se reemplazará con 'N/A'.\n",
      "    Advertencia: Valor inválido detectado en 'payment_method': 'Cheque'. Se reemplazará con 'N/A'.\n",
      "    Advertencia: Valor inválido detectado en 'payment_method': 'Cheque'. Se reemplazará con 'N/A'.\n",
      "    Advertencia: Valor inválido detectado en 'payment_method': 'Efectivo'. Se reemplazará con 'N/A'.\n",
      "    Advertencia: Valor inválido detectado en 'payment_method': 'Efectivo'. Se reemplazará con 'N/A'.\n",
      "    Advertencia: Valor inválido detectado en 'payment_method': 'Efectivo'. Se reemplazará con 'N/A'.\n",
      "    Advertencia: Valor inválido detectado en 'payment_method': 'Transferencia Débito Interbancario'. Se reemplazará con 'N/A'.\n",
      "    Advertencia: Valor inválido detectado en 'payment_method': 'Efectivo'. Se reemplazará con 'N/A'.\n",
      "    Advertencia: Valor inválido detectado en 'payment_method': 'Transferencia Débito Bancaria'. Se reemplazará con 'N/A'.\n",
      "    Advertencia: Valor inválido detectado en 'payment_method': 'Efectivo'. Se reemplazará con 'N/A'.\n",
      "    Advertencia: Valor inválido detectado en 'payment_method': 'Efectivo'. Se reemplazará con 'N/A'.\n",
      "    Advertencia: Valor inválido detectado en 'payment_method': 'Efectivo'. Se reemplazará con 'N/A'.\n",
      "    Advertencia: Valor inválido detectado en 'payment_method': 'Efectivo'. Se reemplazará con 'N/A'.\n",
      "    Advertencia: Valor inválido detectado en 'payment_method': 'Efectivo'. Se reemplazará con 'N/A'.\n",
      "    Advertencia: Valor inválido detectado en 'payment_method': 'Efectivo'. Se reemplazará con 'N/A'.\n",
      "    Advertencia: Valor inválido detectado en 'payment_method': 'Efectivo'. Se reemplazará con 'N/A'.\n",
      "    Advertencia: Valor inválido detectado en 'payment_method': 'Efectivo'. Se reemplazará con 'N/A'.\n",
      "    Advertencia: Valor inválido detectado en 'payment_method': 'Efectivo'. Se reemplazará con 'N/A'.\n",
      "    Advertencia: Valor inválido detectado en 'payment_method': 'Efectivo'. Se reemplazará con 'N/A'.\n",
      "    Advertencia: Valor inválido detectado en 'payment_method': 'Cheque'. Se reemplazará con 'N/A'.\n",
      "    Advertencia: Valor inválido detectado en 'payment_method': 'Efectivo'. Se reemplazará con 'N/A'.\n",
      "    Advertencia: Valor inválido detectado en 'payment_method': 'Efectivo'. Se reemplazará con 'N/A'.\n",
      "    Advertencia: Valor inválido detectado en 'payment_method': 'Efectivo'. Se reemplazará con 'N/A'.\n",
      "    Advertencia: Valor inválido detectado en 'payment_method': 'Efectivo'. Se reemplazará con 'N/A'.\n",
      "    Advertencia: Valor inválido detectado en 'payment_method': 'Efectivo'. Se reemplazará con 'N/A'.\n",
      "    Advertencia: Valor inválido detectado en 'payment_method': 'Efectivo'. Se reemplazará con 'N/A'.\n",
      "    Advertencia: Valor inválido detectado en 'payment_method': 'Acuerdo mutuo'. Se reemplazará con 'N/A'.\n",
      "    Advertencia: Valor inválido detectado en 'payment_method': 'Efectivo'. Se reemplazará con 'N/A'.\n",
      "    Advertencia: Valor inválido detectado en 'payment_method': 'Efectivo'. Se reemplazará con 'N/A'.\n",
      "    Advertencia: Valor inválido detectado en 'payment_method': 'Efectivo'. Se reemplazará con 'N/A'.\n",
      "    Advertencia: Valor inválido detectado en 'payment_method': 'Cheque'. Se reemplazará con 'N/A'.\n",
      "    Advertencia: Valor inválido detectado en 'payment_method': 'Efectivo'. Se reemplazará con 'N/A'.\n",
      "    Advertencia: Valor inválido detectado en 'payment_method': 'Efectivo'. Se reemplazará con 'N/A'.\n",
      "    Advertencia: Valor inválido detectado en 'payment_method': 'Efectivo'. Se reemplazará con 'N/A'.\n",
      "  Columna 'payment_method' aplanada a 'description' o 'N/A'.\n",
      "Procesando columna JSON: 'bank'...\n",
      "    Advertencia: Valor inválido detectado en 'bank': 'Banco Davivienda'. Se reemplazará con 'N/A'.\n",
      "    Advertencia: Valor inválido detectado en 'bank': 'Bancolombia'. Se reemplazará con 'N/A'.\n",
      "    Advertencia: Valor inválido detectado en 'bank': 'None'. Se reemplazará con 'N/A'.\n",
      "    Advertencia: Valor inválido detectado en 'bank': 'Bancolombia'. Se reemplazará con 'N/A'.\n",
      "    Advertencia: Valor inválido detectado en 'bank': 'None'. Se reemplazará con 'N/A'.\n",
      "    Advertencia: Valor inválido detectado en 'bank': 'None'. Se reemplazará con 'N/A'.\n",
      "    Advertencia: Valor inválido detectado en 'bank': 'None'. Se reemplazará con 'N/A'.\n",
      "    Advertencia: Valor inválido detectado en 'bank': 'None'. Se reemplazará con 'N/A'.\n",
      "    Advertencia: Valor inválido detectado en 'bank': 'None'. Se reemplazará con 'N/A'.\n",
      "    Advertencia: Valor inválido detectado en 'bank': 'None'. Se reemplazará con 'N/A'.\n",
      "    Advertencia: Valor inválido detectado en 'bank': 'Bancolombia'. Se reemplazará con 'N/A'.\n",
      "    Advertencia: Valor inválido detectado en 'bank': 'None'. Se reemplazará con 'N/A'.\n",
      "    Advertencia: Valor inválido detectado en 'bank': 'Banco Caja Social'. Se reemplazará con 'N/A'.\n",
      "    Advertencia: Valor inválido detectado en 'bank': 'None'. Se reemplazará con 'N/A'.\n",
      "    Advertencia: Valor inválido detectado en 'bank': 'None'. Se reemplazará con 'N/A'.\n",
      "    Advertencia: Valor inválido detectado en 'bank': 'None'. Se reemplazará con 'N/A'.\n",
      "    Advertencia: Valor inválido detectado en 'bank': 'None'. Se reemplazará con 'N/A'.\n",
      "    Advertencia: Valor inválido detectado en 'bank': 'None'. Se reemplazará con 'N/A'.\n",
      "    Advertencia: Valor inválido detectado en 'bank': 'None'. Se reemplazará con 'N/A'.\n",
      "    Advertencia: Valor inválido detectado en 'bank': 'None'. Se reemplazará con 'N/A'.\n",
      "    Advertencia: Valor inválido detectado en 'bank': 'None'. Se reemplazará con 'N/A'.\n",
      "    Advertencia: Valor inválido detectado en 'bank': 'None'. Se reemplazará con 'N/A'.\n",
      "    Advertencia: Valor inválido detectado en 'bank': 'None'. Se reemplazará con 'N/A'.\n",
      "    Advertencia: Valor inválido detectado en 'bank': 'None'. Se reemplazará con 'N/A'.\n",
      "    Advertencia: Valor inválido detectado en 'bank': 'None'. Se reemplazará con 'N/A'.\n",
      "    Advertencia: Valor inválido detectado en 'bank': 'None'. Se reemplazará con 'N/A'.\n",
      "    Advertencia: Valor inválido detectado en 'bank': 'None'. Se reemplazará con 'N/A'.\n",
      "    Advertencia: Valor inválido detectado en 'bank': 'None'. Se reemplazará con 'N/A'.\n",
      "    Advertencia: Valor inválido detectado en 'bank': 'None'. Se reemplazará con 'N/A'.\n",
      "    Advertencia: Valor inválido detectado en 'bank': 'None'. Se reemplazará con 'N/A'.\n",
      "    Advertencia: Valor inválido detectado en 'bank': 'None'. Se reemplazará con 'N/A'.\n",
      "    Advertencia: Valor inválido detectado en 'bank': 'None'. Se reemplazará con 'N/A'.\n",
      "    Advertencia: Valor inválido detectado en 'bank': 'None'. Se reemplazará con 'N/A'.\n",
      "    Advertencia: Valor inválido detectado en 'bank': 'None'. Se reemplazará con 'N/A'.\n",
      "    Advertencia: Valor inválido detectado en 'bank': 'None'. Se reemplazará con 'N/A'.\n",
      "    Advertencia: Valor inválido detectado en 'bank': 'None'. Se reemplazará con 'N/A'.\n",
      "    Advertencia: Valor inválido detectado en 'bank': 'None'. Se reemplazará con 'N/A'.\n",
      "    Advertencia: Valor inválido detectado en 'bank': 'None'. Se reemplazará con 'N/A'.\n",
      "  Columna 'bank' aplanada a 'description' o 'N/A'.\n",
      "Procesando columna JSON: 'bank_account_type'...\n",
      "    Advertencia: Valor inválido detectado en 'bank_account_type': 'Cuenta de ahorros'. Se reemplazará con 'N/A'.\n",
      "    Advertencia: Valor inválido detectado en 'bank_account_type': 'Cuenta de ahorros'. Se reemplazará con 'N/A'.\n",
      "    Advertencia: Valor inválido detectado en 'bank_account_type': 'None'. Se reemplazará con 'N/A'.\n",
      "    Advertencia: Valor inválido detectado en 'bank_account_type': 'Cuenta de ahorros'. Se reemplazará con 'N/A'.\n",
      "    Advertencia: Valor inválido detectado en 'bank_account_type': 'None'. Se reemplazará con 'N/A'.\n",
      "    Advertencia: Valor inválido detectado en 'bank_account_type': 'None'. Se reemplazará con 'N/A'.\n",
      "    Advertencia: Valor inválido detectado en 'bank_account_type': 'None'. Se reemplazará con 'N/A'.\n",
      "    Advertencia: Valor inválido detectado en 'bank_account_type': 'None'. Se reemplazará con 'N/A'.\n",
      "    Advertencia: Valor inválido detectado en 'bank_account_type': 'None'. Se reemplazará con 'N/A'.\n",
      "    Advertencia: Valor inválido detectado en 'bank_account_type': 'None'. Se reemplazará con 'N/A'.\n",
      "    Advertencia: Valor inválido detectado en 'bank_account_type': 'Cuenta de ahorros'. Se reemplazará con 'N/A'.\n",
      "    Advertencia: Valor inválido detectado en 'bank_account_type': 'None'. Se reemplazará con 'N/A'.\n",
      "    Advertencia: Valor inválido detectado en 'bank_account_type': 'Cuenta de ahorros'. Se reemplazará con 'N/A'.\n",
      "    Advertencia: Valor inválido detectado en 'bank_account_type': 'None'. Se reemplazará con 'N/A'.\n",
      "    Advertencia: Valor inválido detectado en 'bank_account_type': 'None'. Se reemplazará con 'N/A'.\n",
      "    Advertencia: Valor inválido detectado en 'bank_account_type': 'None'. Se reemplazará con 'N/A'.\n",
      "    Advertencia: Valor inválido detectado en 'bank_account_type': 'None'. Se reemplazará con 'N/A'.\n",
      "    Advertencia: Valor inválido detectado en 'bank_account_type': 'None'. Se reemplazará con 'N/A'.\n",
      "    Advertencia: Valor inválido detectado en 'bank_account_type': 'None'. Se reemplazará con 'N/A'.\n",
      "    Advertencia: Valor inválido detectado en 'bank_account_type': 'None'. Se reemplazará con 'N/A'.\n",
      "    Advertencia: Valor inválido detectado en 'bank_account_type': 'None'. Se reemplazará con 'N/A'.\n",
      "    Advertencia: Valor inválido detectado en 'bank_account_type': 'None'. Se reemplazará con 'N/A'.\n",
      "    Advertencia: Valor inválido detectado en 'bank_account_type': 'None'. Se reemplazará con 'N/A'.\n",
      "    Advertencia: Valor inválido detectado en 'bank_account_type': 'None'. Se reemplazará con 'N/A'.\n",
      "    Advertencia: Valor inválido detectado en 'bank_account_type': 'None'. Se reemplazará con 'N/A'.\n",
      "    Advertencia: Valor inválido detectado en 'bank_account_type': 'None'. Se reemplazará con 'N/A'.\n",
      "    Advertencia: Valor inválido detectado en 'bank_account_type': 'None'. Se reemplazará con 'N/A'.\n",
      "    Advertencia: Valor inválido detectado en 'bank_account_type': 'None'. Se reemplazará con 'N/A'.\n",
      "    Advertencia: Valor inválido detectado en 'bank_account_type': 'None'. Se reemplazará con 'N/A'.\n",
      "    Advertencia: Valor inválido detectado en 'bank_account_type': 'None'. Se reemplazará con 'N/A'.\n",
      "    Advertencia: Valor inválido detectado en 'bank_account_type': 'None'. Se reemplazará con 'N/A'.\n",
      "    Advertencia: Valor inválido detectado en 'bank_account_type': 'None'. Se reemplazará con 'N/A'.\n",
      "    Advertencia: Valor inválido detectado en 'bank_account_type': 'None'. Se reemplazará con 'N/A'.\n",
      "    Advertencia: Valor inválido detectado en 'bank_account_type': 'None'. Se reemplazará con 'N/A'.\n",
      "    Advertencia: Valor inválido detectado en 'bank_account_type': 'None'. Se reemplazará con 'N/A'.\n",
      "    Advertencia: Valor inválido detectado en 'bank_account_type': 'None'. Se reemplazará con 'N/A'.\n",
      "    Advertencia: Valor inválido detectado en 'bank_account_type': 'None'. Se reemplazará con 'N/A'.\n",
      "    Advertencia: Valor inválido detectado en 'bank_account_type': 'None'. Se reemplazará con 'N/A'.\n",
      "  Columna 'bank_account_type' aplanada a 'description' o 'N/A'.\n",
      "\n",
      "Aplanamiento de JSONs en DataFrame completado.\n",
      "Volcando el DataFrame limpio de vuelta a la tabla 'employees' en la base de datos...\n",
      "Ocurrió un error general durante el limpieza de JSONs en 'employees' con Pandas: 'TABLENAME'\n",
      "Por favor, revisa la conexión a la base de datos o los datos en sí.\n"
     ]
    }
   ],
   "source": [
    "# Script para limpiar y aplanar columnas JSON en 'employees' usando Pandas \n",
    "\n",
    "import pandas as pd\n",
    "from db_connection import get_engine # Asegúrate de tener get_engine configurado\n",
    "\n",
    "print(\"\\n--- Bloque 6 (Estrategia Definitiva): Limpieza de JSONs en 'employees' con Pandas ---\")\n",
    "\n",
    "try:\n",
    "    # 1. Obtener el engine de SQLAlchemy\n",
    "    engine = get_engine()\n",
    "    print(\"Engine de base de datos obtenido.\")\n",
    "\n",
    "    # 2. Cargar la tabla 'employees' completa en un DataFrame de Pandas\n",
    "    print(\"Cargando la tabla 'employees' en un DataFrame de Pandas...\")\n",
    "    df_employees = pd.read_sql(\"SELECT * FROM employees;\", engine)\n",
    "    print(f\"DataFrame de 'employees' cargado. Registros: {len(df_employees)}\")\n",
    "\n",
    "    # Lista de columnas JSON a procesar\n",
    "    json_columns = [\n",
    "        'identity_document_type',\n",
    "        'country',\n",
    "        'region',\n",
    "        'city',\n",
    "        'emergency_contact',\n",
    "        'payment_method',\n",
    "        'bank',\n",
    "        'bank_account_type'\n",
    "    ]\n",
    "\n",
    "    # 3. Iterar sobre cada columna JSON y aplanarla en Pandas\n",
    "    print(\"\\nIniciando aplanamiento de columnas JSON en Pandas...\")\n",
    "    for col in json_columns:\n",
    "        print(f\"Procesando columna JSON: '{col}'...\")\n",
    "        \n",
    "        # Función para extraer la descripción de un JSON en Python, manejando errores\n",
    "        def extract_json_description(json_str):\n",
    "            if pd.isna(json_str) or not isinstance(json_str, str):\n",
    "                return 'N/A' # Manejar NaN o tipos no string\n",
    "            try:\n",
    "                # Intentar cargar como JSON. Si falla, es inválido.\n",
    "                # json.loads() es más estricto y útil para capturar el error.\n",
    "                import json\n",
    "                data = json.loads(json_str)\n",
    "                # Si es un objeto JSON y tiene 'description', la extraemos\n",
    "                if isinstance(data, dict) and 'description' in data:\n",
    "                    return str(data['description'])\n",
    "                # Si es un objeto pero no tiene 'description', devolvemos 'N/A'\n",
    "                return 'N/A'\n",
    "            except json.JSONDecodeError:\n",
    "                # Si no es un JSON válido o la carga falla, devolver 'N/A'\n",
    "                print(f\"    Advertencia: Valor inválido detectado en '{col}': '{json_str}'. Se reemplazará con 'N/A'.\")\n",
    "                return 'N/A'\n",
    "            except Exception as e:\n",
    "                # Otros errores inesperados durante el procesamiento del JSON\n",
    "                print(f\"    Advertencia: Error inesperado al procesar '{json_str}' en '{col}': {e}. Se reemplazará con 'N/A'.\")\n",
    "                return 'N/A'\n",
    "        \n",
    "        # Aplicar la función a la columna\n",
    "        df_employees[col] = df_employees[col].apply(extract_json_description)\n",
    "        print(f\"  Columna '{col}' aplanada a 'description' o 'N/A'.\")\n",
    "\n",
    "    print(\"\\nAplanamiento de JSONs en DataFrame completado.\")\n",
    "\n",
    "    # 4. Volver a guardar el DataFrame limpio en la base de datos\n",
    "    # ¡ADVERTENCIA!: 'if_exists='replace'' BORRARÁ Y RECREARÁ LA TABLA.\n",
    "    # Esta es la forma más directa de asegurar que los cambios se reflejen.\n",
    "    print(\"Volcando el DataFrame limpio de vuelta a la tabla 'employees' en la base de datos...\")\n",
    "    df_employees.to_sql(name='employees', con=engine, if_exists='replace', index=False)\n",
    "    print(\"DataFrame volcado a la base de datos exitosamente.\")\n",
    "\n",
    "    print(\"\\nLimpieza y aplanamiento de JSONs en 'employees' finalizada exitosamente.\")\n",
    "\n",
    "except Exception as e:\n",
    "    print(f\"Ocurrió un error general durante el limpieza de JSONs en 'employees' con Pandas: {e}\")\n",
    "    print(\"Por favor, revisa la conexión a la base de datos o los datos en sí.\")"
   ]
  },
  {
   "cell_type": "markdown",
   "id": "cebba798",
   "metadata": {},
   "source": [
    "*TABLA 3: employee_contracts o Contrato de empleados*\n"
   ]
  },
  {
   "cell_type": "code",
   "execution_count": 30,
   "id": "20ba469f",
   "metadata": {},
   "outputs": [
    {
     "name": "stdout",
     "output_type": "stream",
     "text": [
      "\n",
      "--- Bloque 7: Exploración de la Estructura de 'employee_contracts' ---\n",
      "Reestableciendo conexión a la base de datos...\n",
      "✅ Conexión exitosa a la base de datos\n",
      "Conexión y cursor reestablecidos.\n",
      "Columnas de la tabla 'employee_contracts':\n",
      "  - id (int unsigned)\n",
      "  - employee_id (int unsigned)\n",
      "  - employee_type (varchar(255))\n",
      "  - employee_subtype (varchar(255))\n",
      "  - high_penson_risk (tinyint(1))\n",
      "  - integral_salary (tinyint(1))\n",
      "  - type (varchar(255))\n",
      "  - start_date (date)\n",
      "  - end_date (date)\n",
      "  - salary (double(16,2))\n",
      "  - transport_subsidy (tinyint(1))\n",
      "  - risk_type (varchar(255))\n",
      "  - holidays_enjoyed (smallint unsigned)\n",
      "  - health_provider_id (bigint unsigned)\n",
      "  - health_provider (varchar(255))\n",
      "  - pension_provider (varchar(255))\n",
      "  - pension_provider_id (bigint unsigned)\n",
      "  - severance_provider (varchar(255))\n",
      "  - severance_provider_id (bigint unsigned)\n",
      "  - family_compensation_fund_provider (json)\n",
      "  - family_compensation_fund_provider_id (bigint unsigned)\n",
      "  - settlement_cause (varchar(255))\n",
      "  - settlement_with_just_cause (tinyint(1))\n",
      "  - settlement_probationary_period (tinyint(1))\n",
      "  - settlement_date (date)\n",
      "  - settlement_worked_days (smallint unsigned)\n",
      "  - settlement_severance_base_days (smallint unsigned)\n",
      "  - settlement_service_bonus_base_days (smallint unsigned)\n",
      "  - settlement_holidays_to_pay (double(19,16))\n",
      "  - settlement_salary_base (double(16,2))\n",
      "  - settlement_holidays_base (double(16,2))\n",
      "  - settlement_severance_base (double(16,2))\n",
      "  - settlement_service_bonus_base (double(16,2))\n",
      "  - settlement_non_salary_income (double(16,2))\n",
      "  - settlement_loans (double(16,2))\n",
      "  - settlement_deductions (double(16,2))\n",
      "  - settlement_holidays (double(16,2))\n",
      "  - settlement_severance (double(16,2))\n",
      "  - settlement_severance_interests (double(16,2))\n",
      "  - settlement_service_bonus (double(16,2))\n",
      "  - settlement_redundancy_payment (double(16,2))\n",
      "  - settlement_others (double(16,2))\n",
      "  - settlement_total (double(16,2))\n",
      "  - settlement_notes (varchar(500))\n",
      "  - status (tinyint(1))\n",
      "  - user_id (int unsigned)\n",
      "  - settlement_approval_user_id (int unsigned)\n",
      "  - settlement_approved_at (timestamp)\n",
      "  - created_at (timestamp)\n",
      "  - updated_at (timestamp)\n",
      "Conexión cerrada al finalizar el bloque.\n"
     ]
    }
   ],
   "source": [
    "# Script para obtener la información de las columnas de 'employee_contracts' (RE-REVISADO 2)\n",
    "\n",
    "# Asegúrate de que get_connection esté importado desde tu db_connection.py\n",
    "from db_connection import get_connection\n",
    "\n",
    "print(\"\\n--- Bloque 7: Exploración de la Estructura de 'employee_contracts' ---\")\n",
    "\n",
    "# Reestablecer la conexión y el cursor\n",
    "print(\"Reestableciendo conexión a la base de datos...\")\n",
    "try:\n",
    "    # Cerrar si hay alguna conexión o cursor previo que no se cerró correctamente\n",
    "    # SOLO la conexión tiene is_connected()\n",
    "    if 'conexion' in globals() and conexion is not None and conexion.is_connected():\n",
    "        # Primero cierra el cursor si existe y está asociado a la conexión\n",
    "        if 'cursor' in globals() and cursor is not None:\n",
    "            try:\n",
    "                cursor.close()\n",
    "                del cursor # Eliminar la variable del cursor\n",
    "            except Exception as e:\n",
    "                print(f\"Advertencia al cerrar cursor previo: {e}\")\n",
    "        conexion.close()\n",
    "        del conexion # Eliminar la variable de la conexión\n",
    "    \n",
    "    conexion = get_connection()\n",
    "    cursor = conexion.cursor()\n",
    "    print(\"Conexión y cursor reestablecidos.\")\n",
    "except Exception as e:\n",
    "    print(f\"ERROR: No se pudo reestablecer la conexión a la base de datos: {e}\")\n",
    "    # Si no podemos conectar, no tiene sentido continuar\n",
    "    raise\n",
    "\n",
    "try:\n",
    "    cursor.execute(\"DESCRIBE employee_contracts;\")\n",
    "    columnas_employee_contracts = cursor.fetchall()\n",
    "\n",
    "    print(\"Columnas de la tabla 'employee_contracts':\")\n",
    "    for columna in columnas_employee_contracts:\n",
    "        print(f\"  - {columna[0]} ({columna[1]})\")\n",
    "\n",
    "except Exception as e:\n",
    "    print(f\"Ocurrió un error al intentar obtener las columnas de 'employee_contracts': {e}\")\n",
    "finally:\n",
    "    # Cerrar la conexión y el cursor al finalizar el bloque para limpiar recursos\n",
    "    # Asegurarse de que las variables existan antes de intentar cerrarlas\n",
    "    if 'cursor' in locals() and cursor is not None:\n",
    "        try:\n",
    "            cursor.close()\n",
    "        except Exception as e:\n",
    "            print(f\"Advertencia al cerrar cursor en finally: {e}\")\n",
    "    if 'conexion' in locals() and conexion is not None and conexion.is_connected():\n",
    "        try:\n",
    "            conexion.close()\n",
    "        except Exception as e:\n",
    "            print(f\"Advertencia al cerrar conexión en finally: {e}\")\n",
    "    print(\"Conexión cerrada al finalizar el bloque.\")"
   ]
  },
  {
   "cell_type": "markdown",
   "id": "499f2e0e",
   "metadata": {},
   "source": [
    "📜 *Análisis Detallado de la Tabla employee_contracts*\n",
    "\n",
    "\n",
    "🎯 Propósito y Relevancia Estratégica en RRHH\n",
    "\n",
    "Esta tabla es el repositorio de todos los acuerdos laborales activos e históricos. Cada fila representa un contrato específico, detallando los términos de empleo, el salario, la duración y los proveedores asociados. Es fundamental para:\n",
    "\n",
    "Gestión Contractual: Monitorear tipos de contratos y su vigencia.\n",
    "Análisis de Compensación: Vincular salarios a tipos de contrato y periodos.\n",
    "Beneficios y Seguridad Social: Rastrear proveedores de salud, pensión y cesantías.\n",
    "Cálculo de Antigüedad y Rotación: Las fechas de inicio y fin son clave aquí.\n",
    "\n",
    "🔍 *Columnas Clave y Consideraciones Cruciales*\n",
    "\n",
    "id: int unsigned\n",
    "Identificador Único: La ✨ clave primaria ✨ de la tabla. Un id único para cada contrato asegura su singularidad.\n",
    "Limpieza: No requiere limpieza. Es tu núcleo de referencia para este contrato.\n",
    "employee_id: int unsigned\n",
    "\n",
    "Vínculo con el Empleado: Es una 🔗 clave foránea que une este contrato con su respectivo empleado en la tabla employees.\n",
    "Limpieza: ¡Cuidado! Es un punto crítico de integridad. Debemos verificar que todos los employee_id existan en employees. Si hay IDs huérfanos, necesitaríamos la estrategia de deshabilitar/re-habilitar FOREIGN_KEY_CHECKS para cualquier corrección.\n",
    "employee_type: json\n",
    "\n",
    "Tipo de Empleado: Categoriza la naturaleza de la vinculación (ej., \"fijo\", \"temporal\").\n",
    "Limpieza: Es una columna JSON que debes aplanar. Extraeremos el valor relevante (como description, name o code) a un VARCHAR(255) para facilitar su uso en análisis.\n",
    "employee_subtype: json\n",
    "\n",
    "Subtipo de Empleado: Provee una categoría más granular si aplica.\n",
    "Limpieza: Otra columna JSON para aplanar, siguiendo la misma lógica que employee_type.\n",
    "high_penson_risk: tinyint(1)\n",
    "\n",
    "Indicador de Riesgo: Booleano que señala si hay un alto riesgo de pensión.\n",
    "Limpieza: ✅ MySQL lo almacena como 0 o 1. Python lo interpretará como False/True. Si hay NULLs, la decisión es si convertirlos a 0 (Falso) o mantenerlos como None.\n",
    "integral_salary: tinyint(1)\n",
    "\n",
    "Salario Integral: Booleano que indica si el salario del contrato es de tipo integral.\n",
    "Limpieza: Similar a high_penson_risk, maneja los NULLs si existen.\n",
    "type: json\n",
    "\n",
    "Tipo de Contrato: Define la modalidad del contrato (ej., \"a término indefinido\", \"obra labor\").\n",
    "Limpieza: Una columna JSON vital para aplanar. Es fundamental para cualquier clasificación contractual.\n",
    "start_date: date\n",
    "\n",
    "Inicio del Contrato: La fecha en que el contrato comenzó su vigencia.\n",
    "Limpieza: 🗓️ Debería ser un campo obligatorio. Asegúrate de que los formatos de fecha sean válidos. Los NULLs serían anómalos.\n",
    "end_date: date\n",
    "\n",
    "Fin del Contrato: La fecha de finalización del contrato.\n",
    "Limpieza: 🛑 ¡Atención especial! Es completamente normal que sea NULL para contratos indefinidos o que aún están activos. Al calcular la duración del contrato, los NULLs se interpretarán como \"hasta la fecha actual\" o \"vigente\".\n",
    "salary: double(16,2)\n",
    "\n",
    "Monto Salarial: El salario acordado en este contrato.\n",
    "Limpieza: 💲 Revisa valores atípicos (salarios de 0 o inusuales). Si hay NULLs, y el salario es obligatorio, pueden necesitar imputación o reemplazo.\n",
    "transport_subsidy: tinyint(1)\n",
    "\n",
    "Subsidio de Transporte: Booleano que indica si se otorga subsidio de transporte.\n",
    "Limpieza: Maneja los NULLs si existen.\n",
    "risk_type: json\n",
    "\n",
    "Tipo de Riesgo Laboral: Clasifica el riesgo asociado a la labor.\n",
    "Limpieza: Columna JSON para aplanar. Es importante para análisis de seguridad y salud.\n",
    "holidays_enjoyed: smallint unsigned\n",
    "\n",
    "Días de Vacaciones: Registra los días de vacaciones que el empleado ha disfrutado bajo este contrato.\n",
    "Limpieza: 🏖️ Los NULLs podrían significar 0 días disfrutados o dato no disponible. La decisión de convertir NULL a 0 depende de la lógica de negocio.\n",
    "health_provider_id: bigint unsigned\n",
    "\n",
    "ID Proveedor Salud: Posible 🔗 clave foránea al proveedor de salud.\n",
    "Limpieza: Si es FK, verifica su integridad con la tabla de proveedores de salud.\n",
    "health_provider: json\n",
    "\n",
    "Info. Proveedor Salud: Detalles del proveedor de salud.\n",
    "Limpieza: Columna JSON para aplanar.\n",
    "pension_provider: json\n",
    "\n",
    "Info. Proveedor Pensión: Detalles del proveedor de pensión.\n",
    "Limpieza: Columna JSON para aplanar.\n",
    "pension_provider_id: bigint unsigned\n",
    "\n",
    "ID Proveedor Pensión: Posible 🔗 clave foránea al proveedor de pensión.\n",
    "Limpieza: Si es FK, verifica su integridad con la tabla de proveedores de pensión.\n",
    "severance_provider: json\n",
    "\n",
    "Info. Proveedor Cesantías: Detalles del proveedor de cesantías.\n",
    "Limpieza: Columna JSON para aplanar.\n",
    "severance_provider_id: bigint unsigned\n",
    "\n",
    "ID Proveedor Cesantías: Posible 🔗 clave foránea al proveedor de cesantías.\n",
    "Limpieza: Si es FK, verifica su integridad con la tabla de proveedores de cesantías.\n",
    "settlement_approved_at: timestamp\n",
    "\n",
    "Aprobación Liquidación: Fecha de aprobación de la liquidación del contrato.\n",
    "Limpieza: ⏳ ¡Punto crítico! Será NULL para contratos activos. Solo tendrá valor para contratos que ya han finalizado y han sido liquidados. Un NULL aquí es informativo.\n",
    "created_at: timestamp\n",
    "\n",
    "Marca de Creación: Fecha y hora en que el registro fue creado.\n",
    "Limpieza: ➕ Campo de auditoría. Generalmente no requiere limpieza.\n",
    "updated_at: timestamp\n",
    "\n",
    "Última Actualización: Fecha y hora de la última modificación del registro.\n",
    "Limpieza: ✏️ Campo de auditoría. No requiere limpieza.\n",
    "\n",
    "🛠️ *Acciones Clave para Limpieza y Transformación*\n",
    "\n",
    "\n",
    "La limpieza de employee_contracts girará principalmente en torno al aplanamiento de JSONs y el manejo inteligente de las fechas y claves foráneas.\n",
    "\n",
    "Aplanar Columnas JSON:\n",
    "\n",
    "employee_type, employee_subtype, type, risk_type, health_provider, pension_provider, severance_provider.\n",
    "Aplicaremos la misma función extract_json_value que ya usamos. Esto requerirá un ALTER TABLE para cambiar su tipo a VARCHAR(255) NULL, usando la estrategia de deshabilitar/re-habilitar FOREIGN_KEY_CHECKS.\n",
    "Manejo Inteligente de Fechas (end_date, settlement_approved_at):\n",
    "\n",
    "end_date: Reconocer que NULL es un valor significativo (contrato activo). Para cálculos de duración, sustituir NULL con la fecha actual.\n",
    "settlement_approved_at: NULL también es significativo (contrato no liquidado).\n",
    "Conversión de Booleanos:\n",
    "\n",
    "Asegurar que high_penson_risk, integral_salary, transport_subsidy se manejen como booleanos en Pandas, gestionando posibles NULLs.\n",
    "Verificación de Claves Foráneas (FKs):\n",
    "\n",
    "employee_id: Prioridad alta. Identificar y corregir cualquier employee_id huérfano antes de cualquier operación que pueda afectar la integridad.\n",
    "IDs de Proveedores (health_provider_id, pension_provider_id, severance_provider_id): Si estas son FKs, la misma lógica de verificación y corrección se aplica si hay inconsistencias.\n",
    "\n",
    "\n",
    "📈 *Potencial para Tableros BI y Métricas Clave*\n",
    "Esta tabla es una fuente inagotable de insights para RRHH:\n",
    "\n",
    "📊 Distribución por Tipo de Contrato: ¿Cuántos contratos de cada tipo tenemos (indefinido, obra labor, etc.)?\n",
    "⏳ Duración Promedio de Contratos: ¿Cuánto tiempo duran nuestros contratos a término fijo?\n",
    "💸 Salario Promedio por Tipo de Contrato: Comparar la compensación entre diferentes modalidades contractuales.\n",
    "📈 Rotación de Contratos: Analizar cuántos contratos finalizan en un periodo y por qué (si se combina con otras fuentes).\n",
    "⚕️ Análisis de Proveedores: ¿Qué proveedores de salud, pensión o cesantías son los más utilizados?\n"
   ]
  },
  {
   "cell_type": "code",
   "execution_count": null,
   "id": "eb83a661",
   "metadata": {},
   "outputs": [
    {
     "name": "stdout",
     "output_type": "stream",
     "text": [
      "\n",
      "--- Bloque 8: Verificación Inicial de 'employee_contracts' ---\n",
      "Reestableciendo conexión a la base de datos...\n",
      "✅ Conexión exitosa a la base de datos\n",
      "Conexión y cursor reestablecidos.\n",
      "\n",
      "Total de registros en 'employee_contracts': 43\n",
      "\n",
      "Valores nulos por columna en 'employee_contracts':\n",
      "  - id: 0 nulos\n",
      "  - employee_id: 0 nulos\n",
      "  - employee_type: 0 nulos\n",
      "  - employee_subtype: 0 nulos\n",
      "  - high_penson_risk: 0 nulos\n",
      "  - integral_salary: 0 nulos\n",
      "  - type: 0 nulos\n",
      "  - start_date: 0 nulos\n",
      "  - end_date: 32 nulos\n",
      "  - salary: 0 nulos\n",
      "  - transport_subsidy: 0 nulos\n",
      "  - risk_type: 0 nulos\n",
      "  - holidays_enjoyed: 0 nulos\n",
      "  - health_provider_id: 5 nulos\n",
      "  - health_provider: 0 nulos\n",
      "  - pension_provider: 2 nulos\n",
      "  - pension_provider_id: 5 nulos\n",
      "  - severance_provider: 2 nulos\n",
      "  - severance_provider_id: 5 nulos\n",
      "  - family_compensation_fund_provider: 0 nulos\n",
      "  - family_compensation_fund_provider_id: 5 nulos\n",
      "  - settlement_cause: 30 nulos\n",
      "  - settlement_with_just_cause: 0 nulos\n",
      "  - settlement_probationary_period: 0 nulos\n",
      "  - settlement_date: 30 nulos\n",
      "  - settlement_worked_days: 30 nulos\n",
      "  - settlement_severance_base_days: 0 nulos\n",
      "  - settlement_service_bonus_base_days: 0 nulos\n",
      "  - settlement_holidays_to_pay: 30 nulos\n",
      "  - settlement_salary_base: 30 nulos\n",
      "  - settlement_holidays_base: 30 nulos\n",
      "  - settlement_severance_base: 30 nulos\n",
      "  - settlement_service_bonus_base: 30 nulos\n",
      "  - settlement_non_salary_income: 30 nulos\n",
      "  - settlement_loans: 30 nulos\n",
      "  - settlement_deductions: 30 nulos\n",
      "  - settlement_holidays: 30 nulos\n",
      "  - settlement_severance: 30 nulos\n",
      "  - settlement_severance_interests: 30 nulos\n",
      "  - settlement_service_bonus: 30 nulos\n",
      "  - settlement_redundancy_payment: 30 nulos\n",
      "  - settlement_others: 30 nulos\n",
      "  - settlement_total: 30 nulos\n",
      "  - settlement_notes: 42 nulos\n",
      "  - files: 43 nulos\n",
      "  - status: 0 nulos\n",
      "  - user_id: 0 nulos\n",
      "  - settlement_approval_user_id: 30 nulos\n",
      "  - settlement_approved_at: 30 nulos\n",
      "  - created_at: 0 nulos\n",
      "  - updated_at: 0 nulos\n",
      "\n",
      "Filas duplicadas basadas en 'id' en 'employee_contracts': 0\n",
      "Contratos duplicados basados en 'employee_id' y 'start_date': 0\n",
      "\n",
      "Valores únicos en columnas clave de 'employee_contracts':\n",
      "  - high_penson_risk: [0, 1]\n",
      "  - integral_salary: [0, 1]\n",
      "  - transport_subsidy: [0, 1]\n",
      "\n",
      "Muestra de contenido de la columna JSON 'employee_type' (primeros 5):\n",
      "  - Muestra 1: {\"code\": \"01\", \"description\": \"Dependiente\"}\n",
      "  - Muestra 2: {\"code\": \"01\", \"description\": \"Dependiente\"}\n",
      "  - Muestra 3: {\"code\": \"01\", \"description\": \"Dependiente\"}\n",
      "  - Muestra 4: {\"code\": \"01\", \"description\": \"Dependiente\"}\n",
      "  - Muestra 5: {\"code\": \"01\", \"description\": \"Dependiente\"}\n",
      "Conexión cerrada al finalizar el bloque.\n"
     ]
    }
   ],
   "source": [
    "# Script para la verificación inicial de datos en 'employee_contracts'\n",
    "\n",
    "# Asegúrate de que get_connection esté importado desde tu db_connection.py\n",
    "from db_connection import get_connection\n",
    "\n",
    "print(\"\\n--- Bloque 8: Verificación Inicial de 'employee_contracts' ---\")\n",
    "\n",
    "# Reestablecer la conexión y el cursor para este bloque\n",
    "print(\"Reestableciendo conexión a la base de datos...\")\n",
    "try:\n",
    "    if 'conexion' in globals() and conexion is not None and conexion.is_connected():\n",
    "        if 'cursor' in globals() and cursor is not None:\n",
    "            try:\n",
    "                cursor.close()\n",
    "                del cursor\n",
    "            except Exception as e:\n",
    "                print(f\"Advertencia al cerrar cursor previo: {e}\")\n",
    "        conexion.close()\n",
    "        del conexion\n",
    "    \n",
    "    conexion = get_connection()\n",
    "    cursor = conexion.cursor()\n",
    "    print(\"Conexión y cursor reestablecidos.\")\n",
    "except Exception as e:\n",
    "    print(f\"ERROR: No se pudo reestablecer la conexión a la base de datos: {e}\")\n",
    "    raise\n",
    "\n",
    "try:\n",
    "    # 1. Obtener el número total de registros\n",
    "    cursor.execute(\"SELECT COUNT(*) FROM employee_contracts;\")\n",
    "    total_registros_contracts = cursor.fetchone()[0]\n",
    "    print(f\"\\nTotal de registros en 'employee_contracts': {total_registros_contracts}\")\n",
    "\n",
    "    # 2. Verificar valores nulos por columna\n",
    "    print(\"\\nValores nulos por columna en 'employee_contracts':\")\n",
    "    # Para esto, usaremos la lista de columnas que acabas de compartir\n",
    "    # (asumiendo que 'columnas_employee_contracts' está disponible o se recrea)\n",
    "    cursor.execute(\"DESCRIBE employee_contracts;\")\n",
    "    columnas_employee_contracts = cursor.fetchall()\n",
    "    \n",
    "    for columna_info in columnas_employee_contracts:\n",
    "        nombre_columna = columna_info[0]\n",
    "        cursor.execute(f\"SELECT COUNT(*) FROM employee_contracts WHERE {nombre_columna} IS NULL;\")\n",
    "        nulos_count = cursor.fetchone()[0]\n",
    "        if nulos_count > 0:\n",
    "            print(f\"  - {nombre_columna}: {nulos_count} nulos\")\n",
    "        else:\n",
    "            print(f\"  - {nombre_columna}: 0 nulos\")\n",
    "\n",
    "    # 3. Verificar filas duplicadas\n",
    "    cursor.execute(\"SELECT COUNT(id) - COUNT(DISTINCT id) FROM employee_contracts;\")\n",
    "    duplicados_id_contracts = cursor.fetchone()[0]\n",
    "    print(f\"\\nFilas duplicadas basadas en 'id' en 'employee_contracts': {duplicados_id_contracts}\")\n",
    "\n",
    "    # Es posible que un empleado tenga múltiples contratos a lo largo del tiempo,\n",
    "    # pero no debería tener dos contratos con la misma fecha de inicio.\n",
    "    cursor.execute(\"\"\"\n",
    "        SELECT COUNT(*)\n",
    "        FROM (\n",
    "            SELECT employee_id, start_date, COUNT(*)\n",
    "            FROM employee_contracts\n",
    "            GROUP BY employee_id, start_date\n",
    "            HAVING COUNT(*) > 1\n",
    "        ) AS duplicated_contracts;\n",
    "    \"\"\")\n",
    "    duplicados_employee_date = cursor.fetchone()[0]\n",
    "    print(f\"Contratos duplicados basados en 'employee_id' y 'start_date': {duplicados_employee_date}\")\n",
    "\n",
    "    # 4. Obtener valores únicos para columnas booleanas (tinyint) y una muestra de JSON\n",
    "    print(\"\\nValores únicos en columnas clave de 'employee_contracts':\")\n",
    "\n",
    "    # Para 'high_penson_risk'\n",
    "    cursor.execute(\"SELECT DISTINCT high_penson_risk FROM employee_contracts;\")\n",
    "    high_penson_risk_unicos = [fila[0] for fila in cursor.fetchall()]\n",
    "    print(f\"  - high_penson_risk: {high_penson_risk_unicos}\")\n",
    "\n",
    "    # Para 'integral_salary'\n",
    "    cursor.execute(\"SELECT DISTINCT integral_salary FROM employee_contracts;\")\n",
    "    integral_salary_unicos = [fila[0] for fila in cursor.fetchall()]\n",
    "    print(f\"  - integral_salary: {integral_salary_unicos}\")\n",
    "\n",
    "    # Para 'transport_subsidy'\n",
    "    cursor.execute(\"SELECT DISTINCT transport_subsidy FROM employee_contracts;\")\n",
    "    transport_subsidy_unicos = [fila[0] for fila in cursor.fetchall()]\n",
    "    print(f\"  - transport_subsidy: {transport_subsidy_unicos}\")\n",
    "\n",
    "    # 5. Muestra de contenido de una columna JSON: 'employee_type' (primeros 5)\n",
    "    print(\"\\nMuestra de contenido de la columna JSON 'employee_type' (primeros 5):\")\n",
    "    cursor.execute(\"SELECT employee_type FROM employee_contracts WHERE employee_type IS NOT NULL LIMIT 5;\")\n",
    "    employee_type_sample = [fila[0] for fila in cursor.fetchall()]\n",
    "    for i, etype in enumerate(employee_type_sample):\n",
    "        print(f\"  - Muestra {i+1}: {etype}\")\n",
    "\n",
    "except Exception as e:\n",
    "    print(f\"Ocurrió un error durante la verificación inicial de datos en 'employee_contracts': {e}\")\n",
    "finally:\n",
    "    # Cerrar la conexión al finalizar el bloque para limpiar recursos\n",
    "    if 'cursor' in locals() and cursor is not None:\n",
    "        try:\n",
    "            cursor.close()\n",
    "        except Exception as e:\n",
    "            print(f\"Advertencia al cerrar cursor en finally: {e}\")\n",
    "    if 'conexion' in locals() and conexion is not None and conexion.is_connected():\n",
    "        try:\n",
    "            conexion.close()\n",
    "        except Exception as e:\n",
    "            print(f\"Advertencia al cerrar conexión en finally: {e}\")\n",
    "    print(\"Conexión cerrada al finalizar el bloque.\")"
   ]
  },
  {
   "cell_type": "markdown",
   "id": "7b181916",
   "metadata": {},
   "source": [
    "#Resultado análisis y toma de acciones: \n",
    "health_provider_id: 5 nulos. Rellenaremos con N/A.\n",
    "pension_provider: 2 nulos. Rellenaremos con N/A.\n",
    "pension_provider_id: 2 nulos. Rellenaremos con N/A.\n",
    "severance_provider: 2 nulos. Rellenaremos con N/A.\n",
    "severance_provider_id: 2 nulos. Rellenaremos con N/A.\n",
    "settlement_approved_at: 43 nulos. Esto significa que ningún contrato ha sido liquidado o aprobado para liquidación. Es importante mantener esto en cuenta para el análisis futuro (e.g., todos los contratos son activos o no han llegado a su fase de liquidación).\n",
    "Aplanamiento de Columnas JSON\n",
    "Limpieza y Transformación"
   ]
  },
  {
   "cell_type": "code",
   "execution_count": null,
   "id": "4e43269d",
   "metadata": {},
   "outputs": [
    {
     "name": "stdout",
     "output_type": "stream",
     "text": [
      "\n",
      "--- Bloque 9: Limpieza y Transformación de 'employee_contracts' ---\n",
      "Reestableciendo conexión a la base de datos...\n",
      "✅ Conexión exitosa a la base de datos\n",
      "✅ Conexión y cursor reestablecidos.\n",
      "✅ Engine de base de datos obtenido.\n",
      "\n",
      "--- PASO 1: Cargando 'employee_contracts' en Pandas y realizando transformaciones ---\n",
      "DataFrame de contratos cargado desde 'employee_contracts'. Registros: 43\n",
      "Rellenando valores nulos para columnas específicas con 'N/A' y asegurando nombres válidos...\n",
      "✅ Nombres de columnas del DataFrame validados.\n",
      "✅ Relleno de nulos completado en DataFrame.\n",
      "\n",
      "Iniciando aplanamiento de columnas JSON en Pandas...\n",
      "   Columna 'employee_type' aplanada a 'description'/'code' o NULL.\n",
      "   Columna 'employee_subtype' aplanada a 'description'/'code' o NULL.\n",
      "   Columna 'type' aplanada a 'description'/'code' o NULL.\n",
      "   Columna 'risk_type' aplanada a 'description'/'code' o NULL.\n",
      "   Columna 'health_provider' aplanada a 'description'/'code' o NULL.\n",
      "   Columna 'pension_provider' aplanada a 'description'/'code' o NULL.\n",
      "   Columna 'severance_provider' aplanada a 'description'/'code' o NULL.\n",
      "✅ Aplanamiento de JSONs en DataFrame completado.\n",
      "\n",
      "--- PASO 3: Actualizando registros en 'employee_contracts' con datos limpios ---\n",
      "\n",
      "DEBUG: Columnas en el DataFrame: ['id', 'employee_id', 'employee_type', 'employee_subtype', 'high_penson_risk', 'integral_salary', 'type', 'start_date', 'end_date', 'salary', 'transport_subsidy', 'risk_type', 'holidays_enjoyed', 'health_provider_id', 'health_provider', 'pension_provider', 'pension_provider_id', 'severance_provider', 'severance_provider_id', 'family_compensation_fund_provider', 'family_compensation_fund_provider_id', 'settlement_cause', 'settlement_with_just_cause', 'settlement_probationary_period', 'settlement_date', 'settlement_worked_days', 'settlement_severance_base_days', 'settlement_service_bonus_base_days', 'settlement_holidays_to_pay', 'settlement_salary_base', 'settlement_holidays_base', 'settlement_severance_base', 'settlement_service_bonus_base', 'settlement_non_salary_income', 'settlement_loans', 'settlement_deductions', 'settlement_holidays', 'settlement_severance', 'settlement_severance_interests', 'settlement_service_bonus', 'settlement_redundancy_payment', 'settlement_others', 'settlement_total', 'settlement_notes', 'files', 'status', 'user_id', 'settlement_approval_user_id', 'settlement_approved_at', 'created_at', 'updated_at']\n",
      "DEBUG: Columnas en la Base de Datos: ['id', 'employee_id', 'employee_type', 'employee_subtype', 'high_penson_risk', 'integral_salary', 'type', 'start_date', 'end_date', 'salary', 'transport_subsidy', 'risk_type', 'holidays_enjoyed', 'health_provider_id', 'health_provider', 'pension_provider', 'pension_provider_id', 'severance_provider', 'severance_provider_id', 'family_compensation_fund_provider', 'family_compensation_fund_provider_id', 'settlement_cause', 'settlement_with_just_cause', 'settlement_probationary_period', 'settlement_date', 'settlement_worked_days', 'settlement_severance_base_days', 'settlement_service_bonus_base_days', 'settlement_holidays_to_pay', 'settlement_salary_base', 'settlement_holidays_base', 'settlement_severance_base', 'settlement_service_bonus_base', 'settlement_non_salary_income', 'settlement_loans', 'settlement_deductions', 'settlement_holidays', 'settlement_severance', 'settlement_severance_interests', 'settlement_service_bonus', 'settlement_redundancy_payment', 'settlement_others', 'settlement_total', 'settlement_notes', 'files', 'status', 'user_id', 'settlement_approval_user_id', 'settlement_approved_at', 'created_at', 'updated_at']\n",
      "DEBUG: Columnas que se usarán para UPDATE: ['employee_id', 'employee_type', 'employee_subtype', 'high_penson_risk', 'integral_salary', 'type', 'start_date', 'end_date', 'salary', 'transport_subsidy', 'risk_type', 'holidays_enjoyed', 'health_provider_id', 'health_provider', 'pension_provider', 'pension_provider_id', 'severance_provider', 'severance_provider_id', 'family_compensation_fund_provider', 'family_compensation_fund_provider_id', 'settlement_cause', 'settlement_with_just_cause', 'settlement_probationary_period', 'settlement_date', 'settlement_worked_days', 'settlement_severance_base_days', 'settlement_service_bonus_base_days', 'settlement_holidays_to_pay', 'settlement_salary_base', 'settlement_holidays_base', 'settlement_severance_base', 'settlement_service_bonus_base', 'settlement_non_salary_income', 'settlement_loans', 'settlement_deductions', 'settlement_holidays', 'settlement_severance', 'settlement_severance_interests', 'settlement_service_bonus', 'settlement_redundancy_payment', 'settlement_others', 'settlement_total', 'settlement_notes', 'files', 'status', 'user_id', 'settlement_approval_user_id', 'settlement_approved_at', 'created_at', 'updated_at']\n",
      "DEBUG: SQL de UPDATE generado: UPDATE `employee_contracts` SET `employee_id` = %s, `employee_type` = %s, `employee_subtype` = %s, `high_penson_risk` = %s, `integral_salary` = %s, `t...\n",
      "   Progreso: 10/43 registros procesados...\n",
      "   Progreso: 20/43 registros procesados...\n",
      "   Progreso: 30/43 registros procesados...\n",
      "   Progreso: 40/43 registros procesados...\n",
      "✅ Actualización de 43 registros en la tabla 'employee_contracts' completada exitosamente.\n",
      "\n",
      "✅ Limpieza y transformación de 'employee_contracts' finalizada exitosamente.\n",
      "Cerrando la conexión después del procesamiento.\n",
      "✅ Conexión cerrada exitosamente.\n"
     ]
    }
   ],
   "source": [
    "# Script para limpiar y aplanar 'employee_contracts' directamente\n",
    "import pandas as pd\n",
    "import json\n",
    "import numpy as np # Asegúrate de que numpy esté importado\n",
    "from db_connection import get_engine, get_connection \n",
    "\n",
    "print(\"\\n--- Bloque 9: Limpieza y Transformación de 'employee_contracts' ---\")\n",
    "\n",
    "# --- PASO CRÍTICO: CERRAR Y REABRIR CONEXIÓN PARA ASEGURAR ESTADO LIMPIO ---\n",
    "print(\"Reestableciendo conexión a la base de datos...\")\n",
    "conexion = None \n",
    "cursor = None \n",
    "try:\n",
    "    if 'conexion' in globals() and conexion is not None and conexion.is_connected():\n",
    "        if 'cursor' in globals() and cursor is not None:\n",
    "            try:\n",
    "                cursor.close()\n",
    "            except Exception as e:\n",
    "                print(f\"Advertencia al cerrar cursor previo: {e}\")\n",
    "        conexion.close()\n",
    "    \n",
    "    conexion = get_connection()\n",
    "    cursor = conexion.cursor()\n",
    "    print(\"✅ Conexión y cursor reestablecidos.\")\n",
    "except Exception as e:\n",
    "    print(f\"❌ ERROR: No se pudo reestablecer la conexión a la base de datos: {e}\")\n",
    "    raise \n",
    "\n",
    "try:\n",
    "    engine = get_engine()\n",
    "    print(\"✅ Engine de base de datos obtenido.\")\n",
    "\n",
    "    # --- PASO 1: Cargando la tabla 'employee_contracts' en Pandas y realizando transformaciones ---\n",
    "    print(\"\\n--- PASO 1: Cargando 'employee_contracts' en Pandas y realizando transformaciones ---\")\n",
    "    df_contracts = pd.read_sql(\"SELECT * FROM employee_contracts;\", engine)\n",
    "    print(f\"DataFrame de contratos cargado desde 'employee_contracts'. Registros: {len(df_contracts)}\")\n",
    "\n",
    "    # 1.1. Manejo de valores nulos y asegurando nombres de columnas válidos\n",
    "    print(\"Rellenando valores nulos para columnas específicas con 'N/A' y asegurando nombres válidos...\")\n",
    "    cols_to_fill_na = [\n",
    "        'health_provider_id', \n",
    "        'pension_provider',\n",
    "        'pension_provider_id',\n",
    "        'severance_provider',\n",
    "        'severance_provider_id'\n",
    "    ]\n",
    "    for col in cols_to_fill_na:\n",
    "        if col in df_contracts.columns:\n",
    "            if 'id' not in col:\n",
    "                df_contracts[col] = df_contracts[col].astype(str).replace('nan', 'N/A').fillna('N/A')\n",
    "            else:\n",
    "                df_contracts[col] = df_contracts[col].replace({np.nan: None})\n",
    "        else:\n",
    "            print(f\"   Advertencia: Columna '{col}' no encontrada en el DataFrame para rellenar nulos.\")\n",
    "    \n",
    "    df_contracts.columns = [str(col) if pd.notna(col) else f\"unnamed_col_{i}\" for i, col in enumerate(df_contracts.columns)]\n",
    "    \n",
    "    print(\"✅ Nombres de columnas del DataFrame validados.\")\n",
    "    print(\"✅ Relleno de nulos completado en DataFrame.\")\n",
    "\n",
    "    # 1.2. Aplanamiento de Columnas JSON\n",
    "    print(\"\\nIniciando aplanamiento de columnas JSON en Pandas...\")\n",
    "    json_columns = [\n",
    "        'employee_type',\n",
    "        'employee_subtype',\n",
    "        'type',\n",
    "        'risk_type',\n",
    "        'health_provider',\n",
    "        'pension_provider',\n",
    "        'severance_provider',\n",
    "        # 'family_compensation_fund_provider' <-- Sigue excluida como acordamos\n",
    "    ]\n",
    "\n",
    "    def extract_json_description_or_code(json_str):\n",
    "        if pd.isna(json_str) or not isinstance(json_str, str) or not json_str.strip().startswith('{'):\n",
    "            return None \n",
    "        try:\n",
    "            data = json.loads(json_str)\n",
    "            if isinstance(data, dict):\n",
    "                if 'description' in data:\n",
    "                    return str(data['description'])\n",
    "                elif 'code' in data: \n",
    "                    return str(data['code'])\n",
    "            return None \n",
    "        except json.JSONDecodeError:\n",
    "            return None \n",
    "        except Exception as e:\n",
    "            print(f\"   Error inesperado al procesar JSON: {e} en '{str(json_str)[:50]}'\")\n",
    "            return None\n",
    "\n",
    "    for col in json_columns:\n",
    "        if col in df_contracts.columns:\n",
    "            df_contracts[col] = df_contracts[col].astype(str)\n",
    "            df_contracts[col] = df_contracts[col].apply(extract_json_description_or_code)\n",
    "            print(f\"   Columna '{col}' aplanada a 'description'/'code' o NULL.\")\n",
    "        else:\n",
    "            print(f\"   Advertencia: Columna '{col}' no encontrada en el DataFrame para aplanar JSON.\")\n",
    "    print(\"✅ Aplanamiento de JSONs en DataFrame completado.\")\n",
    "    \n",
    "    # --- PASO 2: ELIMINADO - NO SE ALTERA LA ESTRUCTURA DE LA BASE DE DATOS ---\n",
    "\n",
    "    # --- PASO 3: Actualizar los registros con los datos limpios del DataFrame ---\n",
    "    print(\"\\n--- PASO 3: Actualizando registros en 'employee_contracts' con datos limpios ---\")\n",
    "    \n",
    "    cursor.execute(\"DESCRIBE `employee_contracts`;\")\n",
    "    db_columns_info = cursor.fetchall()\n",
    "    db_column_names = [col_info[0] for col_info in db_columns_info]\n",
    "\n",
    "    valid_columns_for_update = [\n",
    "        col for col in df_contracts.columns\n",
    "        if isinstance(col, str) and col != 'id' and col in db_column_names\n",
    "    ]\n",
    "    \n",
    "    print(f\"\\nDEBUG: Columnas en el DataFrame: {df_contracts.columns.tolist()}\")\n",
    "    print(f\"DEBUG: Columnas en la Base de Datos: {db_column_names}\")\n",
    "    print(f\"DEBUG: Columnas que se usarán para UPDATE: {valid_columns_for_update}\")\n",
    "\n",
    "    if not valid_columns_for_update:\n",
    "        print(\"⚠️ Advertencia: No hay columnas válidas para actualizar (aparte del 'id'). No se realizará ninguna actualización.\")\n",
    "    else:\n",
    "        set_clauses = [f\"`{col}` = %s\" for col in valid_columns_for_update]\n",
    "        update_sql = f\"UPDATE `employee_contracts` SET {', '.join(set_clauses)} WHERE `id` = %s;\"\n",
    "        \n",
    "        print(f\"DEBUG: SQL de UPDATE generado: {update_sql[:150]}...\")\n",
    "\n",
    "        updated_count = 0\n",
    "        for index, row in df_contracts.iterrows():\n",
    "            update_values = []\n",
    "            for col in valid_columns_for_update:\n",
    "                val = row[col]\n",
    "                # Conversión final de valores de Pandas/NumPy a tipos compatibles con MySQL\n",
    "                # Corregido: Reemplazar np.float_ con np.float64 para compatibilidad con NumPy 2.0+\n",
    "                if pd.isna(val) or (isinstance(val, (float, np.float64)) and np.isnan(val)):\n",
    "                    update_values.append(None) \n",
    "                elif isinstance(val, (np.int64, np.int32)):\n",
    "                    update_values.append(int(val)) \n",
    "                elif isinstance(val, (np.bool_)):\n",
    "                    update_values.append(bool(val)) \n",
    "                else:\n",
    "                    update_values.append(val)\n",
    "                    \n",
    "            update_values.append(row['id']) \n",
    "            \n",
    "            try:\n",
    "                cursor.execute(update_sql, tuple(update_values))\n",
    "                updated_count += 1\n",
    "                if updated_count % 10 == 0:\n",
    "                    print(f\"   Progreso: {updated_count}/{len(df_contracts)} registros procesados...\")\n",
    "            except Exception as e:\n",
    "                print(f\"❌ Error al actualizar el registro con ID {row['id']}: {e}\")\n",
    "                print(f\"   Valores que intentaron insertarse para ID {row['id']}: {tuple(update_values)}\")\n",
    "                conexion.rollback()\n",
    "                raise \n",
    "\n",
    "        conexion.commit() \n",
    "        print(f\"✅ Actualización de {updated_count} registros en la tabla 'employee_contracts' completada exitosamente.\")\n",
    "    \n",
    "    print(\"\\n✅ Limpieza y transformación de 'employee_contracts' finalizada exitosamente.\")\n",
    "\n",
    "except Exception as e:\n",
    "    print(f\"❌ Ocurrió un error general durante la limpieza de 'employee_contracts': {e}\")\n",
    "    try:\n",
    "        if 'conexion' in locals() and conexion is not None and conexion.is_connected():\n",
    "            conexion.rollback()\n",
    "            print(\"Transacción revertida debido a un error.\")\n",
    "    except Exception as rollback_e:\n",
    "        print(f\"❌ Error adicional al intentar revertir: {rollback_e}\")\n",
    "    \n",
    "finally:\n",
    "    print(\"Cerrando la conexión después del procesamiento.\")\n",
    "    try:\n",
    "        if 'cursor' in locals() and cursor is not None:\n",
    "            cursor.close()\n",
    "        if 'conexion' in locals() and conexion is not None and conexion.is_connected():\n",
    "            conexion.close()\n",
    "        print(\"✅ Conexión cerrada exitosamente.\")\n",
    "    except Exception as e:\n",
    "        print(f\"❌ Advertencia al cerrar la conexión en finally: {e}\")"
   ]
  },
  {
   "cell_type": "code",
   "execution_count": null,
   "id": "7786c46f",
   "metadata": {},
   "outputs": [],
   "source": [
    "# Cerrar conexión\n",
    "cursor.close()\n",
    "conexion.close()\n"
   ]
  },
  {
   "cell_type": "code",
   "execution_count": 34,
   "id": "f019c0b3",
   "metadata": {},
   "outputs": [],
   "source": [
    "import pandas as pd\n",
    "import plotly.express as px"
   ]
  },
  {
   "cell_type": "code",
   "execution_count": 35,
   "id": "1cf0f74b",
   "metadata": {},
   "outputs": [
    {
     "name": "stdout",
     "output_type": "stream",
     "text": [
      "\n",
      "--- Bloque 9: Generación de Gráfico BI - Distribución de Contratos por Tipo y Salario ---\n",
      "Estableciendo conexión a la base de datos para el aplanamiento y visualización...\n",
      "✅ Conexión exitosa a la base de datos\n",
      "✅ Conexión y cursor reestablecidos exitosamente.\n",
      "✅ Engine de base de datos obtenido.\n",
      "\n",
      "Deshabilitando temporalmente las verificaciones de claves foráneas...\n",
      "✅ Verificaciones de claves foráneas deshabilitadas.\n",
      "\n",
      "Modificando la columna 'type' a VARCHAR(255) NULL en 'employee_contracts'...\n",
      "✅ Columna 'type' modificada a VARCHAR(255) NULL exitosamente.\n",
      "\n",
      "Re-habilitando las verificaciones de claves foráneas...\n",
      "✅ Verificaciones de claves foráneas re-habilitadas.\n",
      "\n",
      "Cargando la tabla 'employee_contracts' en un DataFrame de Pandas...\n",
      "DataFrame de 'employee_contracts' cargado. Registros: 43\n",
      "\n",
      "Iniciando aplanamiento de la columna 'type'...\n",
      "   Columna 'type' aplanada a valor extraído o NULL.\n",
      "✅ Aplanamiento de columnas completado.\n",
      "\n",
      "Calculando conteo y salario promedio por tipo de contrato...\n",
      "Resumen por tipo de contrato:\n",
      "        Contract_Type  contract_count  avg_salary\n",
      "0         Aprendizaje               2  2250000.00\n",
      "1        Obra o Labor               2  2912500.00\n",
      "2        Término Fijo               7  3721000.00\n",
      "3  Término Indefinido              32  3052375.03\n",
      "\n",
      "Generando gráfico de barras interactivo de 'Contratos por Tipo y Salario Promedio'...\n"
     ]
    },
    {
     "data": {
      "application/vnd.plotly.v1+json": {
       "config": {
        "plotlyServerURL": "https://plot.ly"
       },
       "data": [
        {
         "customdata": {
          "bdata": "AAAAAIgqQUEAAAAAejhGQQAAAACUY0xBPQrXg6tJR0E=",
          "dtype": "f8",
          "shape": "4, 1"
         },
         "hovertemplate": "Tipo de Contrato=%{x}<br>Número de Contratos=%{text}<br>avg_salary=%{marker.color:.2f}<extra></extra>",
         "legendgroup": "",
         "marker": {
          "color": {
           "bdata": "AAAAAIgqQUEAAAAAejhGQQAAAACUY0xBPQrXg6tJR0E=",
           "dtype": "f8"
          },
          "coloraxis": "coloraxis",
          "pattern": {
           "shape": ""
          }
         },
         "name": "",
         "orientation": "v",
         "showlegend": false,
         "text": {
          "bdata": "AAAAAAAAAEAAAAAAAAAAQAAAAAAAABxAAAAAAAAAQEA=",
          "dtype": "f8"
         },
         "textposition": "outside",
         "texttemplate": "%{text}",
         "type": "bar",
         "x": [
          "Aprendizaje",
          "Obra o Labor",
          "Término Fijo",
          "Término Indefinido"
         ],
         "xaxis": "x",
         "y": {
          "bdata": "AgIHIA==",
          "dtype": "i1"
         },
         "yaxis": "y"
        }
       ],
       "layout": {
        "barmode": "relative",
        "coloraxis": {
         "colorbar": {
          "title": {
           "text": "avg_salary"
          }
         },
         "colorscale": [
          [
           0,
           "#0d0887"
          ],
          [
           0.1111111111111111,
           "#46039f"
          ],
          [
           0.2222222222222222,
           "#7201a8"
          ],
          [
           0.3333333333333333,
           "#9c179e"
          ],
          [
           0.4444444444444444,
           "#bd3786"
          ],
          [
           0.5555555555555556,
           "#d8576b"
          ],
          [
           0.6666666666666666,
           "#ed7953"
          ],
          [
           0.7777777777777778,
           "#fb9f3a"
          ],
          [
           0.8888888888888888,
           "#fdca26"
          ],
          [
           1,
           "#f0f921"
          ]
         ]
        },
        "hovermode": "x unified",
        "legend": {
         "tracegroupgap": 0
        },
        "template": {
         "data": {
          "bar": [
           {
            "error_x": {
             "color": "#2a3f5f"
            },
            "error_y": {
             "color": "#2a3f5f"
            },
            "marker": {
             "line": {
              "color": "#E5ECF6",
              "width": 0.5
             },
             "pattern": {
              "fillmode": "overlay",
              "size": 10,
              "solidity": 0.2
             }
            },
            "type": "bar"
           }
          ],
          "barpolar": [
           {
            "marker": {
             "line": {
              "color": "#E5ECF6",
              "width": 0.5
             },
             "pattern": {
              "fillmode": "overlay",
              "size": 10,
              "solidity": 0.2
             }
            },
            "type": "barpolar"
           }
          ],
          "carpet": [
           {
            "aaxis": {
             "endlinecolor": "#2a3f5f",
             "gridcolor": "white",
             "linecolor": "white",
             "minorgridcolor": "white",
             "startlinecolor": "#2a3f5f"
            },
            "baxis": {
             "endlinecolor": "#2a3f5f",
             "gridcolor": "white",
             "linecolor": "white",
             "minorgridcolor": "white",
             "startlinecolor": "#2a3f5f"
            },
            "type": "carpet"
           }
          ],
          "choropleth": [
           {
            "colorbar": {
             "outlinewidth": 0,
             "ticks": ""
            },
            "type": "choropleth"
           }
          ],
          "contour": [
           {
            "colorbar": {
             "outlinewidth": 0,
             "ticks": ""
            },
            "colorscale": [
             [
              0,
              "#0d0887"
             ],
             [
              0.1111111111111111,
              "#46039f"
             ],
             [
              0.2222222222222222,
              "#7201a8"
             ],
             [
              0.3333333333333333,
              "#9c179e"
             ],
             [
              0.4444444444444444,
              "#bd3786"
             ],
             [
              0.5555555555555556,
              "#d8576b"
             ],
             [
              0.6666666666666666,
              "#ed7953"
             ],
             [
              0.7777777777777778,
              "#fb9f3a"
             ],
             [
              0.8888888888888888,
              "#fdca26"
             ],
             [
              1,
              "#f0f921"
             ]
            ],
            "type": "contour"
           }
          ],
          "contourcarpet": [
           {
            "colorbar": {
             "outlinewidth": 0,
             "ticks": ""
            },
            "type": "contourcarpet"
           }
          ],
          "heatmap": [
           {
            "colorbar": {
             "outlinewidth": 0,
             "ticks": ""
            },
            "colorscale": [
             [
              0,
              "#0d0887"
             ],
             [
              0.1111111111111111,
              "#46039f"
             ],
             [
              0.2222222222222222,
              "#7201a8"
             ],
             [
              0.3333333333333333,
              "#9c179e"
             ],
             [
              0.4444444444444444,
              "#bd3786"
             ],
             [
              0.5555555555555556,
              "#d8576b"
             ],
             [
              0.6666666666666666,
              "#ed7953"
             ],
             [
              0.7777777777777778,
              "#fb9f3a"
             ],
             [
              0.8888888888888888,
              "#fdca26"
             ],
             [
              1,
              "#f0f921"
             ]
            ],
            "type": "heatmap"
           }
          ],
          "histogram": [
           {
            "marker": {
             "pattern": {
              "fillmode": "overlay",
              "size": 10,
              "solidity": 0.2
             }
            },
            "type": "histogram"
           }
          ],
          "histogram2d": [
           {
            "colorbar": {
             "outlinewidth": 0,
             "ticks": ""
            },
            "colorscale": [
             [
              0,
              "#0d0887"
             ],
             [
              0.1111111111111111,
              "#46039f"
             ],
             [
              0.2222222222222222,
              "#7201a8"
             ],
             [
              0.3333333333333333,
              "#9c179e"
             ],
             [
              0.4444444444444444,
              "#bd3786"
             ],
             [
              0.5555555555555556,
              "#d8576b"
             ],
             [
              0.6666666666666666,
              "#ed7953"
             ],
             [
              0.7777777777777778,
              "#fb9f3a"
             ],
             [
              0.8888888888888888,
              "#fdca26"
             ],
             [
              1,
              "#f0f921"
             ]
            ],
            "type": "histogram2d"
           }
          ],
          "histogram2dcontour": [
           {
            "colorbar": {
             "outlinewidth": 0,
             "ticks": ""
            },
            "colorscale": [
             [
              0,
              "#0d0887"
             ],
             [
              0.1111111111111111,
              "#46039f"
             ],
             [
              0.2222222222222222,
              "#7201a8"
             ],
             [
              0.3333333333333333,
              "#9c179e"
             ],
             [
              0.4444444444444444,
              "#bd3786"
             ],
             [
              0.5555555555555556,
              "#d8576b"
             ],
             [
              0.6666666666666666,
              "#ed7953"
             ],
             [
              0.7777777777777778,
              "#fb9f3a"
             ],
             [
              0.8888888888888888,
              "#fdca26"
             ],
             [
              1,
              "#f0f921"
             ]
            ],
            "type": "histogram2dcontour"
           }
          ],
          "mesh3d": [
           {
            "colorbar": {
             "outlinewidth": 0,
             "ticks": ""
            },
            "type": "mesh3d"
           }
          ],
          "parcoords": [
           {
            "line": {
             "colorbar": {
              "outlinewidth": 0,
              "ticks": ""
             }
            },
            "type": "parcoords"
           }
          ],
          "pie": [
           {
            "automargin": true,
            "type": "pie"
           }
          ],
          "scatter": [
           {
            "fillpattern": {
             "fillmode": "overlay",
             "size": 10,
             "solidity": 0.2
            },
            "type": "scatter"
           }
          ],
          "scatter3d": [
           {
            "line": {
             "colorbar": {
              "outlinewidth": 0,
              "ticks": ""
             }
            },
            "marker": {
             "colorbar": {
              "outlinewidth": 0,
              "ticks": ""
             }
            },
            "type": "scatter3d"
           }
          ],
          "scattercarpet": [
           {
            "marker": {
             "colorbar": {
              "outlinewidth": 0,
              "ticks": ""
             }
            },
            "type": "scattercarpet"
           }
          ],
          "scattergeo": [
           {
            "marker": {
             "colorbar": {
              "outlinewidth": 0,
              "ticks": ""
             }
            },
            "type": "scattergeo"
           }
          ],
          "scattergl": [
           {
            "marker": {
             "colorbar": {
              "outlinewidth": 0,
              "ticks": ""
             }
            },
            "type": "scattergl"
           }
          ],
          "scattermap": [
           {
            "marker": {
             "colorbar": {
              "outlinewidth": 0,
              "ticks": ""
             }
            },
            "type": "scattermap"
           }
          ],
          "scattermapbox": [
           {
            "marker": {
             "colorbar": {
              "outlinewidth": 0,
              "ticks": ""
             }
            },
            "type": "scattermapbox"
           }
          ],
          "scatterpolar": [
           {
            "marker": {
             "colorbar": {
              "outlinewidth": 0,
              "ticks": ""
             }
            },
            "type": "scatterpolar"
           }
          ],
          "scatterpolargl": [
           {
            "marker": {
             "colorbar": {
              "outlinewidth": 0,
              "ticks": ""
             }
            },
            "type": "scatterpolargl"
           }
          ],
          "scatterternary": [
           {
            "marker": {
             "colorbar": {
              "outlinewidth": 0,
              "ticks": ""
             }
            },
            "type": "scatterternary"
           }
          ],
          "surface": [
           {
            "colorbar": {
             "outlinewidth": 0,
             "ticks": ""
            },
            "colorscale": [
             [
              0,
              "#0d0887"
             ],
             [
              0.1111111111111111,
              "#46039f"
             ],
             [
              0.2222222222222222,
              "#7201a8"
             ],
             [
              0.3333333333333333,
              "#9c179e"
             ],
             [
              0.4444444444444444,
              "#bd3786"
             ],
             [
              0.5555555555555556,
              "#d8576b"
             ],
             [
              0.6666666666666666,
              "#ed7953"
             ],
             [
              0.7777777777777778,
              "#fb9f3a"
             ],
             [
              0.8888888888888888,
              "#fdca26"
             ],
             [
              1,
              "#f0f921"
             ]
            ],
            "type": "surface"
           }
          ],
          "table": [
           {
            "cells": {
             "fill": {
              "color": "#EBF0F8"
             },
             "line": {
              "color": "white"
             }
            },
            "header": {
             "fill": {
              "color": "#C8D4E3"
             },
             "line": {
              "color": "white"
             }
            },
            "type": "table"
           }
          ]
         },
         "layout": {
          "annotationdefaults": {
           "arrowcolor": "#2a3f5f",
           "arrowhead": 0,
           "arrowwidth": 1
          },
          "autotypenumbers": "strict",
          "coloraxis": {
           "colorbar": {
            "outlinewidth": 0,
            "ticks": ""
           }
          },
          "colorscale": {
           "diverging": [
            [
             0,
             "#8e0152"
            ],
            [
             0.1,
             "#c51b7d"
            ],
            [
             0.2,
             "#de77ae"
            ],
            [
             0.3,
             "#f1b6da"
            ],
            [
             0.4,
             "#fde0ef"
            ],
            [
             0.5,
             "#f7f7f7"
            ],
            [
             0.6,
             "#e6f5d0"
            ],
            [
             0.7,
             "#b8e186"
            ],
            [
             0.8,
             "#7fbc41"
            ],
            [
             0.9,
             "#4d9221"
            ],
            [
             1,
             "#276419"
            ]
           ],
           "sequential": [
            [
             0,
             "#0d0887"
            ],
            [
             0.1111111111111111,
             "#46039f"
            ],
            [
             0.2222222222222222,
             "#7201a8"
            ],
            [
             0.3333333333333333,
             "#9c179e"
            ],
            [
             0.4444444444444444,
             "#bd3786"
            ],
            [
             0.5555555555555556,
             "#d8576b"
            ],
            [
             0.6666666666666666,
             "#ed7953"
            ],
            [
             0.7777777777777778,
             "#fb9f3a"
            ],
            [
             0.8888888888888888,
             "#fdca26"
            ],
            [
             1,
             "#f0f921"
            ]
           ],
           "sequentialminus": [
            [
             0,
             "#0d0887"
            ],
            [
             0.1111111111111111,
             "#46039f"
            ],
            [
             0.2222222222222222,
             "#7201a8"
            ],
            [
             0.3333333333333333,
             "#9c179e"
            ],
            [
             0.4444444444444444,
             "#bd3786"
            ],
            [
             0.5555555555555556,
             "#d8576b"
            ],
            [
             0.6666666666666666,
             "#ed7953"
            ],
            [
             0.7777777777777778,
             "#fb9f3a"
            ],
            [
             0.8888888888888888,
             "#fdca26"
            ],
            [
             1,
             "#f0f921"
            ]
           ]
          },
          "colorway": [
           "#636efa",
           "#EF553B",
           "#00cc96",
           "#ab63fa",
           "#FFA15A",
           "#19d3f3",
           "#FF6692",
           "#B6E880",
           "#FF97FF",
           "#FECB52"
          ],
          "font": {
           "color": "#2a3f5f"
          },
          "geo": {
           "bgcolor": "white",
           "lakecolor": "white",
           "landcolor": "#E5ECF6",
           "showlakes": true,
           "showland": true,
           "subunitcolor": "white"
          },
          "hoverlabel": {
           "align": "left"
          },
          "hovermode": "closest",
          "mapbox": {
           "style": "light"
          },
          "paper_bgcolor": "white",
          "plot_bgcolor": "#E5ECF6",
          "polar": {
           "angularaxis": {
            "gridcolor": "white",
            "linecolor": "white",
            "ticks": ""
           },
           "bgcolor": "#E5ECF6",
           "radialaxis": {
            "gridcolor": "white",
            "linecolor": "white",
            "ticks": ""
           }
          },
          "scene": {
           "xaxis": {
            "backgroundcolor": "#E5ECF6",
            "gridcolor": "white",
            "gridwidth": 2,
            "linecolor": "white",
            "showbackground": true,
            "ticks": "",
            "zerolinecolor": "white"
           },
           "yaxis": {
            "backgroundcolor": "#E5ECF6",
            "gridcolor": "white",
            "gridwidth": 2,
            "linecolor": "white",
            "showbackground": true,
            "ticks": "",
            "zerolinecolor": "white"
           },
           "zaxis": {
            "backgroundcolor": "#E5ECF6",
            "gridcolor": "white",
            "gridwidth": 2,
            "linecolor": "white",
            "showbackground": true,
            "ticks": "",
            "zerolinecolor": "white"
           }
          },
          "shapedefaults": {
           "line": {
            "color": "#2a3f5f"
           }
          },
          "ternary": {
           "aaxis": {
            "gridcolor": "white",
            "linecolor": "white",
            "ticks": ""
           },
           "baxis": {
            "gridcolor": "white",
            "linecolor": "white",
            "ticks": ""
           },
           "bgcolor": "#E5ECF6",
           "caxis": {
            "gridcolor": "white",
            "linecolor": "white",
            "ticks": ""
           }
          },
          "title": {
           "x": 0.05
          },
          "xaxis": {
           "automargin": true,
           "gridcolor": "white",
           "linecolor": "white",
           "ticks": "",
           "title": {
            "standoff": 15
           },
           "zerolinecolor": "white",
           "zerolinewidth": 2
          },
          "yaxis": {
           "automargin": true,
           "gridcolor": "white",
           "linecolor": "white",
           "ticks": "",
           "title": {
            "standoff": 15
           },
           "zerolinecolor": "white",
           "zerolinewidth": 2
          }
         }
        },
        "title": {
         "text": "Distribución de Contratos por Tipo y Salario Promedio",
         "x": 0.5
        },
        "xaxis": {
         "anchor": "y",
         "domain": [
          0,
          1
         ],
         "title": {
          "text": "Tipo de Contrato"
         }
        },
        "yaxis": {
         "anchor": "x",
         "domain": [
          0,
          1
         ],
         "title": {
          "text": "Número de Contratos"
         }
        }
       }
      }
     },
     "metadata": {},
     "output_type": "display_data"
    },
    {
     "name": "stdout",
     "output_type": "stream",
     "text": [
      "✅ Gráfico 'Distribución de Contratos por Tipo y Salario Promedio' generado y mostrado.\n",
      "✅ Verificaciones de claves foráneas re-habilitadas en el bloque 'finally'.\n",
      "✅ Conexión a la base de datos cerrada.\n",
      "\n",
      "--- Fin del Bloque de Generación de Gráficos ---\n"
     ]
    }
   ],
   "source": [
    "# Script para generar gráficos BI con Plotly Express (Distribución de Contratos por Tipo y Salario)\n",
    "\n",
    "import pandas as pd\n",
    "import json\n",
    "import numpy as np\n",
    "import plotly.express as px\n",
    "from db_connection import get_engine, get_connection # Asegúrate de que este módulo esté accesible\n",
    "\n",
    "print(\"\\n--- Bloque 9: Generación de Gráfico BI - Distribución de Contratos por Tipo y Salario ---\")\n",
    "\n",
    "conexion = None\n",
    "cursor = None\n",
    "try:\n",
    "    print(\"Estableciendo conexión a la base de datos para el aplanamiento y visualización...\")\n",
    "    conexion = get_connection()\n",
    "    cursor = conexion.cursor()\n",
    "    engine = get_engine()\n",
    "    print(\"✅ Conexión y cursor reestablecidos exitosamente.\")\n",
    "    print(\"✅ Engine de base de datos obtenido.\")\n",
    "\n",
    "    # --- PASO CRÍTICO: Deshabilitar temporalmente las verificaciones de claves foráneas ---\n",
    "    print(\"\\nDeshabilitando temporalmente las verificaciones de claves foráneas...\")\n",
    "    cursor.execute(\"SET FOREIGN_KEY_CHECKS = 0;\")\n",
    "    print(\"✅ Verificaciones de claves foráneas deshabilitadas.\")\n",
    "\n",
    "    # --- PASO 1: Modificar la estructura de la tabla 'employee_contracts' ---\n",
    "    # Convertir la columna 'type' (y otras relevantes si fueran necesarias) a VARCHAR(255) NULL\n",
    "    print(\"\\nModificando la columna 'type' a VARCHAR(255) NULL en 'employee_contracts'...\")\n",
    "    alter_table_sql = \"\"\"\n",
    "        ALTER TABLE employee_contracts\n",
    "        MODIFY COLUMN type VARCHAR(255) NULL;\n",
    "    \"\"\"\n",
    "    try:\n",
    "        cursor.execute(alter_table_sql)\n",
    "        conexion.commit() # Confirmar el cambio de estructura\n",
    "        print(\"✅ Columna 'type' modificada a VARCHAR(255) NULL exitosamente.\")\n",
    "    except Exception as e:\n",
    "        conexion.rollback()\n",
    "        print(f\"❌ Error al modificar la columna 'type': {e}\")\n",
    "        raise # Re-lanza el error para detener el script\n",
    "\n",
    "    # --- PASO CRÍTICO: Re-habilitar las verificaciones de claves foráneas ---\n",
    "    print(\"\\nRe-habilitando las verificaciones de claves foráneas...\")\n",
    "    cursor.execute(\"SET FOREIGN_KEY_CHECKS = 1;\")\n",
    "    print(\"✅ Verificaciones de claves foráneas re-habilitadas.\")\n",
    "\n",
    "    # 2. Cargar la tabla 'employee_contracts' completa en un DataFrame de Pandas\n",
    "    print(\"\\nCargando la tabla 'employee_contracts' en un DataFrame de Pandas...\")\n",
    "    # Solo seleccionamos las columnas que necesitamos para el gráfico\n",
    "    df_contracts = pd.read_sql(\"SELECT id, type, salary FROM employee_contracts;\", engine)\n",
    "    print(f\"DataFrame de 'employee_contracts' cargado. Registros: {len(df_contracts)}\")\n",
    "\n",
    "    # Lista de columnas JSON a procesar (ahora estas columnas son VARCHAR en la DB)\n",
    "    json_columns_to_flatten = ['type'] # Solo 'type' para este gráfico\n",
    "\n",
    "    # 3. Función para extraer valores JSON\n",
    "    def extract_json_value(json_str):\n",
    "        if pd.isna(json_str) or not isinstance(json_str, str) or not json_str.strip():\n",
    "            return None\n",
    "        if not json_str.strip().startswith('{') and not json_str.strip().startswith('['):\n",
    "            return json_str\n",
    "        try:\n",
    "            data = json.loads(json_str)\n",
    "            if isinstance(data, dict):\n",
    "                if 'description' in data and data['description'] is not None:\n",
    "                    return str(data['description'])\n",
    "                elif 'name' in data and data['name'] is not None:\n",
    "                    return str(data['name'])\n",
    "                elif 'code' in data and data['code'] is not None:\n",
    "                    return str(data['code'])\n",
    "            return None\n",
    "        except json.JSONDecodeError:\n",
    "            return json_str if json_str.strip() else None\n",
    "        except Exception as e:\n",
    "            return None\n",
    "\n",
    "    # 4. Iterar sobre la columna JSON y aplanarla\n",
    "    print(\"\\nIniciando aplanamiento de la columna 'type'...\")\n",
    "    for col in json_columns_to_flatten:\n",
    "        if col in df_contracts.columns:\n",
    "            df_contracts[col] = df_contracts[col].astype(str)\n",
    "            df_contracts[col] = df_contracts[col].apply(extract_json_value)\n",
    "            print(f\"   Columna '{col}' aplanada a valor extraído o NULL.\")\n",
    "        else:\n",
    "            print(f\"   Advertencia: Columna '{col}' no encontrada en el DataFrame.\")\n",
    "    print(\"✅ Aplanamiento de columnas completado.\")\n",
    "\n",
    "    # Renombrar la columna 'type' a algo más descriptivo para el gráfico\n",
    "    df_contracts.rename(columns={'type': 'Contract_Type'}, inplace=True)\n",
    "\n",
    "    # 5. Preparar los datos para el gráfico: Contar tipos de contrato y calcular salario promedio\n",
    "    print(\"\\nCalculando conteo y salario promedio por tipo de contrato...\")\n",
    "    contract_summary = df_contracts.groupby('Contract_Type').agg(\n",
    "        contract_count=('id', 'count'),\n",
    "        avg_salary=('salary', 'mean')\n",
    "    ).reset_index()\n",
    "\n",
    "    # Opcional: Reemplazar Nulos en avg_salary para visualización si es necesario\n",
    "    contract_summary['avg_salary'] = contract_summary['avg_salary'].fillna(0).round(2)\n",
    "\n",
    "    print(\"Resumen por tipo de contrato:\")\n",
    "    print(contract_summary)\n",
    "\n",
    "    # 6. Generar el gráfico de barras interactivo con Plotly Express\n",
    "    print(\"\\nGenerando gráfico de barras interactivo de 'Contratos por Tipo y Salario Promedio'...\")\n",
    "    fig = px.bar(contract_summary,\n",
    "                 x='Contract_Type',\n",
    "                 y='contract_count',\n",
    "                 title='Distribución de Contratos por Tipo y Salario Promedio',\n",
    "                 labels={\n",
    "                     'Contract_Type': 'Tipo de Contrato',\n",
    "                     'contract_count': 'Número de Contratos'\n",
    "                 },\n",
    "                 hover_data={'avg_salary': ':.2f'}, # Muestra el salario promedio en el tooltip\n",
    "                 text='contract_count', # Muestra el conteo en la barra\n",
    "                 color='avg_salary', # Colorea las barras según el salario promedio\n",
    "                 color_continuous_scale=px.colors.sequential.Plasma # Escala de color\n",
    "                )\n",
    "\n",
    "    fig.update_traces(texttemplate='%{text}', textposition='outside')\n",
    "    fig.update_layout(xaxis_title=\"Tipo de Contrato\",\n",
    "                      yaxis_title=\"Número de Contratos\",\n",
    "                      title_x=0.5, # Centrar el título\n",
    "                      hovermode=\"x unified\"\n",
    "                     )\n",
    "\n",
    "    # 7. Mostrar el gráfico\n",
    "    fig.show()\n",
    "    print(\"✅ Gráfico 'Distribución de Contratos por Tipo y Salario Promedio' generado y mostrado.\")\n",
    "\n",
    "except Exception as e:\n",
    "    print(f\"\\n❌❌ Ocurrió un error general: {e}\")\n",
    "    print(\"Por favor, revisa la conexión a la base de datos, la existencia de la tabla 'employee_contracts', y el contenido de la columna 'type'.\")\n",
    "    try:\n",
    "        if conexion and conexion.is_connected():\n",
    "            conexion.rollback()\n",
    "            print(\"Transacción revertida debido a un error.\")\n",
    "    except Exception as rollback_e:\n",
    "        print(f\"❌ Error adicional al intentar revertir la transacción: {rollback_e}\")\n",
    "finally:\n",
    "    if cursor is not None:\n",
    "        try:\n",
    "            cursor.execute(\"SET FOREIGN_KEY_CHECKS = 1;\")\n",
    "            print(\"✅ Verificaciones de claves foráneas re-habilitadas en el bloque 'finally'.\")\n",
    "        except Exception as e:\n",
    "            print(f\"❌ Advertencia: No se pudieron re-habilitar las FKs en finally: {e}\")\n",
    "    if conexion and conexion.is_connected():\n",
    "        conexion.close()\n",
    "        print(\"✅ Conexión a la base de datos cerrada.\")\n",
    "\n",
    "print(\"\\n--- Fin del Bloque de Generación de Gráficos ---\")"
   ]
  },
  {
   "cell_type": "code",
   "execution_count": 38,
   "id": "94d0a8d9",
   "metadata": {},
   "outputs": [
    {
     "name": "stdout",
     "output_type": "stream",
     "text": [
      "\n",
      "--- Bloque 11: Generación de Gráfico BI - Salario Promedio por Tipo de Contrato y Riesgo ---\n",
      "Estableciendo conexión a la base de datos para el aplanamiento y visualización...\n",
      "✅ Conexión exitosa a la base de datos\n",
      "✅ Conexión y cursor reestablecidos exitosamente.\n",
      "✅ Engine de base de datos obtenido.\n",
      "\n",
      "Deshabilitando temporalmente las verificaciones de claves foráneas...\n",
      "✅ Verificaciones de claves foráneas deshabilitadas.\n",
      "\n",
      "Modificando columnas 'type' y 'risk_type' a VARCHAR(255) NULL en 'employee_contracts'...\n",
      "✅ Columnas 'type' y 'risk_type' modificadas a VARCHAR(255) NULL exitosamente.\n",
      "\n",
      "Re-habilitando las verificaciones de claves foráneas...\n",
      "✅ Verificaciones de claves foráneas re-habilitadas.\n",
      "\n",
      "Cargando datos de 'employee_contracts' (columnas type, risk_type, salary)...\n",
      "DataFrame de 'employee_contracts' cargado. Registros: 43\n",
      "\n",
      "Iniciando aplanamiento de columnas 'type' y 'risk_type'...\n",
      "   Columna 'type' aplanada.\n",
      "   Columna 'risk_type' aplanada.\n",
      "✅ Aplanamiento de columnas completado.\n",
      "\n",
      "Calculando salario promedio por Tipo de Contrato y Tipo de Riesgo...\n",
      "Salario promedio por tipo de contrato y riesgo:\n",
      "        Contract_Type                Risk_Type      salary\n",
      "0         Aprendizaje  Riesgo mínimo (Clase I)  2250000.00\n",
      "1        Obra o Labor  Riesgo mínimo (Clase I)  2912500.00\n",
      "2        Término Fijo   Riesgo bajo (Clase II)  2387000.00\n",
      "3        Término Fijo  Riesgo mínimo (Clase I)  3943333.33\n",
      "4  Término Indefinido   Riesgo bajo (Clase II)  3750001.00\n",
      "\n",
      "Generando gráfico de barras interactivo de 'Salario Promedio por Tipo de Contrato y Riesgo'...\n"
     ]
    },
    {
     "data": {
      "application/vnd.plotly.v1+json": {
       "config": {
        "plotlyServerURL": "https://plot.ly"
       },
       "data": [
        {
         "alignmentgroup": "True",
         "hovertemplate": "Tipo de Riesgo=Riesgo mínimo (Clase I)<br>Tipo de Contrato=%{x}<br>Salario Promedio=%{y}<extra></extra>",
         "legendgroup": "Riesgo mínimo (Clase I)",
         "marker": {
          "color": "#636efa",
          "pattern": {
           "shape": ""
          }
         },
         "name": "Riesgo mínimo (Clase I)",
         "offsetgroup": "Riesgo mínimo (Clase I)",
         "orientation": "v",
         "showlegend": true,
         "textposition": "auto",
         "texttemplate": "%{y:.2s}",
         "type": "bar",
         "x": [
          "Aprendizaje",
          "Obra o Labor",
          "Término Fijo",
          "Término Indefinido"
         ],
         "xaxis": "x",
         "y": {
          "bdata": "AAAAAIgqQUEAAAAAejhGQaRwParSFU5BpHA9qq4sR0E=",
          "dtype": "f8"
         },
         "yaxis": "y"
        },
        {
         "alignmentgroup": "True",
         "hovertemplate": "Tipo de Riesgo=Riesgo bajo (Clase II)<br>Tipo de Contrato=%{x}<br>Salario Promedio=%{y}<extra></extra>",
         "legendgroup": "Riesgo bajo (Clase II)",
         "marker": {
          "color": "#EF553B",
          "pattern": {
           "shape": ""
          }
         },
         "name": "Riesgo bajo (Clase II)",
         "offsetgroup": "Riesgo bajo (Clase II)",
         "orientation": "v",
         "showlegend": true,
         "textposition": "auto",
         "texttemplate": "%{y:.2s}",
         "type": "bar",
         "x": [
          "Término Fijo",
          "Término Indefinido"
         ],
         "xaxis": "x",
         "y": {
          "bdata": "AAAAABw2QkEAAACAOJxMQQ==",
          "dtype": "f8"
         },
         "yaxis": "y"
        },
        {
         "alignmentgroup": "True",
         "hovertemplate": "Tipo de Riesgo=Riesgo máximo (Clase V)<br>Tipo de Contrato=%{x}<br>Salario Promedio=%{y}<extra></extra>",
         "legendgroup": "Riesgo máximo (Clase V)",
         "marker": {
          "color": "#00cc96",
          "pattern": {
           "shape": ""
          }
         },
         "name": "Riesgo máximo (Clase V)",
         "offsetgroup": "Riesgo máximo (Clase V)",
         "orientation": "v",
         "showlegend": true,
         "textposition": "auto",
         "texttemplate": "%{y:.2s}",
         "type": "bar",
         "x": [
          "Término Indefinido"
         ],
         "xaxis": "x",
         "y": {
          "bdata": "AAAAAMBcRUE=",
          "dtype": "f8"
         },
         "yaxis": "y"
        }
       ],
       "layout": {
        "barmode": "group",
        "hovermode": "x unified",
        "legend": {
         "title": {
          "text": "Tipo de Riesgo"
         },
         "tracegroupgap": 0
        },
        "template": {
         "data": {
          "bar": [
           {
            "error_x": {
             "color": "#2a3f5f"
            },
            "error_y": {
             "color": "#2a3f5f"
            },
            "marker": {
             "line": {
              "color": "#E5ECF6",
              "width": 0.5
             },
             "pattern": {
              "fillmode": "overlay",
              "size": 10,
              "solidity": 0.2
             }
            },
            "type": "bar"
           }
          ],
          "barpolar": [
           {
            "marker": {
             "line": {
              "color": "#E5ECF6",
              "width": 0.5
             },
             "pattern": {
              "fillmode": "overlay",
              "size": 10,
              "solidity": 0.2
             }
            },
            "type": "barpolar"
           }
          ],
          "carpet": [
           {
            "aaxis": {
             "endlinecolor": "#2a3f5f",
             "gridcolor": "white",
             "linecolor": "white",
             "minorgridcolor": "white",
             "startlinecolor": "#2a3f5f"
            },
            "baxis": {
             "endlinecolor": "#2a3f5f",
             "gridcolor": "white",
             "linecolor": "white",
             "minorgridcolor": "white",
             "startlinecolor": "#2a3f5f"
            },
            "type": "carpet"
           }
          ],
          "choropleth": [
           {
            "colorbar": {
             "outlinewidth": 0,
             "ticks": ""
            },
            "type": "choropleth"
           }
          ],
          "contour": [
           {
            "colorbar": {
             "outlinewidth": 0,
             "ticks": ""
            },
            "colorscale": [
             [
              0,
              "#0d0887"
             ],
             [
              0.1111111111111111,
              "#46039f"
             ],
             [
              0.2222222222222222,
              "#7201a8"
             ],
             [
              0.3333333333333333,
              "#9c179e"
             ],
             [
              0.4444444444444444,
              "#bd3786"
             ],
             [
              0.5555555555555556,
              "#d8576b"
             ],
             [
              0.6666666666666666,
              "#ed7953"
             ],
             [
              0.7777777777777778,
              "#fb9f3a"
             ],
             [
              0.8888888888888888,
              "#fdca26"
             ],
             [
              1,
              "#f0f921"
             ]
            ],
            "type": "contour"
           }
          ],
          "contourcarpet": [
           {
            "colorbar": {
             "outlinewidth": 0,
             "ticks": ""
            },
            "type": "contourcarpet"
           }
          ],
          "heatmap": [
           {
            "colorbar": {
             "outlinewidth": 0,
             "ticks": ""
            },
            "colorscale": [
             [
              0,
              "#0d0887"
             ],
             [
              0.1111111111111111,
              "#46039f"
             ],
             [
              0.2222222222222222,
              "#7201a8"
             ],
             [
              0.3333333333333333,
              "#9c179e"
             ],
             [
              0.4444444444444444,
              "#bd3786"
             ],
             [
              0.5555555555555556,
              "#d8576b"
             ],
             [
              0.6666666666666666,
              "#ed7953"
             ],
             [
              0.7777777777777778,
              "#fb9f3a"
             ],
             [
              0.8888888888888888,
              "#fdca26"
             ],
             [
              1,
              "#f0f921"
             ]
            ],
            "type": "heatmap"
           }
          ],
          "histogram": [
           {
            "marker": {
             "pattern": {
              "fillmode": "overlay",
              "size": 10,
              "solidity": 0.2
             }
            },
            "type": "histogram"
           }
          ],
          "histogram2d": [
           {
            "colorbar": {
             "outlinewidth": 0,
             "ticks": ""
            },
            "colorscale": [
             [
              0,
              "#0d0887"
             ],
             [
              0.1111111111111111,
              "#46039f"
             ],
             [
              0.2222222222222222,
              "#7201a8"
             ],
             [
              0.3333333333333333,
              "#9c179e"
             ],
             [
              0.4444444444444444,
              "#bd3786"
             ],
             [
              0.5555555555555556,
              "#d8576b"
             ],
             [
              0.6666666666666666,
              "#ed7953"
             ],
             [
              0.7777777777777778,
              "#fb9f3a"
             ],
             [
              0.8888888888888888,
              "#fdca26"
             ],
             [
              1,
              "#f0f921"
             ]
            ],
            "type": "histogram2d"
           }
          ],
          "histogram2dcontour": [
           {
            "colorbar": {
             "outlinewidth": 0,
             "ticks": ""
            },
            "colorscale": [
             [
              0,
              "#0d0887"
             ],
             [
              0.1111111111111111,
              "#46039f"
             ],
             [
              0.2222222222222222,
              "#7201a8"
             ],
             [
              0.3333333333333333,
              "#9c179e"
             ],
             [
              0.4444444444444444,
              "#bd3786"
             ],
             [
              0.5555555555555556,
              "#d8576b"
             ],
             [
              0.6666666666666666,
              "#ed7953"
             ],
             [
              0.7777777777777778,
              "#fb9f3a"
             ],
             [
              0.8888888888888888,
              "#fdca26"
             ],
             [
              1,
              "#f0f921"
             ]
            ],
            "type": "histogram2dcontour"
           }
          ],
          "mesh3d": [
           {
            "colorbar": {
             "outlinewidth": 0,
             "ticks": ""
            },
            "type": "mesh3d"
           }
          ],
          "parcoords": [
           {
            "line": {
             "colorbar": {
              "outlinewidth": 0,
              "ticks": ""
             }
            },
            "type": "parcoords"
           }
          ],
          "pie": [
           {
            "automargin": true,
            "type": "pie"
           }
          ],
          "scatter": [
           {
            "fillpattern": {
             "fillmode": "overlay",
             "size": 10,
             "solidity": 0.2
            },
            "type": "scatter"
           }
          ],
          "scatter3d": [
           {
            "line": {
             "colorbar": {
              "outlinewidth": 0,
              "ticks": ""
             }
            },
            "marker": {
             "colorbar": {
              "outlinewidth": 0,
              "ticks": ""
             }
            },
            "type": "scatter3d"
           }
          ],
          "scattercarpet": [
           {
            "marker": {
             "colorbar": {
              "outlinewidth": 0,
              "ticks": ""
             }
            },
            "type": "scattercarpet"
           }
          ],
          "scattergeo": [
           {
            "marker": {
             "colorbar": {
              "outlinewidth": 0,
              "ticks": ""
             }
            },
            "type": "scattergeo"
           }
          ],
          "scattergl": [
           {
            "marker": {
             "colorbar": {
              "outlinewidth": 0,
              "ticks": ""
             }
            },
            "type": "scattergl"
           }
          ],
          "scattermap": [
           {
            "marker": {
             "colorbar": {
              "outlinewidth": 0,
              "ticks": ""
             }
            },
            "type": "scattermap"
           }
          ],
          "scattermapbox": [
           {
            "marker": {
             "colorbar": {
              "outlinewidth": 0,
              "ticks": ""
             }
            },
            "type": "scattermapbox"
           }
          ],
          "scatterpolar": [
           {
            "marker": {
             "colorbar": {
              "outlinewidth": 0,
              "ticks": ""
             }
            },
            "type": "scatterpolar"
           }
          ],
          "scatterpolargl": [
           {
            "marker": {
             "colorbar": {
              "outlinewidth": 0,
              "ticks": ""
             }
            },
            "type": "scatterpolargl"
           }
          ],
          "scatterternary": [
           {
            "marker": {
             "colorbar": {
              "outlinewidth": 0,
              "ticks": ""
             }
            },
            "type": "scatterternary"
           }
          ],
          "surface": [
           {
            "colorbar": {
             "outlinewidth": 0,
             "ticks": ""
            },
            "colorscale": [
             [
              0,
              "#0d0887"
             ],
             [
              0.1111111111111111,
              "#46039f"
             ],
             [
              0.2222222222222222,
              "#7201a8"
             ],
             [
              0.3333333333333333,
              "#9c179e"
             ],
             [
              0.4444444444444444,
              "#bd3786"
             ],
             [
              0.5555555555555556,
              "#d8576b"
             ],
             [
              0.6666666666666666,
              "#ed7953"
             ],
             [
              0.7777777777777778,
              "#fb9f3a"
             ],
             [
              0.8888888888888888,
              "#fdca26"
             ],
             [
              1,
              "#f0f921"
             ]
            ],
            "type": "surface"
           }
          ],
          "table": [
           {
            "cells": {
             "fill": {
              "color": "#EBF0F8"
             },
             "line": {
              "color": "white"
             }
            },
            "header": {
             "fill": {
              "color": "#C8D4E3"
             },
             "line": {
              "color": "white"
             }
            },
            "type": "table"
           }
          ]
         },
         "layout": {
          "annotationdefaults": {
           "arrowcolor": "#2a3f5f",
           "arrowhead": 0,
           "arrowwidth": 1
          },
          "autotypenumbers": "strict",
          "coloraxis": {
           "colorbar": {
            "outlinewidth": 0,
            "ticks": ""
           }
          },
          "colorscale": {
           "diverging": [
            [
             0,
             "#8e0152"
            ],
            [
             0.1,
             "#c51b7d"
            ],
            [
             0.2,
             "#de77ae"
            ],
            [
             0.3,
             "#f1b6da"
            ],
            [
             0.4,
             "#fde0ef"
            ],
            [
             0.5,
             "#f7f7f7"
            ],
            [
             0.6,
             "#e6f5d0"
            ],
            [
             0.7,
             "#b8e186"
            ],
            [
             0.8,
             "#7fbc41"
            ],
            [
             0.9,
             "#4d9221"
            ],
            [
             1,
             "#276419"
            ]
           ],
           "sequential": [
            [
             0,
             "#0d0887"
            ],
            [
             0.1111111111111111,
             "#46039f"
            ],
            [
             0.2222222222222222,
             "#7201a8"
            ],
            [
             0.3333333333333333,
             "#9c179e"
            ],
            [
             0.4444444444444444,
             "#bd3786"
            ],
            [
             0.5555555555555556,
             "#d8576b"
            ],
            [
             0.6666666666666666,
             "#ed7953"
            ],
            [
             0.7777777777777778,
             "#fb9f3a"
            ],
            [
             0.8888888888888888,
             "#fdca26"
            ],
            [
             1,
             "#f0f921"
            ]
           ],
           "sequentialminus": [
            [
             0,
             "#0d0887"
            ],
            [
             0.1111111111111111,
             "#46039f"
            ],
            [
             0.2222222222222222,
             "#7201a8"
            ],
            [
             0.3333333333333333,
             "#9c179e"
            ],
            [
             0.4444444444444444,
             "#bd3786"
            ],
            [
             0.5555555555555556,
             "#d8576b"
            ],
            [
             0.6666666666666666,
             "#ed7953"
            ],
            [
             0.7777777777777778,
             "#fb9f3a"
            ],
            [
             0.8888888888888888,
             "#fdca26"
            ],
            [
             1,
             "#f0f921"
            ]
           ]
          },
          "colorway": [
           "#636efa",
           "#EF553B",
           "#00cc96",
           "#ab63fa",
           "#FFA15A",
           "#19d3f3",
           "#FF6692",
           "#B6E880",
           "#FF97FF",
           "#FECB52"
          ],
          "font": {
           "color": "#2a3f5f"
          },
          "geo": {
           "bgcolor": "white",
           "lakecolor": "white",
           "landcolor": "#E5ECF6",
           "showlakes": true,
           "showland": true,
           "subunitcolor": "white"
          },
          "hoverlabel": {
           "align": "left"
          },
          "hovermode": "closest",
          "mapbox": {
           "style": "light"
          },
          "paper_bgcolor": "white",
          "plot_bgcolor": "#E5ECF6",
          "polar": {
           "angularaxis": {
            "gridcolor": "white",
            "linecolor": "white",
            "ticks": ""
           },
           "bgcolor": "#E5ECF6",
           "radialaxis": {
            "gridcolor": "white",
            "linecolor": "white",
            "ticks": ""
           }
          },
          "scene": {
           "xaxis": {
            "backgroundcolor": "#E5ECF6",
            "gridcolor": "white",
            "gridwidth": 2,
            "linecolor": "white",
            "showbackground": true,
            "ticks": "",
            "zerolinecolor": "white"
           },
           "yaxis": {
            "backgroundcolor": "#E5ECF6",
            "gridcolor": "white",
            "gridwidth": 2,
            "linecolor": "white",
            "showbackground": true,
            "ticks": "",
            "zerolinecolor": "white"
           },
           "zaxis": {
            "backgroundcolor": "#E5ECF6",
            "gridcolor": "white",
            "gridwidth": 2,
            "linecolor": "white",
            "showbackground": true,
            "ticks": "",
            "zerolinecolor": "white"
           }
          },
          "shapedefaults": {
           "line": {
            "color": "#2a3f5f"
           }
          },
          "ternary": {
           "aaxis": {
            "gridcolor": "white",
            "linecolor": "white",
            "ticks": ""
           },
           "baxis": {
            "gridcolor": "white",
            "linecolor": "white",
            "ticks": ""
           },
           "bgcolor": "#E5ECF6",
           "caxis": {
            "gridcolor": "white",
            "linecolor": "white",
            "ticks": ""
           }
          },
          "title": {
           "x": 0.05
          },
          "xaxis": {
           "automargin": true,
           "gridcolor": "white",
           "linecolor": "white",
           "ticks": "",
           "title": {
            "standoff": 15
           },
           "zerolinecolor": "white",
           "zerolinewidth": 2
          },
          "yaxis": {
           "automargin": true,
           "gridcolor": "white",
           "linecolor": "white",
           "ticks": "",
           "title": {
            "standoff": 15
           },
           "zerolinecolor": "white",
           "zerolinewidth": 2
          }
         }
        },
        "title": {
         "text": "Salario Promedio por Tipo de Contrato y Tipo de Riesgo Laboral",
         "x": 0.5
        },
        "xaxis": {
         "anchor": "y",
         "domain": [
          0,
          1
         ],
         "title": {
          "text": "Tipo de Contrato"
         }
        },
        "yaxis": {
         "anchor": "x",
         "domain": [
          0,
          1
         ],
         "title": {
          "text": "Salario Promedio"
         }
        }
       }
      }
     },
     "metadata": {},
     "output_type": "display_data"
    },
    {
     "name": "stdout",
     "output_type": "stream",
     "text": [
      "✅ Gráfico 'Salario Promedio por Tipo de Contrato y Riesgo' generado y mostrado.\n",
      "✅ Verificaciones de claves foráneas re-habilitadas en el bloque 'finally'.\n",
      "✅ Conexión a la base de datos cerrada.\n",
      "\n",
      "--- Fin del Bloque de Generación de Gráficos ---\n"
     ]
    }
   ],
   "source": [
    "# Script para generar gráficos BI con Plotly Express (Salario Promedio por Tipo de Contrato y Riesgo)\n",
    "\n",
    "import pandas as pd\n",
    "import json\n",
    "import plotly.express as px\n",
    "from db_connection import get_engine, get_connection # Asegúrate de que este módulo esté accesible\n",
    "\n",
    "print(\"\\n--- Bloque 11: Generación de Gráfico BI - Salario Promedio por Tipo de Contrato y Riesgo ---\")\n",
    "\n",
    "conexion = None\n",
    "cursor = None\n",
    "try:\n",
    "    print(\"Estableciendo conexión a la base de datos para el aplanamiento y visualización...\")\n",
    "    conexion = get_connection()\n",
    "    cursor = conexion.cursor()\n",
    "    engine = get_engine()\n",
    "    print(\"✅ Conexión y cursor reestablecidos exitosamente.\")\n",
    "    print(\"✅ Engine de base de datos obtenido.\")\n",
    "\n",
    "    # --- PASO CRÍTICO: Deshabilitar temporalmente las verificaciones de claves foráneas ---\n",
    "    print(\"\\nDeshabilitando temporalmente las verificaciones de claves foráneas...\")\n",
    "    cursor.execute(\"SET FOREIGN_KEY_CHECKS = 0;\")\n",
    "    print(\"✅ Verificaciones de claves foráneas deshabilitadas.\")\n",
    "\n",
    "    # --- PASO 1: Modificar la estructura de la tabla 'employee_contracts' ---\n",
    "    # Asegurarnos que 'type' y 'risk_type' son VARCHAR(255) NULL\n",
    "    print(\"\\nModificando columnas 'type' y 'risk_type' a VARCHAR(255) NULL en 'employee_contracts'...\")\n",
    "    alter_table_sql_type = \"\"\"\n",
    "        ALTER TABLE employee_contracts\n",
    "        MODIFY COLUMN type VARCHAR(255) NULL;\n",
    "    \"\"\"\n",
    "    alter_table_sql_risk_type = \"\"\"\n",
    "        ALTER TABLE employee_contracts\n",
    "        MODIFY COLUMN risk_type VARCHAR(255) NULL;\n",
    "    \"\"\"\n",
    "    try:\n",
    "        cursor.execute(alter_table_sql_type)\n",
    "        cursor.execute(alter_table_sql_risk_type)\n",
    "        conexion.commit()\n",
    "        print(\"✅ Columnas 'type' y 'risk_type' modificadas a VARCHAR(255) NULL exitosamente.\")\n",
    "    except Exception as e:\n",
    "        conexion.rollback()\n",
    "        print(f\"❌ Error al modificar columnas: {e}\")\n",
    "        raise # Re-lanza el error para detener el script\n",
    "\n",
    "    # --- PASO CRÍTICO: Re-habilitar las verificaciones de claves foráneas ---\n",
    "    print(\"\\nRe-habilitando las verificaciones de claves foráneas...\")\n",
    "    cursor.execute(\"SET FOREIGN_KEY_CHECKS = 1;\")\n",
    "    print(\"✅ Verificaciones de claves foráneas re-habilitadas.\")\n",
    "\n",
    "    # 2. Cargar las columnas necesarias de 'employee_contracts'\n",
    "    print(\"\\nCargando datos de 'employee_contracts' (columnas type, risk_type, salary)...\")\n",
    "    df_contracts = pd.read_sql(\"SELECT type, risk_type, salary FROM employee_contracts;\", engine)\n",
    "    print(f\"DataFrame de 'employee_contracts' cargado. Registros: {len(df_contracts)}\")\n",
    "\n",
    "    # 3. Función para extraer valores JSON\n",
    "    def extract_json_value(json_str):\n",
    "        if pd.isna(json_str) or not isinstance(json_str, str) or not json_str.strip():\n",
    "            return None\n",
    "        if not json_str.strip().startswith('{') and not json_str.strip().startswith('['):\n",
    "            return json_str # Si no es JSON válido, pero es una cadena, la devuelve\n",
    "        try:\n",
    "            data = json.loads(json_str)\n",
    "            if isinstance(data, dict):\n",
    "                if 'description' in data and data['description'] is not None:\n",
    "                    return str(data['description'])\n",
    "                elif 'name' in data and data['name'] is not None:\n",
    "                    return str(data['name'])\n",
    "                elif 'code' in data and data['code'] is not None:\n",
    "                    return str(data['code'])\n",
    "            return None\n",
    "        except json.JSONDecodeError:\n",
    "            return json_str if json_str.strip() else None # Si no es JSON válido, pero es una cadena, la devuelve\n",
    "        except Exception as e:\n",
    "            return None\n",
    "\n",
    "    # 4. Iterar sobre las columnas JSON y aplanarlas\n",
    "    print(\"\\nIniciando aplanamiento de columnas 'type' y 'risk_type'...\")\n",
    "    json_columns_to_flatten = ['type', 'risk_type']\n",
    "    for col in json_columns_to_flatten:\n",
    "        if col in df_contracts.columns:\n",
    "            df_contracts[col] = df_contracts[col].astype(str)\n",
    "            df_contracts[col] = df_contracts[col].apply(extract_json_value)\n",
    "            print(f\"   Columna '{col}' aplanada.\")\n",
    "        else:\n",
    "            print(f\"   Advertencia: Columna '{col}' no encontrada en el DataFrame.\")\n",
    "    print(\"✅ Aplanamiento de columnas completado.\")\n",
    "\n",
    "    # Renombrar columnas para claridad en el gráfico\n",
    "    df_contracts.rename(columns={'type': 'Contract_Type', 'risk_type': 'Risk_Type'}, inplace=True)\n",
    "\n",
    "    # 5. Calcular el salario promedio por Tipo de Contrato y Tipo de Riesgo\n",
    "    print(\"\\nCalculando salario promedio por Tipo de Contrato y Tipo de Riesgo...\")\n",
    "    # Asegúrate de no incluir valores de salario nulos en el cálculo\n",
    "    df_contracts_cleaned = df_contracts.dropna(subset=['salary', 'Contract_Type', 'Risk_Type'])\n",
    "    \n",
    "    # Rellenar los Nulos en Contract_Type o Risk_Type con 'Desconocido' antes de agrupar, si es preferible\n",
    "    df_contracts_cleaned['Contract_Type'] = df_contracts_cleaned['Contract_Type'].fillna('Desconocido')\n",
    "    df_contracts_cleaned['Risk_Type'] = df_contracts_cleaned['Risk_Type'].fillna('Desconocido')\n",
    "\n",
    "\n",
    "    avg_salary_by_type_risk = df_contracts_cleaned.groupby(['Contract_Type', 'Risk_Type'])['salary'].mean().reset_index()\n",
    "    avg_salary_by_type_risk['salary'] = avg_salary_by_type_risk['salary'].round(2)\n",
    "\n",
    "    print(\"Salario promedio por tipo de contrato y riesgo:\")\n",
    "    print(avg_salary_by_type_risk.head())\n",
    "\n",
    "    # 6. Generar el gráfico de barras apiladas (o agrupadas) interactivo con Plotly Express\n",
    "    print(\"\\nGenerando gráfico de barras interactivo de 'Salario Promedio por Tipo de Contrato y Riesgo'...\")\n",
    "    fig = px.bar(avg_salary_by_type_risk,\n",
    "                 x='Contract_Type',\n",
    "                 y='salary',\n",
    "                 color='Risk_Type', # Segmenta las barras por tipo de riesgo\n",
    "                 title='Salario Promedio por Tipo de Contrato y Tipo de Riesgo Laboral',\n",
    "                 labels={\n",
    "                     'Contract_Type': 'Tipo de Contrato',\n",
    "                     'salary': 'Salario Promedio',\n",
    "                     'Risk_Type': 'Tipo de Riesgo'\n",
    "                 },\n",
    "                 barmode='group', # O 'stack' para barras apiladas\n",
    "                 text_auto='.2s' # Muestra el valor de salario en las barras, formato corto\n",
    "                )\n",
    "\n",
    "    fig.update_layout(xaxis_title=\"Tipo de Contrato\",\n",
    "                      yaxis_title=\"Salario Promedio\",\n",
    "                      title_x=0.5, # Centrar el título\n",
    "                      hovermode=\"x unified\"\n",
    "                     )\n",
    "\n",
    "    # 7. Mostrar el gráfico\n",
    "    fig.show()\n",
    "    print(\"✅ Gráfico 'Salario Promedio por Tipo de Contrato y Riesgo' generado y mostrado.\")\n",
    "\n",
    "except Exception as e:\n",
    "    print(f\"\\n❌❌ Ocurrió un error general: {e}\")\n",
    "    print(\"Por favor, revisa la conexión a la base de datos, la existencia de la tabla 'employee_contracts', y el contenido de las columnas 'type', 'risk_type', y 'salary'.\")\n",
    "    try:\n",
    "        if conexion and conexion.is_connected():\n",
    "            conexion.rollback()\n",
    "            print(\"Transacción revertida debido a un error.\")\n",
    "    except Exception as rollback_e:\n",
    "        print(f\"❌ Error adicional al intentar revertir la transacción: {rollback_e}\")\n",
    "finally:\n",
    "    if cursor is not None:\n",
    "        try:\n",
    "            cursor.execute(\"SET FOREIGN_KEY_CHECKS = 1;\")\n",
    "            print(\"✅ Verificaciones de claves foráneas re-habilitadas en el bloque 'finally'.\")\n",
    "        except Exception as e:\n",
    "            print(f\"❌ Advertencia: No se pudieron re-habilitar las FKs en finally: {e}\")\n",
    "    if conexion and conexion.is_connected():\n",
    "        conexion.close()\n",
    "        print(\"✅ Conexión a la base de datos cerrada.\")\n",
    "\n",
    "print(\"\\n--- Fin del Bloque de Generación de Gráficos ---\")"
   ]
  },
  {
   "cell_type": "code",
   "execution_count": 40,
   "id": "985a1c5b",
   "metadata": {},
   "outputs": [
    {
     "name": "stdout",
     "output_type": "stream",
     "text": [
      "✅ Conexión exitosa a la base de datos\n",
      "\n",
      "Listando tablas en la base de datos 'novateam'...\n",
      "Tablas encontradas:\n",
      "- accounting_account_balances\n",
      "- accounting_accounts\n",
      "- accounting_movements\n",
      "- accounting_voucher_items\n",
      "- accounting_voucher_types\n",
      "- accounting_vouchers\n",
      "- billing_numberings\n",
      "- contact_relationships\n",
      "- contact_statements\n",
      "- contacts\n",
      "- contract_salary_history\n",
      "- costs_and_expenses\n",
      "- costs_and_expenses_categories\n",
      "- coupons\n",
      "- document_items\n",
      "- documents\n",
      "- ecommerce_legal_info\n",
      "- ecommerce_purchase_orders\n",
      "- employee_contracts\n",
      "- employee_positions\n",
      "- employees\n",
      "- fixed_asset_depreciations\n",
      "- fixed_assets\n",
      "- fixed_assets_groups\n",
      "- headquarter_warehouses\n",
      "- headquarters\n",
      "- inventory_adjustments\n",
      "- inventory_groups\n",
      "- item_balance\n",
      "- item_categories\n",
      "- item_depreciations\n",
      "- item_kardex\n",
      "- item_subcategories\n",
      "- item_variations\n",
      "- items\n",
      "- payment_conditions\n",
      "- payments\n",
      "- payroll_deductions\n",
      "- payroll_details\n",
      "- payroll_incomes\n",
      "- payroll_providers\n",
      "- payrolls\n",
      "- price_lists\n",
      "- retention_concepts\n",
      "- retentions\n",
      "- retentions_applied\n",
      "- retentions_certificates\n",
      "- taxes\n",
      "- warehouse_transfer_logs\n",
      "- warehouses\n",
      "✅ Listado de tablas completado.\n"
     ]
    }
   ],
   "source": [
    "import pandas as pd\n",
    "from db_connection import get_engine, get_connection\n",
    "\n",
    "conexion = None\n",
    "try:\n",
    "    engine = get_engine()\n",
    "    conexion = get_connection()\n",
    "    cursor = conexion.cursor()\n",
    "\n",
    "    print(\"\\nListando tablas en la base de datos 'novateam'...\")\n",
    "    cursor.execute(\"SHOW TABLES;\")\n",
    "    tables = cursor.fetchall()\n",
    "    print(\"Tablas encontradas:\")\n",
    "    for table in tables:\n",
    "        print(f\"- {table[0]}\") # table[0] contiene el nombre de la tabla\n",
    "    print(\"✅ Listado de tablas completado.\")\n",
    "\n",
    "except Exception as e:\n",
    "    print(f\"\\n❌❌ Ocurrió un error al listar tablas: {e}\")\n",
    "finally:\n",
    "    if conexion and conexion.is_connected():\n",
    "        conexion.close()"
   ]
  }
 ],
 "metadata": {
  "kernelspec": {
   "display_name": ".venv",
   "language": "python",
   "name": "python3"
  },
  "language_info": {
   "codemirror_mode": {
    "name": "ipython",
    "version": 3
   },
   "file_extension": ".py",
   "mimetype": "text/x-python",
   "name": "python",
   "nbconvert_exporter": "python",
   "pygments_lexer": "ipython3",
   "version": "3.13.2"
  }
 },
 "nbformat": 4,
 "nbformat_minor": 5
}
