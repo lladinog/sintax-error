{
 "cells": [
  {
   "cell_type": "code",
   "execution_count": 1,
   "id": "e14ca444",
   "metadata": {},
   "outputs": [
    {
     "name": "stdout",
     "output_type": "stream",
     "text": [
      "✅ Conexión exitosa a la base de datos\n"
     ]
    }
   ],
   "source": [
    "# Importar conexión\n",
    "from db_connection import get_connection\n",
    "\n",
    "# Conectarse a la base de datos\n",
    "conexion = get_connection()\n",
    "cursor = conexion.cursor()\n"
   ]
  },
  {
   "cell_type": "code",
   "execution_count": 2,
   "id": "750c09c2",
   "metadata": {},
   "outputs": [],
   "source": [
    "# Importar librerías para la conexión a la base de datos con SQLAlchemy\n",
    "from db_connection import get_engine\n",
    "\n",
    "engine = get_engine()"
   ]
  },
  {
   "cell_type": "code",
   "execution_count": 3,
   "id": "12893553",
   "metadata": {},
   "outputs": [],
   "source": [
    "# 📌 Coloca aqui las tablas que vas a utilizar, para verificar si existen o no\n",
    "\n",
    "tablas = [\n",
    "    'inventory_adjustments',\n",
    "    'item_balance',\n",
    "    'item_kardex',\n",
    "    'items',\n",
    "    'item_categories',\n",
    "    'item_subcategories',\n",
    "    'item_variations',\n",
    "    'item_depreciations',\n",
    "    'inventory_groups',\n",
    "    'headquarter_warehouses',\n",
    "    'warehouses',\n",
    "    'warehouse_transfer_logs',\n",
    "    'price_lists',\n",
    "    'fixed_assets',\n",
    "    'fixed_asset_depreciations',\n",
    "    'fixed_assets_groups'\n",
    "]\n"
   ]
  },
  {
   "cell_type": "code",
   "execution_count": 4,
   "id": "a8814c36",
   "metadata": {},
   "outputs": [
    {
     "name": "stdout",
     "output_type": "stream",
     "text": [
      "inventory_adjustments               ✅\n",
      "item_balance                        ✅\n",
      "item_kardex                         ✅\n",
      "items                               ✅\n",
      "item_categories                     ✅\n",
      "item_subcategories                  ✅\n",
      "item_variations                     ✅\n",
      "item_depreciations                  ✅\n",
      "inventory_groups                    ✅\n",
      "headquarter_warehouses              ✅\n",
      "warehouses                          ✅\n",
      "warehouse_transfer_logs             ✅\n",
      "price_lists                         ✅\n",
      "fixed_assets                        ✅\n",
      "fixed_asset_depreciations           ✅\n",
      "fixed_assets_groups                 ✅\n"
     ]
    }
   ],
   "source": [
    "# 📌Recibe una lista de nombres de tablas y muestra si existen en la base de datos.\n",
    "\n",
    "def verificar_existencia_tablas(lista_tablas):\n",
    "\n",
    "    # Obtener el listado actual de tablas en la base de datos\n",
    "    cursor.execute(\"SHOW TABLES;\")\n",
    "    tablas_actuales = set(fila[0] for fila in cursor.fetchall())\n",
    "\n",
    "    for nombre in lista_tablas:\n",
    "        existe = \"✅\" if nombre in tablas_actuales else \"❌\"\n",
    "        print(f\"{nombre:<35} {existe}\")\n",
    "\n",
    "\n",
    "verificar_existencia_tablas(tablas)"
   ]
  },
  {
   "cell_type": "code",
   "execution_count": 5,
   "id": "2e8746b6",
   "metadata": {},
   "outputs": [
    {
     "name": "stdout",
     "output_type": "stream",
     "text": [
      "Tabla                          # JSON       ✅/❌    Tipo(s) de Dato           Columnas JSON\n",
      "inventory_adjustments          0/17           ❌      -                         -\n",
      "item_balance                   1/10           ✅      json                      warehouses_quantity\n",
      "item_kardex                    0/17           ❌      -                         -\n",
      "items                          7/52           ✅      json                      images, related_items, additional_info_files, item_properties, package_container, e_delivery_conditions, e_variations\n",
      "item_categories                0/7            ❌      -                         -\n",
      "item_subcategories             0/8            ❌      -                         -\n",
      "item_variations                1/6            ✅      json                      options\n",
      "item_depreciations             0/11           ❌      -                         -\n",
      "inventory_groups               0/6            ❌      -                         -\n",
      "headquarter_warehouses         0/6            ❌      -                         -\n",
      "warehouses                     3/14           ✅      json                      country, region, city\n",
      "warehouse_transfer_logs        0/10           ❌      -                         -\n",
      "price_lists                    0/8            ❌      -                         -\n",
      "fixed_assets                   0/11           ❌      -                         -\n",
      "fixed_asset_depreciations      0/12           ❌      -                         -\n",
      "fixed_assets_groups            0/11           ❌      -                         -\n"
     ]
    }
   ],
   "source": [
    "# 📌 Verifica si dentro de cada columna de las tablas, existen archivos json para identificar que columnas son para asi\n",
    "# poder reconocer si son viables a separarlas o no.\n",
    "def verificar_columnas_json(tablas, cursor):\n",
    "    print(f\"{'Tabla':<30} {'# JSON':<12} {'✅/❌':<6} {'Tipo(s) de Dato':<25} {'Columnas JSON'}\")\n",
    "    for tabla in tablas:\n",
    "        cursor.execute(f\"SHOW COLUMNS FROM `{tabla}`;\")\n",
    "        columnas = cursor.fetchall()\n",
    "        total_columnas = len(columnas)\n",
    "        columnas_json = []\n",
    "        tipos_json = []\n",
    "        for col in columnas:\n",
    "            nombre_col, tipo_col = col[0], col[1].lower()\n",
    "            if 'json' in tipo_col or 'object' in tipo_col or 'text' in tipo_col:\n",
    "                columnas_json.append(nombre_col)\n",
    "                tipos_json.append(tipo_col)\n",
    "        existe = \"✅\" if columnas_json else \"❌\"\n",
    "        tipos_str = ', '.join(set(tipos_json)) if tipos_json else '-'\n",
    "        columnas_str = ', '.join(columnas_json) if columnas_json else '-'\n",
    "        print(f\"{tabla:<30} {len(columnas_json)}/{total_columnas:<12} {existe:<6} {tipos_str:<25} {columnas_str}\")\n",
    "\n",
    "verificar_columnas_json(tablas, cursor)\n",
    "\n",
    "# en # JSON tendras cantidad_columnas/columnas con json."
   ]
  },
  {
   "cell_type": "code",
   "execution_count": 6,
   "id": "e59fc8dd",
   "metadata": {},
   "outputs": [
    {
     "ename": "NameError",
     "evalue": "name 'tablas_json' is not defined",
     "output_type": "error",
     "traceback": [
      "\u001b[31m---------------------------------------------------------------------------\u001b[39m",
      "\u001b[31mNameError\u001b[39m                                 Traceback (most recent call last)",
      "\u001b[36mCell\u001b[39m\u001b[36m \u001b[39m\u001b[32mIn[6]\u001b[39m\u001b[32m, line 4\u001b[39m\n\u001b[32m      1\u001b[39m \u001b[38;5;66;03m# 📌 Crea un diccionario con las tablas y sus columnas que contienen archivos json\u001b[39;00m\n\u001b[32m      3\u001b[39m tablas_json_dict = {}\n\u001b[32m----> \u001b[39m\u001b[32m4\u001b[39m \u001b[38;5;28;01mfor\u001b[39;00m tabla \u001b[38;5;129;01min\u001b[39;00m \u001b[43mtablas_json\u001b[49m:\n\u001b[32m      5\u001b[39m     cursor.execute(\u001b[33mf\u001b[39m\u001b[33m\"\u001b[39m\u001b[33mSHOW COLUMNS FROM `\u001b[39m\u001b[38;5;132;01m{\u001b[39;00mtabla\u001b[38;5;132;01m}\u001b[39;00m\u001b[33m`;\u001b[39m\u001b[33m\"\u001b[39m)\n\u001b[32m      6\u001b[39m     columnas = cursor.fetchall()\n",
      "\u001b[31mNameError\u001b[39m: name 'tablas_json' is not defined"
     ]
    }
   ],
   "source": [
    "# 📌 Crea un diccionario con las tablas y sus columnas que contienen archivos json\n",
    "\n",
    "tablas_json_dict = {}\n",
    "for tabla in tablas_json:\n",
    "    cursor.execute(f\"SHOW COLUMNS FROM `{tabla}`;\")\n",
    "    columnas = cursor.fetchall()\n",
    "    columnas_json = []\n",
    "    for col in columnas:\n",
    "        nombre_col, tipo_col = col[0], col[1].lower()\n",
    "        if 'json' in tipo_col or 'object' in tipo_col or 'text' in tipo_col:\n",
    "            columnas_json.append(nombre_col)\n",
    "    tablas_json_dict[tabla] = columnas_json\n"
   ]
  },
  {
   "cell_type": "code",
   "execution_count": 7,
   "id": "c75a0b05",
   "metadata": {},
   "outputs": [],
   "source": [
    "# 📌 Muestra el diccionario creado\n",
    "\n",
    "for tabla, columnas in tablas_json_dict.items():\n",
    "    print(f\"{tabla}:\")\n",
    "    for col in columnas:\n",
    "        print(f\"  - {col}\")\n",
    "    print()\n",
    "\n"
   ]
  },
  {
   "cell_type": "code",
   "execution_count": 8,
   "id": "dffd7038",
   "metadata": {},
   "outputs": [],
   "source": [
    "from collections import Counter\n",
    "import json\n",
    "import pandas as pd\n",
    "\n",
    "def contar_valores_json_desde_tablas(tablas_json_dict, clave_objetivo=\"description\"):\n",
    "    for tabla, columnas in tablas_json_dict.items():\n",
    "        print(f\"\\n📦 Tabla: {tabla}\")\n",
    "        for columna in columnas:\n",
    "            print(f\"  🔍 Columna: {columna}\")\n",
    "\n",
    "            # Leer datos\n",
    "            try:\n",
    "                query = f\"SELECT `{columna}` FROM `{tabla}`\"\n",
    "                df = pd.read_sql(query, con=engine)\n",
    "\n",
    "                # Función para extraer valor de la clave\n",
    "                def extraer_valor(celda):\n",
    "                    if not celda:\n",
    "                        return \"Null\"\n",
    "                    try:\n",
    "                        dato = json.loads(celda)\n",
    "                        if isinstance(dato, dict):\n",
    "                            return dato.get(clave_objetivo, \"Null\")\n",
    "                        elif isinstance(dato, list):\n",
    "                            return [elem.get(clave_objetivo, \"Null\") for elem in dato if isinstance(elem, dict)]\n",
    "                        else:\n",
    "                            return \"Null\"\n",
    "                    except:\n",
    "                        return \"Null\"\n",
    "\n",
    "                # Aplicar y aplanar\n",
    "                valores = df[columna].apply(extraer_valor).explode()\n",
    "                conteo = dict(Counter(valores))\n",
    "\n",
    "                # Mostrar resultados\n",
    "                for valor, cantidad in conteo.items():\n",
    "                    print(f\"    {valor}: {cantidad}\")\n",
    "\n",
    "            except Exception as e:\n",
    "                print(f\"    ⚠️ Error leyendo o procesando: {e}\")\n"
   ]
  },
  {
   "cell_type": "code",
   "execution_count": 9,
   "id": "6edefac9",
   "metadata": {},
   "outputs": [],
   "source": [
    "import json\n",
    "import pandas as pd\n",
    "from sqlalchemy import text\n",
    "\n",
    "def limpiar_json_y_actualizar(tabla: str, clave: str = \"description\"):\n",
    "    print(f\"\\n🔧 Iniciando limpieza de tabla: {tabla}\")\n",
    "\n",
    "    # 1. Verificar si la tabla está en el diccionario\n",
    "    columnas_json = tablas_json_dict.get(tabla)\n",
    "    if not columnas_json:\n",
    "        print(f\"⚠️  No se encontraron columnas JSON registradas para la tabla '{tabla}'.\")\n",
    "        return\n",
    "\n",
    "    print(f\"📦 Columnas a modificar: {', '.join(columnas_json)}\")\n",
    "\n",
    "    # 2. Leer los datos de la tabla (solo columnas necesarias)\n",
    "    columnas_str = ', '.join(['id'] + columnas_json)\n",
    "    query = f\"SELECT {columnas_str} FROM {tabla}\"\n",
    "    \n",
    "    try:\n",
    "        df = pd.read_sql(query, con=engine)\n",
    "    except Exception as e:\n",
    "        print(f\"❌ Error al leer la tabla '{tabla}': {e}\")\n",
    "        return\n",
    "\n",
    "    # 3. Función para extraer la clave deseada\n",
    "    def extraer_clave(celda):\n",
    "        if not celda:\n",
    "            return None\n",
    "        try:\n",
    "            data = json.loads(celda)\n",
    "            if isinstance(data, dict):\n",
    "                return data.get(clave)\n",
    "        except:\n",
    "            return None\n",
    "\n",
    "    # 4. Limpiar cada columna JSON\n",
    "    for col in columnas_json:\n",
    "        df[col] = df[col].apply(extraer_clave)\n",
    "\n",
    "    # 5. Actualizar base de datos\n",
    "    try:\n",
    "        with engine.begin() as conn:\n",
    "            for _, row in df.iterrows():\n",
    "                valores = {col: row[col] for col in columnas_json}\n",
    "                valores[\"id\"] = row[\"id\"]\n",
    "\n",
    "                set_clause = \", \".join([f\"{col} = :{col}\" for col in columnas_json])\n",
    "                update_query = f\"UPDATE {tabla} SET {set_clause} WHERE id = :id\"\n",
    "\n",
    "                conn.execute(text(update_query), valores)\n",
    "\n",
    "        print(f\"✅ Limpieza finalizada correctamente en tabla '{tabla}'\")\n",
    "    except Exception as e:\n",
    "        print(f\"❌ Error al actualizar la tabla '{tabla}': {e}\")\n"
   ]
  },
  {
   "cell_type": "code",
   "execution_count": 10,
   "id": "8078d3ba",
   "metadata": {},
   "outputs": [
    {
     "name": "stdout",
     "output_type": "stream",
     "text": [
      "\n",
      "🔧 Iniciando limpieza de tabla: warehouses\n",
      "⚠️  No se encontraron columnas JSON registradas para la tabla 'warehouses'.\n"
     ]
    }
   ],
   "source": [
    "limpiar_json_y_actualizar(\"warehouses\", clave=\"description\")\n"
   ]
  }
 ],
 "metadata": {
  "kernelspec": {
   "display_name": ".venv",
   "language": "python",
   "name": "python3"
  },
  "language_info": {
   "codemirror_mode": {
    "name": "ipython",
    "version": 3
   },
   "file_extension": ".py",
   "mimetype": "text/x-python",
   "name": "python",
   "nbconvert_exporter": "python",
   "pygments_lexer": "ipython3",
   "version": "3.13.2"
  }
 },
 "nbformat": 4,
 "nbformat_minor": 5
}
