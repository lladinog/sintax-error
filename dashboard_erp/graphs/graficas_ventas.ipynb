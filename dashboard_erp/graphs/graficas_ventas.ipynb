{
 "cells": [
  {
   "cell_type": "code",
   "execution_count": 1,
   "id": "8d784603",
   "metadata": {},
   "outputs": [],
   "source": [
    "# Librerias de manejo de datos\n",
    "import pandas as pd"
   ]
  },
  {
   "cell_type": "code",
   "execution_count": 2,
   "id": "1196393a",
   "metadata": {},
   "outputs": [
    {
     "name": "stdout",
     "output_type": "stream",
     "text": [
      "✅ Conexión exitosa a la base de datos\n"
     ]
    }
   ],
   "source": [
    "# Importar conexión\n",
    "from db_connection import get_connection\n",
    "\n",
    "# Conectarse a la base de datos\n",
    "conexion = get_connection()\n",
    "cursor = conexion.cursor()\n"
   ]
  },
  {
   "cell_type": "code",
   "execution_count": 3,
   "id": "a54bb3dc",
   "metadata": {},
   "outputs": [],
   "source": [
    "# Importar librerías para la conexión a la base de datos con SQLAlchemy\n",
    "from db_connection import get_engine\n",
    "\n",
    "engine = get_engine()"
   ]
  },
  {
   "cell_type": "code",
   "execution_count": 4,
   "id": "a56cd5a9",
   "metadata": {},
   "outputs": [
    {
     "name": "stdout",
     "output_type": "stream",
     "text": [
      "Total de tablas encontradas: 48\n"
     ]
    }
   ],
   "source": [
    "# 📌 Obtener todas las tablas\n",
    "cursor.execute(\"SHOW TABLES;\")\n",
    "tablas = [fila[0] for fila in cursor.fetchall()]\n",
    "print(f\"Total de tablas encontradas: {len(tablas)}\")\n"
   ]
  }
 ],
 "metadata": {
  "kernelspec": {
   "display_name": ".venv",
   "language": "python",
   "name": "python3"
  },
  "language_info": {
   "codemirror_mode": {
    "name": "ipython",
    "version": 3
   },
   "file_extension": ".py",
   "mimetype": "text/x-python",
   "name": "python",
   "nbconvert_exporter": "python",
   "pygments_lexer": "ipython3",
   "version": "3.10.4"
  }
 },
 "nbformat": 4,
 "nbformat_minor": 5
}
